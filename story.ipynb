{
 "cells": [
  {
   "cell_type": "code",
   "execution_count": 1,
   "metadata": {
    "collapsed": true
   },
   "outputs": [],
   "source": [
    "import numpy as np\n",
    "import pandas as pd\n",
    "import utm\n",
    "import math\n",
    "import pickle\n",
    "import os\n",
    "import sys\n",
    "sys.path.append('./src')\n",
    "import time\n",
    "import datetime\n",
    "from collections import defaultdict\n",
    "import matplotlib\n",
    "import matplotlib.pyplot as plt\n",
    "from shapely.geometry import Point, LineString\n",
    "import copy\n",
    "\n",
    "import display_gm\n",
    "import display_osm\n",
    "import plot\n",
    "import tools\n",
    "import pygrid\n",
    "import hmm, uni_hmm, split\n",
    "import celltower as ctcrawler\n",
    "from data_cleaning import noise, load, counter"
   ]
  },
  {
   "cell_type": "markdown",
   "metadata": {},
   "source": [
    "# Load Data"
   ]
  },
  {
   "cell_type": "code",
   "execution_count": 267,
   "metadata": {
    "collapsed": true
   },
   "outputs": [],
   "source": [
    "load = reload(load)\n",
    "dataset = 'jiading'\n",
    "datatype = '2g'\n",
    "data_file = './data/%s_%s/data_%s.csv' % (dataset, datatype, datatype)\n",
    "gongcan_file = './data/%s_%s/gongcan_%s.csv' % (dataset, datatype, datatype)\n",
    "disp_path = './display/%s_%s/' % (dataset, datatype)\n",
    "data_path = './data/%s_%s/' % (dataset, datatype)\n",
    "map_file = './data/%s_map/%s_EdgeGeometry.txt' % (dataset, dataset)"
   ]
  },
  {
   "cell_type": "code",
   "execution_count": 434,
   "metadata": {
    "collapsed": false
   },
   "outputs": [
    {
     "name": "stdout",
     "output_type": "stream",
     "text": [
      "Unique Cell Tower:  81\n",
      "Duplicated cell towers: [[66, 67, 68], [35, 36], [53, 54], [69, 70, 71], [40, 41], [56, 57], [61, 62, 63]]\n",
      "Totally duplicate: 86\n",
      "len(db): 72 len(towers): 91\n"
     ]
    }
   ],
   "source": [
    "db, db_gps, towers = load.load_data(data_file, gongcan_file, merge_tower=False, neighbor=True, with_rssi=False, radio_angle=False, context=False)\n",
    "print 'len(db):', len(db), 'len(towers):', len(towers)"
   ]
  },
  {
   "cell_type": "code",
   "execution_count": 435,
   "metadata": {
    "collapsed": false
   },
   "outputs": [
    {
     "data": {
      "text/plain": [
       "[(31.29184524, 121.21368387, 62, 70, 0.0, 1507627341L),\n",
       " (31.28926598, 121.21361016, 62, 70, 0.68, 1507627346L),\n",
       " (31.28922812, 121.21357512, 63, 70, 0.0, 1507627351L),\n",
       " (31.28926254, 121.21358264, 63, 70, 0.0, 1507627356L),\n",
       " (31.28928476, 121.21360502, 63, 70, 0.0, 1507627359L)]"
      ]
     },
     "execution_count": 435,
     "metadata": {},
     "output_type": "execute_result"
    }
   ],
   "source": [
    "db_gps[0][:5]"
   ]
  },
  {
   "cell_type": "markdown",
   "metadata": {},
   "source": [
    "# Data Cleaning"
   ]
  },
  {
   "cell_type": "code",
   "execution_count": 436,
   "metadata": {
    "collapsed": false
   },
   "outputs": [
    {
     "name": "stdout",
     "output_type": "stream",
     "text": [
      "Traj ID=0\n",
      "0->1:286m\t\n",
      "discard[0:0]=0m\tkeep[1:25]as id=0\t\n",
      "Traj ID=1\n",
      "7->8:510m\t\n",
      "discard[0:7]=0m\tkeep[8:158]as id=1\t\n",
      "Traj ID=2\n",
      "1->2:330m\t\n",
      "discard[0:1]=0m\tkeep[2:78]as id=2\t\n",
      "Traj ID=3\n",
      "\n",
      "keep[0:34]as id=3\t\n",
      "Traj ID=4\n",
      "0->1:394m\t\n",
      "discard[0:0]=0m\tkeep[1:45]as id=4\t\n",
      "Traj ID=5\n",
      "1->2:118m\t\n",
      "discard[0:1]=0m\tkeep[2:50]as id=5\t\n",
      "Traj ID=6\n",
      "1->2:522m\t112->113:752m\t133->134:116m\t\n",
      "discard[0:1]=0m\ttrimed[0,89] keep[2:23]as id=6\tdiscard[113:133]=33m\tdiscard[134:135]=0m\t\n",
      "Traj ID=7\n",
      "9->10:101m\t\n",
      "discard[0:9]=0m\tkeep[10:113]as id=7\t\n",
      "Traj ID=8\n",
      "\n",
      "keep[0:374]as id=8\t\n",
      "Traj ID=9\n",
      "1->2:947m\t\n",
      "discard[0:1]=0m\tkeep[2:342]as id=9\t\n",
      "Traj ID=10\n",
      "\n",
      "keep[0:421]as id=10\t\n",
      "Traj ID=11\n",
      "\n",
      "keep[0:296]as id=11\t\n",
      "Traj ID=12\n",
      "\n",
      "keep[0:423]as id=12\t\n",
      "Traj ID=13\n",
      "35->36:838m\t\n",
      "discard[0:35]=0m\tkeep[36:1016]as id=13\t\n",
      "Traj ID=14\n",
      "\n",
      "keep[0:827]as id=14\t\n",
      "Traj ID=15\n",
      "42->43:667m\t\n",
      "keep[0:43]as id=15\tkeep[43:115]as id=16\t\n",
      "Traj ID=16\n",
      "2->3:482m\t345->346:714m\t\n",
      "discard[0:2]=0m\tkeep[3:346]as id=17\tkeep[346:854]as id=18\t\n",
      "Traj ID=17\n",
      "\n",
      "trimed[1,12] keep[1:234]as id=19\t\n",
      "Traj ID=18\n",
      "3->4:150m\t\n",
      "discard[0:3]=0m\ttrimed[5,92] keep[9:255]as id=20\t\n",
      "Traj ID=19\n",
      "98->99:468m\t\n",
      "discard[0:98]=0m\tkeep[99:327]as id=21\t\n",
      "Traj ID=20\n",
      "\n",
      "keep[0:190]as id=22\t\n",
      "Traj ID=21\n",
      "40->41:104m\t\n",
      "discard[0:40]=58m\tkeep[41:257]as id=23\t\n",
      "Traj ID=22\n",
      "8->9:569m\t\n",
      "discard[0:8]=0m\tkeep[9:190]as id=24\t\n",
      "Traj ID=23\n",
      "\n",
      "keep[0:427]as id=25\t\n",
      "Traj ID=24\n",
      "3->4:1075m\t\n",
      "discard[0:3]=0m\tkeep[4:189]as id=26\t\n",
      "Traj ID=25\n",
      "5->6:479m\t\n",
      "discard[0:5]=0m\ttrimed[7,28] keep[13:271]as id=27\t\n",
      "Traj ID=26\n",
      "38->39:917m\t\n",
      "discard[0:38]=0m\tkeep[39:419]as id=28\t\n",
      "Traj ID=27\n",
      "31->32:180m\t\n",
      "discard[0:31]=0m\ttrimed[1,11] keep[33:518]as id=29\t\n",
      "Traj ID=28\n",
      "\n",
      "keep[0:85]as id=30\t\n",
      "Traj ID=29\n",
      "\n",
      "keep[0:89]as id=31\t\n",
      "Traj ID=30\n",
      "\n",
      "keep[0:61]as id=32\t\n",
      "Traj ID=31\n",
      "\n",
      "keep[0:146]as id=33\t\n",
      "Traj ID=32\n",
      "\n",
      "keep[0:240]as id=34\t\n",
      "Traj ID=33\n",
      "\n",
      "keep[0:80]as id=35\t\n",
      "Traj ID=34\n",
      "\n",
      "keep[0:109]as id=36\t\n",
      "Traj ID=35\n",
      "\n",
      "keep[0:120]as id=37\t\n",
      "Traj ID=36\n",
      "\n",
      "keep[0:90]as id=38\t\n",
      "Traj ID=37\n",
      "\n",
      "keep[0:114]as id=39\t\n",
      "Traj ID=38\n",
      "\n",
      "keep[0:88]as id=40\t\n",
      "Traj ID=39\n",
      "\n",
      "keep[0:181]as id=41\t\n",
      "Traj ID=40\n",
      "\n",
      "keep[0:54]as id=42\t\n",
      "Traj ID=41\n",
      "\n",
      "keep[0:98]as id=43\t\n",
      "Traj ID=42\n",
      "\n",
      "keep[0:136]as id=44\t\n",
      "Traj ID=43\n",
      "\n",
      "keep[0:76]as id=45\t\n",
      "Traj ID=44\n",
      "\n",
      "keep[0:54]as id=46\t\n",
      "Traj ID=45\n",
      "\n",
      "keep[0:76]as id=47\t\n",
      "Traj ID=46\n",
      "\n",
      "keep[0:76]as id=48\t\n",
      "Traj ID=47\n",
      "1->2:605m\t\n",
      "discard[0:1]=0m\tkeep[2:54]as id=49\t\n",
      "Traj ID=48\n",
      "\n",
      "trimed[4,16] keep[4:222]as id=50\t\n",
      "Traj ID=49\n",
      "\n",
      "keep[0:322]as id=51\t\n",
      "Traj ID=50\n",
      "2->3:125m\t\n",
      "discard[0:2]=0m\tkeep[3:113]as id=52\t\n",
      "Traj ID=51\n",
      "0->1:281m\t\n",
      "discard[0:0]=0m\tkeep[1:76]as id=53\t\n",
      "Traj ID=52\n",
      "\n",
      "keep[0:52]as id=54\t\n",
      "Traj ID=53\n",
      "1->2:157m\t\n",
      "discard[0:1]=0m\tkeep[2:75]as id=55\t\n",
      "Traj ID=54\n",
      "\n",
      "keep[0:55]as id=56\t\n",
      "Traj ID=55\n",
      "\n",
      "keep[0:51]as id=57\t\n",
      "Traj ID=56\n",
      "\n",
      "keep[0:58]as id=58\t\n",
      "Traj ID=57\n",
      "1->2:121m\t\n",
      "discard[0:1]=0m\tkeep[2:49]as id=59\t\n",
      "Traj ID=58\n",
      "\n",
      "keep[0:107]as id=60\t\n",
      "Traj ID=59\n",
      "0->1:274m\t\n",
      "discard[0:0]=0m\tkeep[1:86]as id=61\t\n",
      "Traj ID=60\n",
      "11->12:143m\t\n",
      "discard[0:11]=0m\tkeep[12:60]as id=62\t\n",
      "Traj ID=61\n",
      "26->27:360m\t\n",
      "discard[0:26]=0m\tkeep[27:61]as id=63\t\n",
      "Traj ID=62\n",
      "\n",
      "keep[0:85]as id=64\t\n",
      "Traj ID=63\n",
      "\n",
      "keep[0:485]as id=65\t\n",
      "Traj ID=64\n",
      "\n",
      "keep[0:62]as id=66\t\n",
      "Traj ID=65\n",
      "\n",
      "keep[0:89]as id=67\t\n",
      "Traj ID=66\n",
      "\n",
      "keep[0:90]as id=68\t\n",
      "Traj ID=67\n",
      "\n",
      "keep[0:81]as id=69\t\n",
      "Traj ID=68\n",
      "19->20:108m\t\n",
      "discard[0:19]=0m\tkeep[20:65]as id=70\t\n",
      "Traj ID=69\n",
      "\n",
      "trimed[2,15] keep[2:69]as id=71\t\n",
      "Traj ID=70\n",
      "\n",
      "keep[0:50]as id=72\t\n",
      "Traj ID=71\n",
      "25->26:353m\t\n",
      "discard[0:25]=0m\tkeep[26:76]as id=73\t\n"
     ]
    },
    {
     "data": {
      "text/plain": [
       "(74, 74)"
      ]
     },
     "execution_count": 436,
     "metadata": {},
     "output_type": "execute_result"
    }
   ],
   "source": [
    "noise = reload(noise)\n",
    "max_dist, min_dist, min_len, max_again = noise.get_config(dataset, datatype)\n",
    "dbs = noise.clean_db(db, max_dist, min_dist, min_len, max_again, debug=True)\n",
    "dbs_gps = noise.clean_db_gps(db_gps, max_dist, min_dist, min_len, max_again, debug=False)\n",
    "len(dbs), len(dbs_gps)"
   ]
  },
  {
   "cell_type": "code",
   "execution_count": 419,
   "metadata": {
    "collapsed": false
   },
   "outputs": [
    {
     "data": {
      "text/plain": [
       "[(31.29184524, 121.21368387, 62, 0.0, 1507627341L),\n",
       " (31.28926598, 121.21361016, 62, 0.68, 1507627346L),\n",
       " (31.28922812, 121.21357512, 63, 0.0, 1507627351L),\n",
       " (31.28926254, 121.21358264, 63, 0.0, 1507627356L),\n",
       " (31.28928476, 121.21360502, 63, 0.0, 1507627359L)]"
      ]
     },
     "execution_count": 419,
     "metadata": {},
     "output_type": "execute_result"
    }
   ],
   "source": [
    "db_gps[0][:5]"
   ]
  },
  {
   "cell_type": "markdown",
   "metadata": {},
   "source": [
    "# Ground Truth"
   ]
  },
  {
   "cell_type": "code",
   "execution_count": 437,
   "metadata": {
    "collapsed": false
   },
   "outputs": [
    {
     "name": "stdout",
     "output_type": "stream",
     "text": [
      "traj id= 1 150 140\n",
      "traj id= 13 980 976\n",
      "traj id= 22 190 167\n",
      "traj id= 23 216 198\n",
      "traj id= 25 427 420\n",
      "traj id= 26 185 149\n",
      "traj id= 41 181 173\n",
      "traj id= 44 136 131\n",
      "traj id= 50 219 218\n",
      "traj id= 51 322 316\n",
      "traj id= 63 34 32\n",
      "traj id= 67 89 87\n",
      "traj id= 72 50 44\n"
     ]
    }
   ],
   "source": [
    "load = reload(load)\n",
    "match_res, time_set = load.load_matching(data_path + 'matching_out', len(dbs), 50)\n",
    "dbs = noise.reclean(dbs, time_set, debug=True)\n",
    "dbs_gps = noise.reclean(dbs_gps, time_set)"
   ]
  },
  {
   "cell_type": "markdown",
   "metadata": {},
   "source": [
    "# Split Data"
   ]
  },
  {
   "cell_type": "code",
   "execution_count": 438,
   "metadata": {
    "collapsed": true
   },
   "outputs": [],
   "source": [
    "split = reload(split)\n",
    "# train:(origin idx, origin feature)\n",
    "# train, test = hmm.k_split(dbs, k=4)\n",
    "train, test, gps3 = split.k_g_split(dbs, k=4, gpsize=0.0)\n",
    "# train, test = hmm.hand_split(dbs, k=2)\n",
    "# len(gps3)"
   ]
  },
  {
   "cell_type": "code",
   "execution_count": 439,
   "metadata": {
    "collapsed": false,
    "scrolled": true
   },
   "outputs": [
    {
     "data": {
      "text/plain": [
       "({(7, 32), (9, -1), (61, 62), (68, -1), (68, 67)}, 5)"
      ]
     },
     "execution_count": 439,
     "metadata": {},
     "output_type": "execute_result"
    }
   ],
   "source": [
    "train_set = set()\n",
    "for tr_id, traj in train.iteritems():\n",
    "    for point in traj:\n",
    "        train_set.add(point[1][2:-2])\n",
    "test_set = set()\n",
    "cnt = 0\n",
    "for tr_id, traj in test.iteritems():\n",
    "    for point in traj:\n",
    "        obsv = point[1][2:-2]\n",
    "        if obsv not in train_set:\n",
    "            cnt += 1\n",
    "        test_set.add(point[1][2:-2])\n",
    "test_set-train_set, cnt"
   ]
  },
  {
   "cell_type": "code",
   "execution_count": 303,
   "metadata": {
    "collapsed": true
   },
   "outputs": [],
   "source": [
    "bounding_box = (328000, 331000, 3462000, 3465000)\n",
    "side = 30\n",
    "grid = pygrid.Grid(side, bounding_box)"
   ]
  },
  {
   "cell_type": "code",
   "execution_count": 304,
   "metadata": {
    "collapsed": false
   },
   "outputs": [],
   "source": [
    "tools = reload(tools)"
   ]
  },
  {
   "cell_type": "markdown",
   "metadata": {},
   "source": [
    "# Slice Roadmap"
   ]
  },
  {
   "cell_type": "code",
   "execution_count": 336,
   "metadata": {
    "collapsed": false
   },
   "outputs": [],
   "source": [
    "roadmap = load.load_map(map_file)\n",
    "slice_map = tools.make_map(grid, roadmap, 150, 1)"
   ]
  },
  {
   "cell_type": "code",
   "execution_count": 337,
   "metadata": {
    "collapsed": false
   },
   "outputs": [],
   "source": [
    "for rid in slice_map.iterkeys():\n",
    "    if len(slice_map[rid]) == 0:\n",
    "        print rid"
   ]
  },
  {
   "cell_type": "markdown",
   "metadata": {},
   "source": [
    "# Layer 1"
   ]
  },
  {
   "cell_type": "code",
   "execution_count": 343,
   "metadata": {
    "collapsed": true
   },
   "outputs": [],
   "source": [
    "from sklearn.ensemble import RandomForestClassifier\n",
    "from sklearn.naive_bayes import GaussianNB"
   ]
  },
  {
   "cell_type": "code",
   "execution_count": 445,
   "metadata": {
    "collapsed": false
   },
   "outputs": [
    {
     "name": "stdout",
     "output_type": "stream",
     "text": [
      "0 9371\n",
      "0 3123\n"
     ]
    }
   ],
   "source": [
    "def make_data(db):\n",
    "    X, Y = [], []\n",
    "    range_dict = dict()\n",
    "    start_idx = 0\n",
    "    cnt = 0\n",
    "    for tr_id, traj in db.iteritems():\n",
    "        piece_match = match_res[tr_id]\n",
    "        for old_idx, point in traj:\n",
    "            obsv = point[2:-2]\n",
    "            rid, lat, lng = piece_match[old_idx][3:6]\n",
    "            x, y, _, _ = utm.from_latlon(lat, lng)\n",
    "            cid = grid.utm2cell(x, y)\n",
    "            state = -1\n",
    "            for big_id, cells in slice_map[rid].iteritems():\n",
    "                if cid in cells:\n",
    "                    state = big_id\n",
    "            if state == -1:\n",
    "                cnt += 1\n",
    "            X.append(obsv)\n",
    "            Y.append(state)\n",
    "        range_dict[tr_id] = (start_idx, len(X))\n",
    "        start_idx = len(X)\n",
    "    print cnt, len(X)\n",
    "    return X, Y, range_dict\n",
    "X_train, Y_train, _ = make_data(train)\n",
    "X_test, Y_test, range_dict = make_data(new_test)"
   ]
  },
  {
   "cell_type": "code",
   "execution_count": 446,
   "metadata": {
    "collapsed": false
   },
   "outputs": [
    {
     "data": {
      "text/plain": [
       "RandomForestClassifier(bootstrap=True, class_weight=None, criterion='gini',\n",
       "            max_depth=None, max_features='auto', max_leaf_nodes=None,\n",
       "            min_impurity_split=1e-07, min_samples_leaf=1,\n",
       "            min_samples_split=2, min_weight_fraction_leaf=0.0,\n",
       "            n_estimators=10, n_jobs=1, oob_score=False, random_state=None,\n",
       "            verbose=0, warm_start=False)"
      ]
     },
     "execution_count": 446,
     "metadata": {},
     "output_type": "execute_result"
    }
   ],
   "source": [
    "model = RandomForestClassifier()\n",
    "model.fit(X_train, Y_train)"
   ]
  },
  {
   "cell_type": "code",
   "execution_count": 447,
   "metadata": {
    "collapsed": false
   },
   "outputs": [
    {
     "data": {
      "text/plain": [
       "(array([  0,   1,   2,   3,   4,   9,  13,  25,  35,  37,  41,  56,  57,\n",
       "         58,  84,  88,  92,  95, 114, 115, 116, 117, 118, 119, 120, 125,\n",
       "        126, 127, 129, 130, 131, 133, 145, 146, 169, 170, 171, 172, 173,\n",
       "        174, 175, 176, 177, 178, 181, 182, 183, 194, 195, 196, 201, 202,\n",
       "        203, 204, 205, 206, 207, 210, 211, 213, 214, 215, 216, 217, 218,\n",
       "        220, 224, 225, 226, 227, 228, 229, 231, 233, 234, 235, 236, 237,\n",
       "        238, 239, 240, 241, 244, 247, 248, 249, 250, 251, 252, 255, 256,\n",
       "        257, 258, 259, 260, 261, 262, 264, 265, 267, 268, 270, 272, 276,\n",
       "        277, 278, 279, 280, 281, 283, 284, 285, 286, 287, 288, 289, 297,\n",
       "        298, 299, 300, 306, 308, 320, 325, 340, 344, 346, 347]), 128)"
      ]
     },
     "execution_count": 447,
     "metadata": {},
     "output_type": "execute_result"
    }
   ],
   "source": [
    "model.classes_, len(model.classes_)"
   ]
  },
  {
   "cell_type": "code",
   "execution_count": 448,
   "metadata": {
    "collapsed": false
   },
   "outputs": [],
   "source": [
    "Y_predict = model.predict_proba(X_test)"
   ]
  },
  {
   "cell_type": "code",
   "execution_count": 449,
   "metadata": {
    "collapsed": false
   },
   "outputs": [],
   "source": [
    "help_dict = dict()\n",
    "min_len = 10\n",
    "for tr_id in range_dict.iterkeys():\n",
    "    s_idx, e_idx = range_dict[tr_id]\n",
    "    help_dict[tr_id] = []\n",
    "    for i, piece in enumerate(Y_predict[s_idx:e_idx]):\n",
    "        length = len(set(piece)) - 1\n",
    "#         k = min(min_len, length)\n",
    "        k = length\n",
    "        idxes = sorted(range(len(piece)), key=lambda x: piece[x], reverse=True)[:k]\n",
    "        prob_info = dict()\n",
    "        for idx in idxes:\n",
    "            prob_info[model.classes_[idx]] = piece[idx]\n",
    "        help_dict[tr_id].append(prob_info)"
   ]
  },
  {
   "cell_type": "code",
   "execution_count": 451,
   "metadata": {
    "collapsed": false,
    "scrolled": true
   },
   "outputs": [
    {
     "name": "stdout",
     "output_type": "stream",
     "text": [
      "TrajID= 0 i= 2\n",
      "TrajID= 1 i= 9\n",
      "TrajID= 1 i= 16\n",
      "TrajID= 1 i= 18\n",
      "TrajID= 1 i= 19\n",
      "TrajID= 7 i= 3\n",
      "TrajID= 8 i= 22\n",
      "TrajID= 8 i= 50\n",
      "TrajID= 8 i= 51\n",
      "TrajID= 8 i= 52\n",
      "TrajID= 8 i= 53\n",
      "TrajID= 8 i= 54\n",
      "TrajID= 8 i= 66\n",
      "TrajID= 8 i= 70\n",
      "TrajID= 8 i= 71\n",
      "TrajID= 8 i= 72\n",
      "TrajID= 8 i= 75\n",
      "TrajID= 8 i= 76\n",
      "TrajID= 8 i= 84\n",
      "TrajID= 9 i= 24\n",
      "TrajID= 9 i= 25\n",
      "TrajID= 9 i= 52\n",
      "TrajID= 9 i= 81\n",
      "TrajID= 10 i= 2\n",
      "TrajID= 10 i= 3\n",
      "TrajID= 10 i= 41\n",
      "TrajID= 11 i= 49\n",
      "TrajID= 12 i= 15\n",
      "TrajID= 13 i= 81\n",
      "TrajID= 13 i= 109\n",
      "TrajID= 14 i= 20\n",
      "TrajID= 14 i= 29\n",
      "TrajID= 14 i= 30\n",
      "TrajID= 14 i= 31\n",
      "TrajID= 14 i= 185\n",
      "TrajID= 18 i= 55\n",
      "TrajID= 22 i= 35\n",
      "TrajID= 23 i= 26\n",
      "TrajID= 25 i= 0\n",
      "TrajID= 29 i= 20\n",
      "TrajID= 29 i= 21\n",
      "TrajID= 29 i= 22\n",
      "TrajID= 30 i= 12\n",
      "TrajID= 35 i= 7\n",
      "TrajID= 35 i= 8\n",
      "TrajID= 35 i= 9\n",
      "TrajID= 35 i= 16\n",
      "TrajID= 38 i= 5\n",
      "TrajID= 38 i= 6\n",
      "TrajID= 38 i= 19\n",
      "TrajID= 38 i= 21\n",
      "TrajID= 39 i= 0\n",
      "TrajID= 39 i= 1\n",
      "TrajID= 39 i= 2\n",
      "TrajID= 39 i= 23\n",
      "TrajID= 40 i= 0\n",
      "TrajID= 40 i= 1\n",
      "TrajID= 41 i= 10\n",
      "TrajID= 41 i= 21\n",
      "TrajID= 43 i= 0\n",
      "TrajID= 43 i= 1\n",
      "TrajID= 43 i= 7\n",
      "TrajID= 44 i= 15\n",
      "TrajID= 44 i= 16\n",
      "TrajID= 45 i= 6\n",
      "TrajID= 46 i= 0\n",
      "TrajID= 46 i= 5\n",
      "TrajID= 48 i= 0\n",
      "TrajID= 50 i= 36\n",
      "TrajID= 50 i= 37\n",
      "TrajID= 51 i= 12\n",
      "TrajID= 51 i= 21\n",
      "TrajID= 51 i= 22\n",
      "TrajID= 51 i= 66\n",
      "TrajID= 51 i= 67\n",
      "TrajID= 51 i= 68\n",
      "TrajID= 53 i= 7\n",
      "TrajID= 53 i= 8\n",
      "TrajID= 55 i= 8\n",
      "TrajID= 57 i= 8\n",
      "TrajID= 60 i= 6\n",
      "TrajID= 60 i= 7\n",
      "TrajID= 61 i= 0\n",
      "TrajID= 61 i= 1\n",
      "TrajID= 61 i= 5\n",
      "TrajID= 63 i= 0\n",
      "TrajID= 63 i= 1\n",
      "TrajID= 63 i= 2\n",
      "TrajID= 63 i= 3\n",
      "TrajID= 64 i= 4\n",
      "TrajID= 67 i= 8\n",
      "TrajID= 69 i= 0\n",
      "TrajID= 69 i= 6\n",
      "TrajID= 69 i= 7\n",
      "TrajID= 69 i= 11\n",
      "TrajID= 69 i= 12\n",
      "TrajID= 69 i= 13\n",
      "TrajID= 71 i= 4\n"
     ]
    },
    {
     "data": {
      "text/plain": [
       "(98, 0.9686199167467179)"
      ]
     },
     "execution_count": 451,
     "metadata": {},
     "output_type": "execute_result"
    }
   ],
   "source": [
    "summary = dict()\n",
    "cnt = 0\n",
    "# statist = []\n",
    "result = []\n",
    "min_len = 10\n",
    "for tr_id in range_dict.iterkeys():\n",
    "    s_idx, e_idx = range_dict[tr_id]\n",
    "    for i, piece in enumerate(Y_predict[s_idx:e_idx]):\n",
    "        length = len(set(piece)) - 1\n",
    "        k = min(min_len, length)\n",
    "#         k = length\n",
    "        result.append(length)\n",
    "        idxes = sorted(range(len(piece)), key=lambda x: piece[x], reverse=True)[:k]\n",
    "        rids = [model.classes_[idx] for idx in idxes]\n",
    "        if Y_test[i + s_idx] in rids:\n",
    "    #         statist.append((i, rids.index(Y_test[i]), length))\n",
    "            cnt += 1\n",
    "        else:\n",
    "            print 'TrajID=', tr_id, 'i=',i\n",
    "(len(Y_predict) - cnt, cnt * 1.0 / len(Y_test))"
   ]
  },
  {
   "cell_type": "code",
   "execution_count": 175,
   "metadata": {
    "collapsed": false
   },
   "outputs": [
    {
     "data": {
      "text/plain": [
       "{1: (5, 0.9983085250338295),\n",
       " 2: (5, 0.9983085250338295),\n",
       " 3: (5, 0.9983085250338295),\n",
       " 4: (5, 0.9983085250338295),\n",
       " 5: (5, 0.9983085250338295),\n",
       " 6: (5, 0.9983085250338295),\n",
       " 7: (5, 0.9983085250338295),\n",
       " 8: (5, 0.9983085250338295),\n",
       " 9: (5, 0.9983085250338295),\n",
       " 10: (5, 0.9983085250338295)}"
      ]
     },
     "execution_count": 175,
     "metadata": {},
     "output_type": "execute_result"
    }
   ],
   "source": [
    "summary"
   ]
  },
  {
   "cell_type": "code",
   "execution_count": 405,
   "metadata": {
    "collapsed": false
   },
   "outputs": [
    {
     "data": {
      "text/plain": [
       "(3.778613472858077, 3.0, 14, 1)"
      ]
     },
     "execution_count": 405,
     "metadata": {},
     "output_type": "execute_result"
    }
   ],
   "source": [
    "np.mean(result), np.median(result), max(result), min(result)"
   ]
  },
  {
   "cell_type": "code",
   "execution_count": null,
   "metadata": {
    "collapsed": false
   },
   "outputs": [],
   "source": [
    "plt.figure(figsize=(20, 10))\n",
    "# plt.plot(one_ids.keys(), one_ids.values())\n",
    "# plt.plot(two_ids.keys(), two_ids.values())\n",
    "plt.plot(summary.keys(), summary.values())\n",
    "xticks = (str(x) for x in summary.keys())\n",
    "plt.xticks(summary.keys(), xticks)\n",
    "# plt.legend(['ID1', 'ID1ID2', 'Context_ID1'], loc='best')\n",
    "plt.title('RF predict_proba result')\n",
    "plt.xlabel('min candidate')\n",
    "plt.ylabel('predict_proba result')\n",
    "plt.show()\n",
    "# plt.savefig('./display/deepin/RF_predict_proba.png')"
   ]
  },
  {
   "cell_type": "code",
   "execution_count": 110,
   "metadata": {
    "collapsed": false
   },
   "outputs": [
    {
     "data": {
      "text/html": [
       "<div>\n",
       "<table border=\"1\" class=\"dataframe\">\n",
       "  <thead>\n",
       "    <tr style=\"text-align: right;\">\n",
       "      <th></th>\n",
       "      <th>i</th>\n",
       "      <th>index</th>\n",
       "      <th>length</th>\n",
       "    </tr>\n",
       "  </thead>\n",
       "  <tbody>\n",
       "    <tr>\n",
       "      <th>count</th>\n",
       "      <td>2775.000000</td>\n",
       "      <td>2775.000000</td>\n",
       "      <td>2775.000000</td>\n",
       "    </tr>\n",
       "    <tr>\n",
       "      <th>mean</th>\n",
       "      <td>1508.603964</td>\n",
       "      <td>0.405405</td>\n",
       "      <td>4.777658</td>\n",
       "    </tr>\n",
       "    <tr>\n",
       "      <th>std</th>\n",
       "      <td>876.029164</td>\n",
       "      <td>0.653568</td>\n",
       "      <td>3.555402</td>\n",
       "    </tr>\n",
       "    <tr>\n",
       "      <th>min</th>\n",
       "      <td>2.000000</td>\n",
       "      <td>0.000000</td>\n",
       "      <td>1.000000</td>\n",
       "    </tr>\n",
       "    <tr>\n",
       "      <th>25%</th>\n",
       "      <td>762.500000</td>\n",
       "      <td>0.000000</td>\n",
       "      <td>2.000000</td>\n",
       "    </tr>\n",
       "    <tr>\n",
       "      <th>50%</th>\n",
       "      <td>1489.000000</td>\n",
       "      <td>0.000000</td>\n",
       "      <td>4.000000</td>\n",
       "    </tr>\n",
       "    <tr>\n",
       "      <th>75%</th>\n",
       "      <td>2221.500000</td>\n",
       "      <td>1.000000</td>\n",
       "      <td>7.000000</td>\n",
       "    </tr>\n",
       "    <tr>\n",
       "      <th>max</th>\n",
       "      <td>3087.000000</td>\n",
       "      <td>2.000000</td>\n",
       "      <td>26.000000</td>\n",
       "    </tr>\n",
       "  </tbody>\n",
       "</table>\n",
       "</div>"
      ],
      "text/plain": [
       "                 i        index       length\n",
       "count  2775.000000  2775.000000  2775.000000\n",
       "mean   1508.603964     0.405405     4.777658\n",
       "std     876.029164     0.653568     3.555402\n",
       "min       2.000000     0.000000     1.000000\n",
       "25%     762.500000     0.000000     2.000000\n",
       "50%    1489.000000     0.000000     4.000000\n",
       "75%    2221.500000     1.000000     7.000000\n",
       "max    3087.000000     2.000000    26.000000"
      ]
     },
     "execution_count": 110,
     "metadata": {},
     "output_type": "execute_result"
    }
   ],
   "source": [
    "pd.DataFrame(statist, columns=['i', 'index', 'length']).describe()"
   ]
  },
  {
   "cell_type": "markdown",
   "metadata": {},
   "source": [
    "# Layer 2"
   ]
  },
  {
   "cell_type": "code",
   "execution_count": 440,
   "metadata": {
    "collapsed": true
   },
   "outputs": [],
   "source": [
    "uni_hmm = reload(uni_hmm)"
   ]
  },
  {
   "cell_type": "code",
   "execution_count": 441,
   "metadata": {
    "collapsed": false
   },
   "outputs": [],
   "source": [
    "sag = uni_hmm.Sag(grid, slice_map, 1)"
   ]
  },
  {
   "cell_type": "code",
   "execution_count": 442,
   "metadata": {
    "collapsed": false
   },
   "outputs": [],
   "source": [
    "A, cell_db = sag.get_trans_mat(match_res, gps3.keys())"
   ]
  },
  {
   "cell_type": "code",
   "execution_count": 443,
   "metadata": {
    "collapsed": false
   },
   "outputs": [
    {
     "data": {
      "text/plain": [
       "481"
      ]
     },
     "execution_count": 443,
     "metadata": {},
     "output_type": "execute_result"
    }
   ],
   "source": [
    "B, D = sag.get_obsv_mat(train, match_res, version=0)\n",
    "uni_cells = sag.get_cells(D.keys())\n",
    "len(uni_cells)"
   ]
  },
  {
   "cell_type": "code",
   "execution_count": 444,
   "metadata": {
    "collapsed": false,
    "scrolled": true
   },
   "outputs": [
    {
     "name": "stdout",
     "output_type": "stream",
     "text": [
      "TrajID=9 Before=85 End=84\n",
      "TrajID=10 Before=106 End=105\n",
      "TrajID=11 Before=74 End=73\n",
      "TrajID=18 Before=127 End=126\n",
      "TrajID=29 Before=121 End=120\n"
     ]
    }
   ],
   "source": [
    "# clean test dataset\n",
    "noise = reload(noise)\n",
    "new_test = noise.clean_testset(sag, test, match_res, B, debug=True)"
   ]
  },
  {
   "cell_type": "code",
   "execution_count": 411,
   "metadata": {
    "collapsed": false,
    "scrolled": true
   },
   "outputs": [
    {
     "name": "stdout",
     "output_type": "stream",
     "text": [
      "TrajID=0Len=5 Out=5\n",
      "TrajID=1Len=31 Out=31\n",
      "TrajID=2Len=19 Out=19\n",
      "TrajID=3Len=8 Out=8\n",
      "TrajID=4Len=10 Out=10\n",
      "TrajID=5Len=12 Out=10\n",
      "TrajID=6Len=6 Out=6\n",
      "TrajID=7Len=25 Out=25\n",
      "TrajID=8Len=90 Out=90\n",
      "TrajID=9Len=81 Out=90\n",
      "TrajID=10Len=103 Out=103\n",
      "TrajID=11Len=72 Out=103\n",
      "TrajID=12Len=103 Out=103\n",
      "TrajID=13Len=240 Out=240\n",
      "TrajID=14Len=206 Out=206\n",
      "TrajID=15Len=10 Out=10\n",
      "TrajID=16Len=18 Out=18\n",
      "TrajID=17Len=86 Out=86\n",
      "TrajID=18Len=127 Out=127\n",
      "TrajID=19Len=58 Out=58\n",
      "TrajID=20Len=61 Out=58\n",
      "TrajID=21Len=56 Out=56\n",
      "TrajID=22Len=42 Out=42\n",
      "TrajID=23Len=49 Out=49\n",
      "TrajID=24Len=45 Out=45\n",
      "TrajID=25Len=105 Out=105\n",
      "TrajID=26Len=37 Out=37\n",
      "TrajID=27Len=65 Out=65\n",
      "TrajID=28Len=94 Out=94\n",
      "TrajID=29Len=117 Out=117\n",
      "TrajID=30Len=20 Out=20\n",
      "TrajID=31Len=22 Out=22\n",
      "TrajID=32Len=15 Out=15\n",
      "TrajID=33Len=36 Out=36\n",
      "TrajID=34Len=60 Out=60\n",
      "TrajID=35Len=18 Out=18\n",
      "TrajID=36Len=25 Out=25\n",
      "TrajID=37Len=29 Out=29\n",
      "TrajID=38Len=21 Out=21\n",
      "TrajID=39Len=27 Out=27\n",
      "TrajID=40Len=22 Out=22\n",
      "TrajID=41Len=44 Out=44\n",
      "TrajID=42Len=14 Out=14\n",
      "TrajID=43Len=23 Out=23\n",
      "TrajID=44Len=32 Out=23\n",
      "TrajID=45Len=18 Out=18\n",
      "TrajID=46Len=14 Out=14\n",
      "TrajID=47Len=19 Out=19\n",
      "TrajID=48Len=18 Out=18\n",
      "TrajID=49Len=13 Out=13\n",
      "TrajID=50Len=53 Out=13\n",
      "TrajID=51Len=74 Out=74\n",
      "TrajID=52Len=25 Out=25\n",
      "TrajID=53Len=16 Out=16\n",
      "TrajID=54Len=12 Out=12\n",
      "TrajID=55Len=18 Out=18\n",
      "TrajID=56Len=14 Out=14\n",
      "TrajID=57Len=13 Out=13\n",
      "TrajID=58Len=14 Out=14\n",
      "TrajID=59Len=12 Out=12\n",
      "TrajID=60Len=27 Out=27\n",
      "TrajID=61Len=20 Out=20\n",
      "TrajID=62Len=12 Out=12\n",
      "TrajID=63Len=8 Out=8\n",
      "TrajID=64Len=22 Out=22\n",
      "TrajID=65Len=120 Out=22\n",
      "TrajID=66Len=16 Out=16\n",
      "TrajID=67Len=21 Out=21\n",
      "TrajID=68Len=22 Out=22\n",
      "TrajID=69Len=16 Out=16\n",
      "TrajID=70Len=11 Out=11\n",
      "TrajID=71Len=17 Out=17\n",
      "TrajID=72Len=11 Out=11\n",
      "TrajID=73Len=13 Out=13\n",
      "failed: [] 0\n"
     ]
    }
   ],
   "source": [
    "cell_pred = dict()\n",
    "statistic = []\n",
    "failed_trajs = []\n",
    "for tr_id, traj in new_test.iteritems():\n",
    "    speeds = [point[1][-2] for point in traj]\n",
    "    k = math.floor(np.std(speeds))\n",
    "    noexcept = False\n",
    "    cnt = 0\n",
    "    while noexcept is False and cnt < 10:\n",
    "        noexcept = True\n",
    "        try:\n",
    "            sl, max_prob = sag.viterbi_(A, B, traj, k, help_dict[tr_id])\n",
    "        except:\n",
    "            noexcept = False\n",
    "            k += 1\n",
    "            cnt += 1\n",
    "#     prob = sag.backforward(A, B, traj, match_res[tr_id], k, debug=False)\n",
    "    prob = 0\n",
    "    statistic.append((tr_id, max_prob, prob))\n",
    "    cell_pred[tr_id] = sl\n",
    "    print 'TrajID=' + str(tr_id) + 'Len=' + str(len(traj)), 'Out=' + str(len(sl))\n",
    "print 'failed:', failed_trajs, len(failed_trajs)"
   ]
  },
  {
   "cell_type": "code",
   "execution_count": 412,
   "metadata": {
    "collapsed": false
   },
   "outputs": [],
   "source": [
    "uni_prec, uni_prec_dict = sag.evaluate(new_test, cell_pred, match_res)"
   ]
  },
  {
   "cell_type": "code",
   "execution_count": 413,
   "metadata": {
    "collapsed": true
   },
   "outputs": [],
   "source": [
    "precs = [(tr_id, prec) for tr_id, prec in uni_prec_dict.iteritems()]\n",
    "df_prob = pd.DataFrame(statistic, columns=['TrajID', 'MaxProb', 'RealProb'])\n",
    "df_prec = pd.DataFrame(precs, columns=['TrajID', 'Precision'])"
   ]
  },
  {
   "cell_type": "code",
   "execution_count": 414,
   "metadata": {
    "collapsed": false,
    "scrolled": true
   },
   "outputs": [
    {
     "data": {
      "text/html": [
       "<div>\n",
       "<table border=\"1\" class=\"dataframe\">\n",
       "  <thead>\n",
       "    <tr style=\"text-align: right;\">\n",
       "      <th></th>\n",
       "      <th>TrajID</th>\n",
       "      <th>MaxProb</th>\n",
       "      <th>RealProb</th>\n",
       "      <th>Precision</th>\n",
       "    </tr>\n",
       "  </thead>\n",
       "  <tbody>\n",
       "    <tr>\n",
       "      <th>0</th>\n",
       "      <td>9</td>\n",
       "      <td>8.588969</td>\n",
       "      <td>0</td>\n",
       "      <td>1022.008425</td>\n",
       "    </tr>\n",
       "    <tr>\n",
       "      <th>1</th>\n",
       "      <td>11</td>\n",
       "      <td>15.367890</td>\n",
       "      <td>0</td>\n",
       "      <td>781.048487</td>\n",
       "    </tr>\n",
       "    <tr>\n",
       "      <th>2</th>\n",
       "      <td>15</td>\n",
       "      <td>0.446123</td>\n",
       "      <td>0</td>\n",
       "      <td>622.107284</td>\n",
       "    </tr>\n",
       "    <tr>\n",
       "      <th>3</th>\n",
       "      <td>8</td>\n",
       "      <td>8.588969</td>\n",
       "      <td>0</td>\n",
       "      <td>142.623620</td>\n",
       "    </tr>\n",
       "    <tr>\n",
       "      <th>4</th>\n",
       "      <td>60</td>\n",
       "      <td>2.619483</td>\n",
       "      <td>0</td>\n",
       "      <td>116.911197</td>\n",
       "    </tr>\n",
       "    <tr>\n",
       "      <th>5</th>\n",
       "      <td>62</td>\n",
       "      <td>0.778901</td>\n",
       "      <td>0</td>\n",
       "      <td>105.447639</td>\n",
       "    </tr>\n",
       "    <tr>\n",
       "      <th>6</th>\n",
       "      <td>72</td>\n",
       "      <td>0.724445</td>\n",
       "      <td>0</td>\n",
       "      <td>95.247936</td>\n",
       "    </tr>\n",
       "    <tr>\n",
       "      <th>7</th>\n",
       "      <td>10</td>\n",
       "      <td>15.367890</td>\n",
       "      <td>0</td>\n",
       "      <td>88.904549</td>\n",
       "    </tr>\n",
       "    <tr>\n",
       "      <th>8</th>\n",
       "      <td>6</td>\n",
       "      <td>0.219895</td>\n",
       "      <td>0</td>\n",
       "      <td>85.245868</td>\n",
       "    </tr>\n",
       "    <tr>\n",
       "      <th>9</th>\n",
       "      <td>33</td>\n",
       "      <td>4.432622</td>\n",
       "      <td>0</td>\n",
       "      <td>79.589876</td>\n",
       "    </tr>\n",
       "    <tr>\n",
       "      <th>10</th>\n",
       "      <td>58</td>\n",
       "      <td>0.487793</td>\n",
       "      <td>0</td>\n",
       "      <td>79.413811</td>\n",
       "    </tr>\n",
       "    <tr>\n",
       "      <th>11</th>\n",
       "      <td>59</td>\n",
       "      <td>1.310626</td>\n",
       "      <td>0</td>\n",
       "      <td>78.848012</td>\n",
       "    </tr>\n",
       "    <tr>\n",
       "      <th>12</th>\n",
       "      <td>66</td>\n",
       "      <td>0.667993</td>\n",
       "      <td>0</td>\n",
       "      <td>73.397977</td>\n",
       "    </tr>\n",
       "    <tr>\n",
       "      <th>13</th>\n",
       "      <td>45</td>\n",
       "      <td>1.157593</td>\n",
       "      <td>0</td>\n",
       "      <td>72.592175</td>\n",
       "    </tr>\n",
       "    <tr>\n",
       "      <th>14</th>\n",
       "      <td>67</td>\n",
       "      <td>1.351223</td>\n",
       "      <td>0</td>\n",
       "      <td>71.668664</td>\n",
       "    </tr>\n",
       "    <tr>\n",
       "      <th>15</th>\n",
       "      <td>24</td>\n",
       "      <td>5.094203</td>\n",
       "      <td>0</td>\n",
       "      <td>70.128046</td>\n",
       "    </tr>\n",
       "    <tr>\n",
       "      <th>16</th>\n",
       "      <td>69</td>\n",
       "      <td>1.147962</td>\n",
       "      <td>0</td>\n",
       "      <td>68.506202</td>\n",
       "    </tr>\n",
       "    <tr>\n",
       "      <th>17</th>\n",
       "      <td>53</td>\n",
       "      <td>0.982513</td>\n",
       "      <td>0</td>\n",
       "      <td>63.933578</td>\n",
       "    </tr>\n",
       "    <tr>\n",
       "      <th>18</th>\n",
       "      <td>12</td>\n",
       "      <td>18.121597</td>\n",
       "      <td>0</td>\n",
       "      <td>62.348457</td>\n",
       "    </tr>\n",
       "    <tr>\n",
       "      <th>19</th>\n",
       "      <td>7</td>\n",
       "      <td>2.099920</td>\n",
       "      <td>0</td>\n",
       "      <td>62.116790</td>\n",
       "    </tr>\n",
       "    <tr>\n",
       "      <th>20</th>\n",
       "      <td>37</td>\n",
       "      <td>5.213426</td>\n",
       "      <td>0</td>\n",
       "      <td>61.325820</td>\n",
       "    </tr>\n",
       "    <tr>\n",
       "      <th>21</th>\n",
       "      <td>57</td>\n",
       "      <td>1.070149</td>\n",
       "      <td>0</td>\n",
       "      <td>56.865397</td>\n",
       "    </tr>\n",
       "    <tr>\n",
       "      <th>22</th>\n",
       "      <td>43</td>\n",
       "      <td>5.823699</td>\n",
       "      <td>0</td>\n",
       "      <td>52.413031</td>\n",
       "    </tr>\n",
       "    <tr>\n",
       "      <th>23</th>\n",
       "      <td>48</td>\n",
       "      <td>1.040103</td>\n",
       "      <td>0</td>\n",
       "      <td>51.043265</td>\n",
       "    </tr>\n",
       "    <tr>\n",
       "      <th>24</th>\n",
       "      <td>46</td>\n",
       "      <td>0.688148</td>\n",
       "      <td>0</td>\n",
       "      <td>50.917427</td>\n",
       "    </tr>\n",
       "    <tr>\n",
       "      <th>25</th>\n",
       "      <td>49</td>\n",
       "      <td>0.906031</td>\n",
       "      <td>0</td>\n",
       "      <td>50.312190</td>\n",
       "    </tr>\n",
       "    <tr>\n",
       "      <th>26</th>\n",
       "      <td>1</td>\n",
       "      <td>1.645502</td>\n",
       "      <td>0</td>\n",
       "      <td>47.869564</td>\n",
       "    </tr>\n",
       "    <tr>\n",
       "      <th>27</th>\n",
       "      <td>19</td>\n",
       "      <td>8.466751</td>\n",
       "      <td>0</td>\n",
       "      <td>46.972516</td>\n",
       "    </tr>\n",
       "    <tr>\n",
       "      <th>28</th>\n",
       "      <td>3</td>\n",
       "      <td>0.461350</td>\n",
       "      <td>0</td>\n",
       "      <td>46.233605</td>\n",
       "    </tr>\n",
       "    <tr>\n",
       "      <th>29</th>\n",
       "      <td>71</td>\n",
       "      <td>0.853465</td>\n",
       "      <td>0</td>\n",
       "      <td>43.733208</td>\n",
       "    </tr>\n",
       "    <tr>\n",
       "      <th>...</th>\n",
       "      <td>...</td>\n",
       "      <td>...</td>\n",
       "      <td>...</td>\n",
       "      <td>...</td>\n",
       "    </tr>\n",
       "    <tr>\n",
       "      <th>39</th>\n",
       "      <td>23</td>\n",
       "      <td>9.546831</td>\n",
       "      <td>0</td>\n",
       "      <td>36.574508</td>\n",
       "    </tr>\n",
       "    <tr>\n",
       "      <th>40</th>\n",
       "      <td>64</td>\n",
       "      <td>1.254568</td>\n",
       "      <td>0</td>\n",
       "      <td>36.461570</td>\n",
       "    </tr>\n",
       "    <tr>\n",
       "      <th>41</th>\n",
       "      <td>21</td>\n",
       "      <td>9.680442</td>\n",
       "      <td>0</td>\n",
       "      <td>36.443857</td>\n",
       "    </tr>\n",
       "    <tr>\n",
       "      <th>42</th>\n",
       "      <td>63</td>\n",
       "      <td>0.376146</td>\n",
       "      <td>0</td>\n",
       "      <td>36.118967</td>\n",
       "    </tr>\n",
       "    <tr>\n",
       "      <th>43</th>\n",
       "      <td>28</td>\n",
       "      <td>4.243524</td>\n",
       "      <td>0</td>\n",
       "      <td>35.074641</td>\n",
       "    </tr>\n",
       "    <tr>\n",
       "      <th>44</th>\n",
       "      <td>39</td>\n",
       "      <td>5.029470</td>\n",
       "      <td>0</td>\n",
       "      <td>34.870387</td>\n",
       "    </tr>\n",
       "    <tr>\n",
       "      <th>45</th>\n",
       "      <td>13</td>\n",
       "      <td>61.880679</td>\n",
       "      <td>0</td>\n",
       "      <td>34.813795</td>\n",
       "    </tr>\n",
       "    <tr>\n",
       "      <th>46</th>\n",
       "      <td>31</td>\n",
       "      <td>1.109073</td>\n",
       "      <td>0</td>\n",
       "      <td>34.538530</td>\n",
       "    </tr>\n",
       "    <tr>\n",
       "      <th>47</th>\n",
       "      <td>52</td>\n",
       "      <td>1.443204</td>\n",
       "      <td>0</td>\n",
       "      <td>34.379209</td>\n",
       "    </tr>\n",
       "    <tr>\n",
       "      <th>48</th>\n",
       "      <td>38</td>\n",
       "      <td>4.512665</td>\n",
       "      <td>0</td>\n",
       "      <td>34.011304</td>\n",
       "    </tr>\n",
       "    <tr>\n",
       "      <th>49</th>\n",
       "      <td>29</td>\n",
       "      <td>22.092016</td>\n",
       "      <td>0</td>\n",
       "      <td>33.957386</td>\n",
       "    </tr>\n",
       "    <tr>\n",
       "      <th>50</th>\n",
       "      <td>73</td>\n",
       "      <td>1.064724</td>\n",
       "      <td>0</td>\n",
       "      <td>33.654200</td>\n",
       "    </tr>\n",
       "    <tr>\n",
       "      <th>51</th>\n",
       "      <td>26</td>\n",
       "      <td>9.956108</td>\n",
       "      <td>0</td>\n",
       "      <td>33.394907</td>\n",
       "    </tr>\n",
       "    <tr>\n",
       "      <th>52</th>\n",
       "      <td>14</td>\n",
       "      <td>39.631811</td>\n",
       "      <td>0</td>\n",
       "      <td>32.876697</td>\n",
       "    </tr>\n",
       "    <tr>\n",
       "      <th>53</th>\n",
       "      <td>51</td>\n",
       "      <td>5.448935</td>\n",
       "      <td>0</td>\n",
       "      <td>31.896881</td>\n",
       "    </tr>\n",
       "    <tr>\n",
       "      <th>54</th>\n",
       "      <td>55</td>\n",
       "      <td>0.731477</td>\n",
       "      <td>0</td>\n",
       "      <td>31.172533</td>\n",
       "    </tr>\n",
       "    <tr>\n",
       "      <th>55</th>\n",
       "      <td>2</td>\n",
       "      <td>2.914790</td>\n",
       "      <td>0</td>\n",
       "      <td>30.252056</td>\n",
       "    </tr>\n",
       "    <tr>\n",
       "      <th>56</th>\n",
       "      <td>61</td>\n",
       "      <td>1.868439</td>\n",
       "      <td>0</td>\n",
       "      <td>29.983259</td>\n",
       "    </tr>\n",
       "    <tr>\n",
       "      <th>57</th>\n",
       "      <td>18</td>\n",
       "      <td>17.061337</td>\n",
       "      <td>0</td>\n",
       "      <td>29.711409</td>\n",
       "    </tr>\n",
       "    <tr>\n",
       "      <th>58</th>\n",
       "      <td>34</td>\n",
       "      <td>6.415350</td>\n",
       "      <td>0</td>\n",
       "      <td>28.756485</td>\n",
       "    </tr>\n",
       "    <tr>\n",
       "      <th>59</th>\n",
       "      <td>30</td>\n",
       "      <td>2.004956</td>\n",
       "      <td>0</td>\n",
       "      <td>27.981249</td>\n",
       "    </tr>\n",
       "    <tr>\n",
       "      <th>60</th>\n",
       "      <td>56</td>\n",
       "      <td>0.780614</td>\n",
       "      <td>0</td>\n",
       "      <td>27.332030</td>\n",
       "    </tr>\n",
       "    <tr>\n",
       "      <th>61</th>\n",
       "      <td>22</td>\n",
       "      <td>6.962475</td>\n",
       "      <td>0</td>\n",
       "      <td>26.451429</td>\n",
       "    </tr>\n",
       "    <tr>\n",
       "      <th>62</th>\n",
       "      <td>25</td>\n",
       "      <td>11.720265</td>\n",
       "      <td>0</td>\n",
       "      <td>25.952481</td>\n",
       "    </tr>\n",
       "    <tr>\n",
       "      <th>63</th>\n",
       "      <td>32</td>\n",
       "      <td>0.766949</td>\n",
       "      <td>0</td>\n",
       "      <td>21.530317</td>\n",
       "    </tr>\n",
       "    <tr>\n",
       "      <th>64</th>\n",
       "      <td>47</td>\n",
       "      <td>0.814508</td>\n",
       "      <td>0</td>\n",
       "      <td>21.282593</td>\n",
       "    </tr>\n",
       "    <tr>\n",
       "      <th>65</th>\n",
       "      <td>42</td>\n",
       "      <td>2.629328</td>\n",
       "      <td>0</td>\n",
       "      <td>19.857430</td>\n",
       "    </tr>\n",
       "    <tr>\n",
       "      <th>66</th>\n",
       "      <td>4</td>\n",
       "      <td>0.196066</td>\n",
       "      <td>0</td>\n",
       "      <td>17.529189</td>\n",
       "    </tr>\n",
       "    <tr>\n",
       "      <th>67</th>\n",
       "      <td>0</td>\n",
       "      <td>1.910319</td>\n",
       "      <td>0</td>\n",
       "      <td>15.573131</td>\n",
       "    </tr>\n",
       "    <tr>\n",
       "      <th>68</th>\n",
       "      <td>16</td>\n",
       "      <td>0.854457</td>\n",
       "      <td>0</td>\n",
       "      <td>12.266261</td>\n",
       "    </tr>\n",
       "  </tbody>\n",
       "</table>\n",
       "<p>69 rows × 4 columns</p>\n",
       "</div>"
      ],
      "text/plain": [
       "    TrajID    MaxProb  RealProb    Precision\n",
       "0        9   8.588969         0  1022.008425\n",
       "1       11  15.367890         0   781.048487\n",
       "2       15   0.446123         0   622.107284\n",
       "3        8   8.588969         0   142.623620\n",
       "4       60   2.619483         0   116.911197\n",
       "5       62   0.778901         0   105.447639\n",
       "6       72   0.724445         0    95.247936\n",
       "7       10  15.367890         0    88.904549\n",
       "8        6   0.219895         0    85.245868\n",
       "9       33   4.432622         0    79.589876\n",
       "10      58   0.487793         0    79.413811\n",
       "11      59   1.310626         0    78.848012\n",
       "12      66   0.667993         0    73.397977\n",
       "13      45   1.157593         0    72.592175\n",
       "14      67   1.351223         0    71.668664\n",
       "15      24   5.094203         0    70.128046\n",
       "16      69   1.147962         0    68.506202\n",
       "17      53   0.982513         0    63.933578\n",
       "18      12  18.121597         0    62.348457\n",
       "19       7   2.099920         0    62.116790\n",
       "20      37   5.213426         0    61.325820\n",
       "21      57   1.070149         0    56.865397\n",
       "22      43   5.823699         0    52.413031\n",
       "23      48   1.040103         0    51.043265\n",
       "24      46   0.688148         0    50.917427\n",
       "25      49   0.906031         0    50.312190\n",
       "26       1   1.645502         0    47.869564\n",
       "27      19   8.466751         0    46.972516\n",
       "28       3   0.461350         0    46.233605\n",
       "29      71   0.853465         0    43.733208\n",
       "..     ...        ...       ...          ...\n",
       "39      23   9.546831         0    36.574508\n",
       "40      64   1.254568         0    36.461570\n",
       "41      21   9.680442         0    36.443857\n",
       "42      63   0.376146         0    36.118967\n",
       "43      28   4.243524         0    35.074641\n",
       "44      39   5.029470         0    34.870387\n",
       "45      13  61.880679         0    34.813795\n",
       "46      31   1.109073         0    34.538530\n",
       "47      52   1.443204         0    34.379209\n",
       "48      38   4.512665         0    34.011304\n",
       "49      29  22.092016         0    33.957386\n",
       "50      73   1.064724         0    33.654200\n",
       "51      26   9.956108         0    33.394907\n",
       "52      14  39.631811         0    32.876697\n",
       "53      51   5.448935         0    31.896881\n",
       "54      55   0.731477         0    31.172533\n",
       "55       2   2.914790         0    30.252056\n",
       "56      61   1.868439         0    29.983259\n",
       "57      18  17.061337         0    29.711409\n",
       "58      34   6.415350         0    28.756485\n",
       "59      30   2.004956         0    27.981249\n",
       "60      56   0.780614         0    27.332030\n",
       "61      22   6.962475         0    26.451429\n",
       "62      25  11.720265         0    25.952481\n",
       "63      32   0.766949         0    21.530317\n",
       "64      47   0.814508         0    21.282593\n",
       "65      42   2.629328         0    19.857430\n",
       "66       4   0.196066         0    17.529189\n",
       "67       0   1.910319         0    15.573131\n",
       "68      16   0.854457         0    12.266261\n",
       "\n",
       "[69 rows x 4 columns]"
      ]
     },
     "execution_count": 414,
     "metadata": {},
     "output_type": "execute_result"
    }
   ],
   "source": [
    "merged = pd.merge(df_prob, df_prec).sort_values(by=['Precision'], ascending=False).reset_index(drop=True)\n",
    "error_ids = list(merged[merged['Precision'] > 100]['TrajID'].values)\n",
    "merged"
   ]
  },
  {
   "cell_type": "code",
   "execution_count": 415,
   "metadata": {
    "collapsed": false
   },
   "outputs": [
    {
     "data": {
      "text/plain": [
       "(29.005371723225302, 38.49029887817497, 109.57029730252424, 69)"
      ]
     },
     "execution_count": 415,
     "metadata": {},
     "output_type": "execute_result"
    }
   ],
   "source": [
    "np.median(uni_prec), np.median(uni_prec_dict.values()), np.mean(uni_prec), len(uni_prec_dict)"
   ]
  },
  {
   "cell_type": "code",
   "execution_count": 119,
   "metadata": {
    "collapsed": true
   },
   "outputs": [],
   "source": [
    "with open(data_path + 'result/' + 'ID1ID2_context.pkl', 'w') as fout:\n",
    "    pickle.dump([uni_prec, uni_prec_dict], file=fout)"
   ]
  },
  {
   "cell_type": "markdown",
   "metadata": {},
   "source": [
    "# Display"
   ]
  },
  {
   "cell_type": "code",
   "execution_count": 51,
   "metadata": {
    "collapsed": true
   },
   "outputs": [],
   "source": [
    "sum1, sum2 = dict(), dict()\n",
    "r_rid = 0\n",
    "for rid in D.iterkeys():\n",
    "    sum1[r_rid] = len(D[rid])\n",
    "    r_rid += 1\n",
    "for obsv in B.iterkeys():\n",
    "    num = len(B[obsv])\n",
    "    if not sum2.has_key(num):\n",
    "        sum2[num] = 0\n",
    "    sum2[num] += 1"
   ]
  },
  {
   "cell_type": "code",
   "execution_count": 57,
   "metadata": {
    "collapsed": true
   },
   "outputs": [],
   "source": [
    "plot = reload(plot)"
   ]
  },
  {
   "cell_type": "code",
   "execution_count": 50,
   "metadata": {
    "collapsed": false
   },
   "outputs": [
    {
     "data": {
      "text/plain": [
       "437"
      ]
     },
     "execution_count": 50,
     "metadata": {},
     "output_type": "execute_result"
    }
   ],
   "source": [
    "len(B)"
   ]
  },
  {
   "cell_type": "code",
   "execution_count": 58,
   "metadata": {
    "collapsed": false
   },
   "outputs": [],
   "source": [
    "plot.draw_barplot(sum2, 'n(obsv) of n(road)', 'n(road)', 'n(obsv)')"
   ]
  },
  {
   "cell_type": "code",
   "execution_count": null,
   "metadata": {
    "collapsed": true
   },
   "outputs": [],
   "source": []
  }
 ],
 "metadata": {
  "kernelspec": {
   "display_name": "Python 2",
   "language": "python",
   "name": "python2"
  },
  "language_info": {
   "codemirror_mode": {
    "name": "ipython",
    "version": 2
   },
   "file_extension": ".py",
   "mimetype": "text/x-python",
   "name": "python",
   "nbconvert_exporter": "python",
   "pygments_lexer": "ipython2",
   "version": "2.7.13"
  }
 },
 "nbformat": 4,
 "nbformat_minor": 2
}
