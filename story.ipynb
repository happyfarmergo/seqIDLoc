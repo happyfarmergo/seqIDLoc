{
 "cells": [
  {
   "cell_type": "code",
   "execution_count": 1,
   "metadata": {
    "collapsed": true
   },
   "outputs": [],
   "source": [
    "import numpy as np\n",
    "import pandas as pd\n",
    "import utm\n",
    "import math\n",
    "import pickle\n",
    "import os\n",
    "import sys\n",
    "sys.path.append('./src')\n",
    "import time\n",
    "import datetime\n",
    "from collections import defaultdict\n",
    "import matplotlib\n",
    "import matplotlib.pyplot as plt\n",
    "from shapely.geometry import Point, LineString\n",
    "import copy\n",
    "\n",
    "import display_gm\n",
    "import display_osm\n",
    "import plot\n",
    "import tools\n",
    "import hmm, uni_hmm, split\n",
    "import celltower as ctcrawler\n",
    "from data_cleaning import noise, load, counter"
   ]
  },
  {
   "cell_type": "markdown",
   "metadata": {},
   "source": [
    "# Load Data"
   ]
  },
  {
   "cell_type": "code",
   "execution_count": 2,
   "metadata": {
    "collapsed": true
   },
   "outputs": [],
   "source": [
    "load = reload(load)\n",
    "file_2g = './data/jiading/data_2g.csv'\n",
    "gongcan_2g = './data/jiading/2g_gongcan.csv'\n",
    "final_gongcan_2g = './data/jiading/final_2g_gongcan.csv'"
   ]
  },
  {
   "cell_type": "code",
   "execution_count": 177,
   "metadata": {
    "collapsed": false
   },
   "outputs": [
    {
     "name": "stdout",
     "output_type": "stream",
     "text": [
      "Unique Cell Tower:  81\n",
      "Duplicated cell towers: [[66, 67, 68], [35, 36], [53, 54], [69, 70, 71], [40, 41], [56, 57], [61, 62, 63]]\n",
      "Totally duplicate: 86\n",
      "len(db): 72 len(towers): 91\n"
     ]
    }
   ],
   "source": [
    "db, db_gps, towers = load.load_2g(file_2g, gongcan_2g, merge_tower=False, neighbor=False, with_rssi=False, radio_angle=False, context=False)\n",
    "print 'len(db):', len(db), 'len(towers):', len(towers)"
   ]
  },
  {
   "cell_type": "code",
   "execution_count": 178,
   "metadata": {
    "collapsed": false
   },
   "outputs": [
    {
     "data": {
      "text/plain": [
       "[(31.29184524, 121.21368387, 62, 0.0, 1507627341L),\n",
       " (31.28926598, 121.21361016, 62, 0.68, 1507627346L),\n",
       " (31.28922812, 121.21357512, 63, 0.0, 1507627351L),\n",
       " (31.28926254, 121.21358264, 63, 0.0, 1507627356L),\n",
       " (31.28928476, 121.21360502, 63, 0.0, 1507627359L)]"
      ]
     },
     "execution_count": 178,
     "metadata": {},
     "output_type": "execute_result"
    }
   ],
   "source": [
    "db_gps[0][:5]"
   ]
  },
  {
   "cell_type": "markdown",
   "metadata": {},
   "source": [
    "# Data Cleaning"
   ]
  },
  {
   "cell_type": "code",
   "execution_count": 179,
   "metadata": {
    "collapsed": false
   },
   "outputs": [
    {
     "name": "stdout",
     "output_type": "stream",
     "text": [
      "Traj ID=0\n",
      "0->1:286m\t\n",
      "discard[0:0]=0m\tkeep[1:24]as id=0\t\n",
      "Traj ID=1\n",
      "7->8:510m\t\n",
      "discard[0:7]=0m\tkeep[9:157]as id=1\t\n",
      "Traj ID=2\n",
      "1->2:330m\t\n",
      "discard[0:1]=0m\tkeep[3:77]as id=2\t\n",
      "Traj ID=3\n",
      "\n",
      "keep[1:33]as id=3\t\n",
      "Traj ID=4\n",
      "0->1:394m\t\n",
      "discard[0:0]=0m\tkeep[2:44]as id=4\t\n",
      "Traj ID=5\n",
      "1->2:118m\t\n",
      "discard[0:1]=0m\tkeep[3:48]as id=5\t\n",
      "Traj ID=6\n",
      "1->2:522m\t112->113:752m\t133->134:116m\t\n",
      "discard[0:1]=0m\ttrimed[0,89] keep[2:23]as id=6\tdiscard[113:133]=33m\tdiscard[134:135]=0m\t\n",
      "Traj ID=7\n",
      "9->10:101m\t\n",
      "discard[0:9]=0m\tkeep[10:112]as id=7\t\n",
      "Traj ID=8\n",
      "\n",
      "keep[0:373]as id=8\t\n",
      "Traj ID=9\n",
      "1->2:947m\t\n",
      "discard[0:1]=0m\tkeep[2:341]as id=9\t\n",
      "Traj ID=10\n",
      "\n",
      "keep[0:420]as id=10\t\n",
      "Traj ID=11\n",
      "\n",
      "keep[1:295]as id=11\t\n",
      "Traj ID=12\n",
      "\n",
      "keep[1:422]as id=12\t\n",
      "Traj ID=13\n",
      "35->36:838m\t\n",
      "discard[0:35]=0m\tkeep[37:1015]as id=13\t\n",
      "Traj ID=14\n",
      "\n",
      "keep[1:826]as id=14\t\n",
      "Traj ID=15\n",
      "42->43:667m\t\n",
      "keep[5:42]as id=15\tkeep[43:114]as id=16\t\n",
      "Traj ID=16\n",
      "2->3:482m\t345->346:714m\t\n",
      "discard[0:2]=0m\tkeep[6:345]as id=17\tkeep[346:853]as id=18\t\n",
      "Traj ID=17\n",
      "\n",
      "trimed[1,12] keep[1:234]as id=19\t\n",
      "Traj ID=18\n",
      "3->4:150m\t\n",
      "discard[0:3]=0m\ttrimed[5,92] keep[9:255]as id=20\t\n",
      "Traj ID=19\n",
      "98->99:468m\t\n",
      "discard[0:98]=0m\tkeep[103:325]as id=21\t\n",
      "Traj ID=20\n",
      "\n",
      "keep[6:189]as id=22\t\n",
      "Traj ID=21\n",
      "40->41:104m\t\n",
      "discard[0:40]=58m\tkeep[43:256]as id=23\t\n",
      "Traj ID=22\n",
      "8->9:569m\t\n",
      "discard[0:8]=0m\tkeep[11:189]as id=24\t\n",
      "Traj ID=23\n",
      "\n",
      "keep[6:426]as id=25\t\n",
      "Traj ID=24\n",
      "3->4:1075m\t\n",
      "discard[0:3]=0m\tkeep[5:188]as id=26\t\n",
      "Traj ID=25\n",
      "5->6:479m\t\n",
      "discard[0:5]=0m\ttrimed[7,28] keep[13:271]as id=27\t\n",
      "Traj ID=26\n",
      "38->39:917m\t\n",
      "discard[0:38]=0m\tkeep[42:411]as id=28\t\n",
      "Traj ID=27\n",
      "31->32:180m\t\n",
      "discard[0:31]=0m\ttrimed[1,11] keep[33:518]as id=29\t\n",
      "Traj ID=28\n",
      "\n",
      "keep[0:83]as id=30\t\n",
      "Traj ID=29\n",
      "\n",
      "keep[1:88]as id=31\t\n",
      "Traj ID=30\n",
      "\n",
      "keep[1:60]as id=32\t\n",
      "Traj ID=31\n",
      "\n",
      "keep[2:144]as id=33\t\n",
      "Traj ID=32\n",
      "\n",
      "keep[1:238]as id=34\t\n",
      "Traj ID=33\n",
      "\n",
      "keep[1:79]as id=35\t\n",
      "Traj ID=34\n",
      "\n",
      "keep[1:107]as id=36\t\n",
      "Traj ID=35\n",
      "\n",
      "keep[1:118]as id=37\t\n",
      "Traj ID=36\n",
      "\n",
      "keep[1:88]as id=38\t\n",
      "Traj ID=37\n",
      "\n",
      "keep[2:113]as id=39\t\n",
      "Traj ID=38\n",
      "\n",
      "keep[0:87]as id=40\t\n",
      "Traj ID=39\n",
      "\n",
      "keep[2:180]as id=41\t\n",
      "Traj ID=40\n",
      "\n",
      "keep[1:53]as id=42\t\n",
      "Traj ID=41\n",
      "\n",
      "keep[1:97]as id=43\t\n",
      "Traj ID=42\n",
      "\n",
      "keep[1:134]as id=44\t\n",
      "Traj ID=43\n",
      "\n",
      "keep[1:74]as id=45\t\n",
      "Traj ID=44\n",
      "\n",
      "keep[0:53]as id=46\t\n",
      "Traj ID=45\n",
      "\n",
      "keep[4:75]as id=47\t\n",
      "Traj ID=46\n",
      "\n",
      "keep[0:74]as id=48\t\n",
      "Traj ID=47\n",
      "1->2:605m\t\n",
      "discard[0:1]=0m\tkeep[2:52]as id=49\t\n",
      "Traj ID=48\n",
      "\n",
      "trimed[4,16] keep[4:222]as id=50\t\n",
      "Traj ID=49\n",
      "\n",
      "keep[2:316]as id=51\t\n",
      "Traj ID=50\n",
      "2->3:125m\t\n",
      "discard[0:2]=0m\tkeep[4:112]as id=52\t\n",
      "Traj ID=51\n",
      "0->1:281m\t\n",
      "discard[0:0]=0m\tkeep[1:75]as id=53\t\n",
      "Traj ID=52\n",
      "\n",
      "keep[2:51]as id=54\t\n",
      "Traj ID=53\n",
      "1->2:157m\t\n",
      "discard[0:1]=0m\tkeep[2:74]as id=55\t\n",
      "Traj ID=54\n",
      "\n",
      "keep[1:54]as id=56\t\n",
      "Traj ID=55\n",
      "\n",
      "keep[1:50]as id=57\t\n",
      "Traj ID=56\n",
      "\n",
      "keep[1:57]as id=58\t\n",
      "Traj ID=57\n",
      "1->2:121m\t\n",
      "discard[0:1]=0m\tkeep[2:48]as id=59\t\n",
      "Traj ID=58\n",
      "\n",
      "keep[1:106]as id=60\t\n",
      "Traj ID=59\n",
      "0->1:274m\t\n",
      "discard[0:0]=0m\tkeep[1:85]as id=61\t\n",
      "Traj ID=60\n",
      "11->12:143m\t\n",
      "discard[0:11]=0m\tkeep[13:59]as id=62\t\n",
      "Traj ID=61\n",
      "26->27:360m\t\n",
      "discard[0:26]=0m\tkeep[30:60]as id=63\t\n",
      "Traj ID=62\n",
      "\n",
      "keep[1:84]as id=64\t\n",
      "Traj ID=63\n",
      "\n",
      "keep[0:476]as id=65\t\n",
      "Traj ID=64\n",
      "\n",
      "keep[1:61]as id=66\t\n",
      "Traj ID=65\n",
      "\n",
      "keep[1:88]as id=67\t\n",
      "Traj ID=66\n",
      "\n",
      "keep[0:88]as id=68\t\n",
      "Traj ID=67\n",
      "\n",
      "keep[0:80]as id=69\t\n",
      "Traj ID=68\n",
      "19->20:108m\t\n",
      "discard[0:19]=0m\tkeep[21:64]as id=70\t\n",
      "Traj ID=69\n",
      "\n",
      "trimed[2,15] keep[2:69]as id=71\t\n",
      "Traj ID=70\n",
      "\n",
      "keep[1:48]as id=72\t\n",
      "Traj ID=71\n",
      "25->26:353m\t\n",
      "discard[0:25]=0m\tkeep[26:75]as id=73\t\n"
     ]
    },
    {
     "data": {
      "text/plain": [
       "(74, 74)"
      ]
     },
     "execution_count": 179,
     "metadata": {},
     "output_type": "execute_result"
    }
   ],
   "source": [
    "noise = reload(noise)\n",
    "dbs = noise.clean_db(db, max_dist=100, min_dist=100, min_len=10, max_again=10, debug=True)\n",
    "dbs_gps = noise.clean_db_gps(db_gps, max_dist=100, min_dist=100, min_len=10, max_again=10, debug=False)\n",
    "len(dbs), len(dbs_gps)"
   ]
  },
  {
   "cell_type": "code",
   "execution_count": 180,
   "metadata": {
    "collapsed": false
   },
   "outputs": [
    {
     "data": {
      "text/plain": [
       "[(31.29184524, 121.21368387, 62, 0.0, 1507627341L),\n",
       " (31.28926598, 121.21361016, 62, 0.68, 1507627346L),\n",
       " (31.28922812, 121.21357512, 63, 0.0, 1507627351L),\n",
       " (31.28926254, 121.21358264, 63, 0.0, 1507627356L),\n",
       " (31.28928476, 121.21360502, 63, 0.0, 1507627359L)]"
      ]
     },
     "execution_count": 180,
     "metadata": {},
     "output_type": "execute_result"
    }
   ],
   "source": [
    "db_gps[0][:5]"
   ]
  },
  {
   "cell_type": "markdown",
   "metadata": {},
   "source": [
    "# Ground Truth"
   ]
  },
  {
   "cell_type": "code",
   "execution_count": 181,
   "metadata": {
    "collapsed": false
   },
   "outputs": [
    {
     "name": "stdout",
     "output_type": "stream",
     "text": [
      "traj id= 1 150 140\n",
      "traj id= 13 980 976\n",
      "traj id= 22 190 167\n",
      "traj id= 23 216 198\n",
      "traj id= 25 427 420\n",
      "traj id= 26 185 149\n",
      "traj id= 41 181 173\n",
      "traj id= 44 136 131\n",
      "traj id= 50 219 218\n",
      "traj id= 51 322 316\n",
      "traj id= 63 34 32\n",
      "traj id= 67 89 87\n",
      "traj id= 72 50 44\n"
     ]
    }
   ],
   "source": [
    "load = reload(load)\n",
    "noise = reload(noise)\n",
    "match_res, time_set = load.load_matching('./data/jiading/matching_out', len(dbs), 50)\n",
    "dbs = noise.reclean(dbs, time_set, debug=True)\n",
    "dbs_gps = noise.reclean(dbs_gps, time_set)"
   ]
  },
  {
   "cell_type": "markdown",
   "metadata": {},
   "source": [
    "# Split Data"
   ]
  },
  {
   "cell_type": "code",
   "execution_count": 184,
   "metadata": {
    "collapsed": true
   },
   "outputs": [],
   "source": [
    "split = reload(split)\n",
    "# train:(origin idx, origin feature)\n",
    "# train, test = hmm.k_split(dbs, k=4)\n",
    "train, test, gps3 = split.k_g_split(dbs, k=4, gpsize=0.0)\n",
    "# train, test = hmm.hand_split(dbs, k=2)\n",
    "# len(gps3)"
   ]
  },
  {
   "cell_type": "code",
   "execution_count": 185,
   "metadata": {
    "collapsed": false,
    "scrolled": true
   },
   "outputs": [
    {
     "data": {
      "text/plain": [
       "set()"
      ]
     },
     "execution_count": 185,
     "metadata": {},
     "output_type": "execute_result"
    }
   ],
   "source": [
    "train_set = set()\n",
    "for tr_id, traj in train.iteritems():\n",
    "    for point in traj:\n",
    "        train_set.add(point[1][2:-2])\n",
    "test_set = set()\n",
    "for tr_id, traj in test.iteritems():\n",
    "    for point in traj:\n",
    "        test_set.add(point[1][2:-2])\n",
    "test_set-train_set"
   ]
  },
  {
   "cell_type": "markdown",
   "metadata": {},
   "source": [
    "# Layer 1"
   ]
  },
  {
   "cell_type": "markdown",
   "metadata": {},
   "source": [
    "## random forest"
   ]
  },
  {
   "cell_type": "code",
   "execution_count": 209,
   "metadata": {
    "collapsed": true
   },
   "outputs": [],
   "source": [
    "from sklearn.ensemble import RandomForestClassifier\n",
    "def re_organize(db):\n",
    "    X, y = [], []\n",
    "    range_dict = dict()\n",
    "    start_idx = 0\n",
    "    for tr_id, traj in db.iteritems():\n",
    "        piece_match = match_res[tr_id]\n",
    "        for old_idx, point in traj:\n",
    "            obsv = point[2:-2]\n",
    "            rid = piece_match[old_idx][3]\n",
    "            X.append(obsv)\n",
    "            y.append(rid)\n",
    "        range_dict[tr_id] = (start_idx, len(X))\n",
    "        start_idx = len(X)\n",
    "    return X, y, range_dict\n",
    "X_train, Y_train, _ = re_organize(train)\n",
    "X_test, Y_test, range_dict = re_organize(new_test)"
   ]
  },
  {
   "cell_type": "code",
   "execution_count": 210,
   "metadata": {
    "collapsed": false
   },
   "outputs": [
    {
     "data": {
      "text/plain": [
       "RandomForestClassifier(bootstrap=True, class_weight=None, criterion='gini',\n",
       "            max_depth=None, max_features='auto', max_leaf_nodes=None,\n",
       "            min_impurity_split=1e-07, min_samples_leaf=1,\n",
       "            min_samples_split=2, min_weight_fraction_leaf=0.0,\n",
       "            n_estimators=200, n_jobs=1, oob_score=False, random_state=None,\n",
       "            verbose=0, warm_start=False)"
      ]
     },
     "execution_count": 210,
     "metadata": {},
     "output_type": "execute_result"
    }
   ],
   "source": [
    "clf = RandomForestClassifier(n_estimators=200)\n",
    "clf.fit(X_train, Y_train)"
   ]
  },
  {
   "cell_type": "code",
   "execution_count": 211,
   "metadata": {
    "collapsed": true
   },
   "outputs": [],
   "source": [
    "Y_predict = clf.predict_proba(X_test)"
   ]
  },
  {
   "cell_type": "code",
   "execution_count": 212,
   "metadata": {
    "collapsed": true
   },
   "outputs": [],
   "source": [
    "help_info = dict()\n",
    "min_len = 10\n",
    "for tr_id in range_dict.iterkeys():\n",
    "    s_idx, e_idx = range_dict[tr_id]\n",
    "    help_info[tr_id] = []\n",
    "    for i, piece in enumerate(Y_predict[s_idx:e_idx]):\n",
    "        length = len(set(piece)) - 1\n",
    "        k = min(min_len, length)\n",
    "        idxes = sorted(range(len(piece)), key=lambda x: piece[x], reverse=True)[:k]\n",
    "        prob_info = dict()\n",
    "        for idx in idxes:\n",
    "            prob_info[clf.classes_[idx]] = piece[idx]\n",
    "        help_info[tr_id].append(prob_info)"
   ]
  },
  {
   "cell_type": "code",
   "execution_count": 174,
   "metadata": {
    "collapsed": false
   },
   "outputs": [],
   "source": [
    "summary = dict()\n",
    "for min_len in range(1, 21):\n",
    "    cnt = 0\n",
    "    # statist = []\n",
    "    for i, piece in enumerate(Y_predict):\n",
    "        length = len(set(piece)) - 1\n",
    "        k = min(min_len, length)\n",
    "        idxes = sorted(range(len(piece)), key=lambda x: piece[x], reverse=True)[:k]\n",
    "        rids = [clf.classes_[idx] for idx in idxes]\n",
    "        if Y_test[i] in rids:\n",
    "    #         statist.append((i, rids.index(Y_test[i]), length))\n",
    "            cnt += 1\n",
    "    summary[min_len] = cnt * 1.0 / len(Y_test)"
   ]
  },
  {
   "cell_type": "code",
   "execution_count": null,
   "metadata": {
    "collapsed": false
   },
   "outputs": [],
   "source": [
    "plt.figure(figsize=(20, 10))\n",
    "# plt.plot(one_ids.keys(), one_ids.values())\n",
    "# plt.plot(two_ids.keys(), two_ids.values())\n",
    "plt.plot(context_ids.keys(), context_ids.values())\n",
    "xticks = (str(x) for x in summary.keys())\n",
    "plt.xticks(summary.keys(), xticks)\n",
    "# plt.legend(['ID1', 'ID1ID2', 'Context_ID1'], loc='best')\n",
    "plt.title('RF predict_proba result')\n",
    "plt.xlabel('min candidate')\n",
    "plt.ylabel('predict_proba result')\n",
    "plt.show()\n",
    "# plt.savefig('./display/deepin/RF_predict_proba.png')"
   ]
  },
  {
   "cell_type": "code",
   "execution_count": 110,
   "metadata": {
    "collapsed": false
   },
   "outputs": [
    {
     "data": {
      "text/html": [
       "<div>\n",
       "<table border=\"1\" class=\"dataframe\">\n",
       "  <thead>\n",
       "    <tr style=\"text-align: right;\">\n",
       "      <th></th>\n",
       "      <th>i</th>\n",
       "      <th>index</th>\n",
       "      <th>length</th>\n",
       "    </tr>\n",
       "  </thead>\n",
       "  <tbody>\n",
       "    <tr>\n",
       "      <th>count</th>\n",
       "      <td>2775.000000</td>\n",
       "      <td>2775.000000</td>\n",
       "      <td>2775.000000</td>\n",
       "    </tr>\n",
       "    <tr>\n",
       "      <th>mean</th>\n",
       "      <td>1508.603964</td>\n",
       "      <td>0.405405</td>\n",
       "      <td>4.777658</td>\n",
       "    </tr>\n",
       "    <tr>\n",
       "      <th>std</th>\n",
       "      <td>876.029164</td>\n",
       "      <td>0.653568</td>\n",
       "      <td>3.555402</td>\n",
       "    </tr>\n",
       "    <tr>\n",
       "      <th>min</th>\n",
       "      <td>2.000000</td>\n",
       "      <td>0.000000</td>\n",
       "      <td>1.000000</td>\n",
       "    </tr>\n",
       "    <tr>\n",
       "      <th>25%</th>\n",
       "      <td>762.500000</td>\n",
       "      <td>0.000000</td>\n",
       "      <td>2.000000</td>\n",
       "    </tr>\n",
       "    <tr>\n",
       "      <th>50%</th>\n",
       "      <td>1489.000000</td>\n",
       "      <td>0.000000</td>\n",
       "      <td>4.000000</td>\n",
       "    </tr>\n",
       "    <tr>\n",
       "      <th>75%</th>\n",
       "      <td>2221.500000</td>\n",
       "      <td>1.000000</td>\n",
       "      <td>7.000000</td>\n",
       "    </tr>\n",
       "    <tr>\n",
       "      <th>max</th>\n",
       "      <td>3087.000000</td>\n",
       "      <td>2.000000</td>\n",
       "      <td>26.000000</td>\n",
       "    </tr>\n",
       "  </tbody>\n",
       "</table>\n",
       "</div>"
      ],
      "text/plain": [
       "                 i        index       length\n",
       "count  2775.000000  2775.000000  2775.000000\n",
       "mean   1508.603964     0.405405     4.777658\n",
       "std     876.029164     0.653568     3.555402\n",
       "min       2.000000     0.000000     1.000000\n",
       "25%     762.500000     0.000000     2.000000\n",
       "50%    1489.000000     0.000000     4.000000\n",
       "75%    2221.500000     1.000000     7.000000\n",
       "max    3087.000000     2.000000    26.000000"
      ]
     },
     "execution_count": 110,
     "metadata": {},
     "output_type": "execute_result"
    }
   ],
   "source": [
    "pd.DataFrame(statist, columns=['i', 'index', 'length']).describe()"
   ]
  },
  {
   "cell_type": "markdown",
   "metadata": {},
   "source": [
    "# Layer 2"
   ]
  },
  {
   "cell_type": "code",
   "execution_count": 237,
   "metadata": {
    "collapsed": true
   },
   "outputs": [],
   "source": [
    "uni_hmm = reload(uni_hmm)"
   ]
  },
  {
   "cell_type": "code",
   "execution_count": 238,
   "metadata": {
    "collapsed": true
   },
   "outputs": [],
   "source": [
    "bounding_box = (328000, 331000, 3462000, 3465000)\n",
    "side = 30\n",
    "sag = uni_hmm.Sag(side, bounding_box)"
   ]
  },
  {
   "cell_type": "code",
   "execution_count": 239,
   "metadata": {
    "collapsed": false
   },
   "outputs": [
    {
     "data": {
      "text/plain": [
       "0"
      ]
     },
     "execution_count": 239,
     "metadata": {},
     "output_type": "execute_result"
    }
   ],
   "source": [
    "A, cell_db = sag.get_trans_mat(match_res, gps3.keys())\n",
    "uni_cells = sag.get_cells(cell_db)\n",
    "len(uni_cells)"
   ]
  },
  {
   "cell_type": "code",
   "execution_count": 240,
   "metadata": {
    "collapsed": true
   },
   "outputs": [],
   "source": [
    "B, D = sag.get_obsv_mat(train, match_res, version=0)"
   ]
  },
  {
   "cell_type": "code",
   "execution_count": 241,
   "metadata": {
    "collapsed": false,
    "scrolled": true
   },
   "outputs": [
    {
     "name": "stdout",
     "output_type": "stream",
     "text": [
      "TrajID=0 Before=6 End=5\n",
      "TrajID=1 Before=35 End=30\n",
      "TrajID=3 Before=8 End=7\n",
      "TrajID=4 Before=11 End=10\n",
      "TrajID=5 Before=12 End=10\n",
      "TrajID=7 Before=26 End=24\n",
      "TrajID=8 Before=94 End=81\n",
      "TrajID=9 Before=85 End=82\n",
      "TrajID=10 Before=105 End=102\n",
      "TrajID=11 Before=74 End=67\n",
      "TrajID=12 Before=106 End=101\n",
      "TrajID=13 Before=244 End=242\n",
      "TrajID=14 Before=207 End=203\n",
      "TrajID=19 Before=59 End=57\n",
      "TrajID=20 Before=62 End=61\n",
      "TrajID=28 Before=95 End=94\n",
      "TrajID=30 Before=21 End=20\n",
      "TrajID=36 Before=27 End=24\n",
      "TrajID=39 Before=28 End=26\n",
      "TrajID=40 Before=22 End=19\n",
      "TrajID=41 Before=43 End=42\n",
      "TrajID=43 Before=25 End=23\n",
      "TrajID=44 Before=33 End=29\n",
      "TrajID=52 Before=27 End=26\n",
      "TrajID=65 Before=122 End=119\n",
      "TrajID=71 Before=17 End=15\n"
     ]
    }
   ],
   "source": [
    "# clean test dataset\n",
    "noise = reload(noise)\n",
    "new_test = noise.clean_testset(sag, test, match_res, B, debug=True)"
   ]
  },
  {
   "cell_type": "code",
   "execution_count": 235,
   "metadata": {
    "collapsed": false
   },
   "outputs": [
    {
     "ename": "ValueError",
     "evalue": "max() arg is an empty sequence",
     "output_type": "error",
     "traceback": [
      "\u001b[1;31m---------------------------------------------------------------------------\u001b[0m",
      "\u001b[1;31mValueError\u001b[0m                                Traceback (most recent call last)",
      "\u001b[1;32m<ipython-input-235-936a3984e82a>\u001b[0m in \u001b[0;36m<module>\u001b[1;34m()\u001b[0m\n\u001b[0;32m     61\u001b[0m         \u001b[1;32mprint\u001b[0m \u001b[0midx\u001b[0m\u001b[1;33m\u001b[0m\u001b[0m\n\u001b[0;32m     62\u001b[0m \u001b[0msl\u001b[0m \u001b[1;33m=\u001b[0m \u001b[1;33m[\u001b[0m\u001b[1;33m]\u001b[0m\u001b[1;33m\u001b[0m\u001b[0m\n\u001b[1;32m---> 63\u001b[1;33m \u001b[0mmax_prob\u001b[0m \u001b[1;33m=\u001b[0m \u001b[0mmax\u001b[0m\u001b[1;33m(\u001b[0m\u001b[0mf\u001b[0m\u001b[1;33m[\u001b[0m\u001b[1;33m-\u001b[0m\u001b[1;36m1\u001b[0m\u001b[1;33m]\u001b[0m\u001b[1;33m.\u001b[0m\u001b[0mitervalues\u001b[0m\u001b[1;33m(\u001b[0m\u001b[1;33m)\u001b[0m\u001b[1;33m)\u001b[0m\u001b[1;33m\u001b[0m\u001b[0m\n\u001b[0m\u001b[0;32m     64\u001b[0m \u001b[0mlast_s\u001b[0m \u001b[1;33m=\u001b[0m \u001b[0mmax\u001b[0m\u001b[1;33m(\u001b[0m\u001b[0mf\u001b[0m\u001b[1;33m[\u001b[0m\u001b[1;33m-\u001b[0m\u001b[1;36m1\u001b[0m\u001b[1;33m]\u001b[0m\u001b[1;33m.\u001b[0m\u001b[0miterkeys\u001b[0m\u001b[1;33m(\u001b[0m\u001b[1;33m)\u001b[0m\u001b[1;33m,\u001b[0m \u001b[0mkey\u001b[0m\u001b[1;33m=\u001b[0m\u001b[1;32mlambda\u001b[0m \u001b[0mk\u001b[0m\u001b[1;33m:\u001b[0m \u001b[0mf\u001b[0m\u001b[1;33m[\u001b[0m\u001b[1;33m-\u001b[0m\u001b[1;36m1\u001b[0m\u001b[1;33m]\u001b[0m\u001b[1;33m[\u001b[0m\u001b[0mk\u001b[0m\u001b[1;33m]\u001b[0m\u001b[1;33m)\u001b[0m\u001b[1;33m\u001b[0m\u001b[0m\n\u001b[0;32m     65\u001b[0m \u001b[1;32mfor\u001b[0m \u001b[0midx\u001b[0m \u001b[1;32min\u001b[0m \u001b[0mrange\u001b[0m\u001b[1;33m(\u001b[0m\u001b[0mlen\u001b[0m\u001b[1;33m(\u001b[0m\u001b[0mtraj\u001b[0m\u001b[1;33m)\u001b[0m\u001b[1;33m-\u001b[0m\u001b[1;36m1\u001b[0m\u001b[1;33m,\u001b[0m \u001b[1;36m0\u001b[0m\u001b[1;33m,\u001b[0m \u001b[1;33m-\u001b[0m\u001b[1;36m1\u001b[0m\u001b[1;33m)\u001b[0m\u001b[1;33m:\u001b[0m\u001b[1;33m\u001b[0m\u001b[0m\n",
      "\u001b[1;31mValueError\u001b[0m: max() arg is an empty sequence"
     ]
    }
   ],
   "source": [
    "tr_id = 1\n",
    "traj = new_test[tr_id]\n",
    "help_list = help_info[tr_id]\n",
    "speeds = [point[1][-2] for point in traj]\n",
    "k = math.floor(np.std(speeds)) + 1\n",
    "self = sag\n",
    "debug = False\n",
    "f, p = [], defaultdict(dict)\n",
    "h = dict()\n",
    "obsv = self.get_obsv(traj[0])\n",
    "help_dict = help_list[0]\n",
    "for state, prob in B[obsv].iteritems():\n",
    "    rid = self.get_rid(state)\n",
    "    cid = self.get_cid(state)\n",
    "    if help_dict.has_key(rid):\n",
    "        h[cid] = prob * help_dict[rid]\n",
    "f.append(h)\n",
    "for idx in range(1, len(traj)):\n",
    "    help_dict = help_list[idx]\n",
    "    obsv = self.get_obsv(traj[idx])\n",
    "    speed, timestp = traj[idx][1][-2:]\n",
    "    h = dict()\n",
    "    _obsv = self.get_obsv(traj[idx-1])\n",
    "    _speed, _timestp = traj[idx-1][1][-2:]\n",
    "    max_dist = max(_speed, speed) * (timestp - _timestp) + 1.0 * self.side\n",
    "    min_dist = min(_speed, speed) * (timestp - _timestp) - 1.0 * self.side\n",
    "    for state, prob in B[obsv].iteritems():\n",
    "        max_p = 0\n",
    "        rid = self.get_rid(state)\n",
    "        cid = self.get_cid(state)\n",
    "        if not help_dict.has_key(rid):\n",
    "            continue\n",
    "        x1, y1 = self.cell2index(cid)\n",
    "        for _state in B[_obsv].iterkeys():\n",
    "            _rid = self.get_rid(state)\n",
    "            _cid = self.get_cid(state)\n",
    "            if not f[idx-1].has_key(_cid):\n",
    "                continue\n",
    "            x2, y2 = self.cell2index(_cid)\n",
    "            avg_act_dist = (math.sqrt((x2-x1)**2 + (y2-y1)**2)) * self.side\n",
    "            t1 = t2 = t3 = 0\n",
    "            t1 = f[idx-1][_cid]\n",
    "            t3 = B[obsv][state]\n",
    "            if not (min_dist - self.side * k <= avg_act_dist <= max_dist + self.side * k):\n",
    "                if debug:\n",
    "                    print 'idx=%d,(%d,%d)'%(idx, _cid, cid)\n",
    "                    print 'dist(%d,%d) act(%d)' % (int(min_dist), int(max_dist), int(avg_act_dist))\n",
    "                continue\n",
    "            t2 = self.transfer(_cid, cid)\n",
    "            if avg_act_dist < min_dist:\n",
    "                t2 *= math.e ** (-(avg_act_dist - min_dist)**2/(min_dist**2)/2)\n",
    "            if avg_act_dist > max_dist:\n",
    "                t2 *= math.e ** (-(avg_act_dist - max_dist)**2/(max_dist**2)/2)\n",
    "            alt_p = t1 + t2 * t3\n",
    "            if alt_p > max_p:\n",
    "                max_p = alt_p\n",
    "                p[idx][cid] = _cid\n",
    "            h[cid] = max_p\n",
    "    f.append(h)\n",
    "    if debug:\n",
    "        print idx\n",
    "sl = []\n",
    "max_prob = max(f[-1].itervalues())\n",
    "last_s = max(f[-1].iterkeys(), key=lambda k: f[-1][k])\n",
    "for idx in range(len(traj)-1, 0, -1):\n",
    "    sl.append(last_s)\n",
    "    last_s = p[idx][last_s]\n",
    "sl.append(last_s)\n",
    "sl.reverse()"
   ]
  },
  {
   "cell_type": "code",
   "execution_count": 232,
   "metadata": {
    "collapsed": false
   },
   "outputs": [
    {
     "data": {
      "text/plain": [
       "([4767, 4767, 4767, 4767, 4767], 5)"
      ]
     },
     "execution_count": 232,
     "metadata": {},
     "output_type": "execute_result"
    }
   ],
   "source": [
    "sl, len(traj)"
   ]
  },
  {
   "cell_type": "code",
   "execution_count": 242,
   "metadata": {
    "collapsed": false
   },
   "outputs": [
    {
     "name": "stdout",
     "output_type": "stream",
     "text": [
      "TrajID=0\n",
      "TrajID=2\n",
      "TrajID=15\n",
      "TrajID=16\n",
      "TrajID=23\n",
      "TrajID=31\n",
      "TrajID=32\n",
      "TrajID=33\n",
      "TrajID=50\n",
      "failed: [1, 3, 4, 5, 6, 7, 8, 9, 10, 11, 12, 13, 14, 17, 18, 19, 20, 21, 22, 24, 25, 26, 27, 28, 29, 30, 34, 35, 36, 37, 38, 39, 40, 41, 42, 43, 44, 45, 46, 47, 48, 49, 51, 52, 53, 54, 55, 56, 57, 58, 59, 60, 61, 62, 63, 64, 65, 66, 67, 68, 69, 70, 71, 72, 73] 65\n"
     ]
    }
   ],
   "source": [
    "cell_pred = dict()\n",
    "statistic = []\n",
    "failed_trajs = []\n",
    "for tr_id, traj in new_test.iteritems():\n",
    "    # 提升6m左右精度\n",
    "    speeds = [point[1][-2] for point in traj]\n",
    "    k = math.floor(np.std(speeds))\n",
    "#     k = 1\n",
    "    try:\n",
    "        sl, max_prob= sag.viterbi_2(A, B, traj, k, help_info[tr_id])\n",
    "    except:\n",
    "        failed_trajs.append(tr_id)\n",
    "        continue\n",
    "#     prob = sag.backforward(A, B, traj, match_res[tr_id], k, debug=False)\n",
    "    prob = 0\n",
    "    statistic.append((tr_id, max_prob, prob))\n",
    "    cell_pred[tr_id] = sl\n",
    "    print 'TrajID=' + str(tr_id)\n",
    "print 'failed:', failed_trajs, len(failed_trajs)"
   ]
  },
  {
   "cell_type": "code",
   "execution_count": 243,
   "metadata": {
    "collapsed": false
   },
   "outputs": [],
   "source": [
    "uni_prec, uni_prec_dict = sag.evaluate(new_test, cell_pred, match_res)"
   ]
  },
  {
   "cell_type": "code",
   "execution_count": 244,
   "metadata": {
    "collapsed": true
   },
   "outputs": [],
   "source": [
    "precs = [(tr_id, prec) for tr_id, prec in uni_prec_dict.iteritems()]\n",
    "df_prob = pd.DataFrame(statistic, columns=['TrajID', 'MaxProb', 'RealProb'])\n",
    "df_prec = pd.DataFrame(precs, columns=['TrajID', 'Precision'])"
   ]
  },
  {
   "cell_type": "code",
   "execution_count": 245,
   "metadata": {
    "collapsed": false
   },
   "outputs": [
    {
     "data": {
      "text/html": [
       "<div>\n",
       "<table border=\"1\" class=\"dataframe\">\n",
       "  <thead>\n",
       "    <tr style=\"text-align: right;\">\n",
       "      <th></th>\n",
       "      <th>TrajID</th>\n",
       "      <th>MaxProb</th>\n",
       "      <th>RealProb</th>\n",
       "      <th>Precision</th>\n",
       "    </tr>\n",
       "  </thead>\n",
       "  <tbody>\n",
       "    <tr>\n",
       "      <th>0</th>\n",
       "      <td>15</td>\n",
       "      <td>10.541345</td>\n",
       "      <td>0</td>\n",
       "      <td>633.434498</td>\n",
       "    </tr>\n",
       "    <tr>\n",
       "      <th>1</th>\n",
       "      <td>0</td>\n",
       "      <td>3.809279</td>\n",
       "      <td>0</td>\n",
       "      <td>383.889664</td>\n",
       "    </tr>\n",
       "    <tr>\n",
       "      <th>2</th>\n",
       "      <td>33</td>\n",
       "      <td>17.519726</td>\n",
       "      <td>0</td>\n",
       "      <td>287.639737</td>\n",
       "    </tr>\n",
       "    <tr>\n",
       "      <th>3</th>\n",
       "      <td>50</td>\n",
       "      <td>2.945119</td>\n",
       "      <td>0</td>\n",
       "      <td>220.828086</td>\n",
       "    </tr>\n",
       "    <tr>\n",
       "      <th>4</th>\n",
       "      <td>16</td>\n",
       "      <td>7.400856</td>\n",
       "      <td>0</td>\n",
       "      <td>198.012069</td>\n",
       "    </tr>\n",
       "    <tr>\n",
       "      <th>5</th>\n",
       "      <td>23</td>\n",
       "      <td>15.213533</td>\n",
       "      <td>0</td>\n",
       "      <td>182.416851</td>\n",
       "    </tr>\n",
       "    <tr>\n",
       "      <th>6</th>\n",
       "      <td>32</td>\n",
       "      <td>10.117870</td>\n",
       "      <td>0</td>\n",
       "      <td>180.689188</td>\n",
       "    </tr>\n",
       "    <tr>\n",
       "      <th>7</th>\n",
       "      <td>31</td>\n",
       "      <td>14.521126</td>\n",
       "      <td>0</td>\n",
       "      <td>111.287973</td>\n",
       "    </tr>\n",
       "    <tr>\n",
       "      <th>8</th>\n",
       "      <td>2</td>\n",
       "      <td>17.308975</td>\n",
       "      <td>0</td>\n",
       "      <td>67.524324</td>\n",
       "    </tr>\n",
       "  </tbody>\n",
       "</table>\n",
       "</div>"
      ],
      "text/plain": [
       "   TrajID    MaxProb  RealProb   Precision\n",
       "0      15  10.541345         0  633.434498\n",
       "1       0   3.809279         0  383.889664\n",
       "2      33  17.519726         0  287.639737\n",
       "3      50   2.945119         0  220.828086\n",
       "4      16   7.400856         0  198.012069\n",
       "5      23  15.213533         0  182.416851\n",
       "6      32  10.117870         0  180.689188\n",
       "7      31  14.521126         0  111.287973\n",
       "8       2  17.308975         0   67.524324"
      ]
     },
     "execution_count": 245,
     "metadata": {},
     "output_type": "execute_result"
    }
   ],
   "source": [
    "merged = pd.merge(df_prob, df_prec).sort_values(by=['Precision'], ascending=False).reset_index(drop=True)\n",
    "error_ids = list(merged[merged['Precision'] > 100]['TrajID'].values)\n",
    "merged"
   ]
  },
  {
   "cell_type": "code",
   "execution_count": 246,
   "metadata": {
    "collapsed": false
   },
   "outputs": [
    {
     "data": {
      "text/plain": [
       "(193.67369897917462, 198.01206873568023, 218.66813120165656, 9)"
      ]
     },
     "execution_count": 246,
     "metadata": {},
     "output_type": "execute_result"
    }
   ],
   "source": [
    "np.median(uni_prec), np.median(uni_prec_dict.values()), np.mean(uni_prec), len(uni_prec_dict)"
   ]
  },
  {
   "cell_type": "markdown",
   "metadata": {
    "collapsed": true
   },
   "source": [
    "## HMM"
   ]
  },
  {
   "cell_type": "code",
   "execution_count": 88,
   "metadata": {
    "collapsed": true
   },
   "outputs": [],
   "source": [
    "hmm = reload(hmm)"
   ]
  },
  {
   "cell_type": "code",
   "execution_count": 72,
   "metadata": {
    "collapsed": false
   },
   "outputs": [
    {
     "name": "stdout",
     "output_type": "stream",
     "text": [
      "transition 12425 times\n"
     ]
    }
   ],
   "source": [
    "A = hmm.get_trans_mat(match_res)"
   ]
  },
  {
   "cell_type": "code",
   "execution_count": 73,
   "metadata": {
    "collapsed": true
   },
   "outputs": [],
   "source": [
    "B, D = hmm.get_obsv_mat(train, match_res)"
   ]
  },
  {
   "cell_type": "code",
   "execution_count": 75,
   "metadata": {
    "collapsed": false,
    "scrolled": true
   },
   "outputs": [
    {
     "name": "stdout",
     "output_type": "stream",
     "text": [
      "TrajID=0, Before/After=6/5\n",
      "TrajID=7, Before/After=25/24\n",
      "TrajID=8, Before/After=93/92\n",
      "TrajID=9, Before/After=85/83\n",
      "TrajID=13, Before/After=244/243\n",
      "TrajID=15, Before/After=11/10\n",
      "TrajID=18, Before/After=127/126\n",
      "TrajID=20, Before/After=62/61\n",
      "TrajID=28, Before/After=95/93\n",
      "TrajID=29, Before/After=122/121\n",
      "TrajID=30, Before/After=21/20\n",
      "TrajID=35, Before/After=20/18\n",
      "TrajID=37, Before/After=30/29\n",
      "TrajID=41, Before/After=43/41\n",
      "TrajID=44, Before/After=32/31\n",
      "TrajID=50, Before/After=54/52\n",
      "TrajID=51, Before/After=79/77\n",
      "TrajID=54, Before/After=13/12\n",
      "TrajID=55, Before/After=18/17\n",
      "TrajID=57, Before/After=13/12\n",
      "TrajID=59, Before/After=12/11\n",
      "TrajID=65, Before/After=121/120\n",
      "TrajID=68, Before/After=23/22\n",
      "TrajID=69, Before/After=20/18\n",
      "TrajID=72, Before/After=11/10\n"
     ]
    }
   ],
   "source": [
    "# clean test dataset\n",
    "new_test = dict()\n",
    "for tr_id, traj in test.iteritems():\n",
    "    new_test[tr_id] = []\n",
    "    matched = match_res[tr_id]\n",
    "    new_points = []\n",
    "    for point in traj:\n",
    "        obsv = point[1][2:-2]\n",
    "        state = matched[point[0]][3]\n",
    "        if B.has_key(obsv) and B[obsv].has_key(state):\n",
    "            new_points.append(point)\n",
    "    new_test[tr_id] = new_points\n",
    "    if len(new_points) != len(traj):\n",
    "        print 'TrajID=%d, Before/After=%d/%d' % (tr_id, len(traj), len(new_points))"
   ]
  },
  {
   "cell_type": "code",
   "execution_count": 85,
   "metadata": {
    "collapsed": false,
    "scrolled": true
   },
   "outputs": [
    {
     "name": "stdout",
     "output_type": "stream",
     "text": [
      "TrajID=0\n",
      "TrajID=1\n",
      "TrajID=2\n",
      "TrajID=3\n",
      "TrajID=4\n",
      "TrajID=5\n",
      "TrajID=6\n",
      "TrajID=7\n",
      "TrajID=8\n",
      "TrajID=9\n",
      "TrajID=10\n",
      "TrajID=11\n",
      "TrajID=12\n",
      "TrajID=13\n",
      "TrajID=14\n",
      "TrajID=15\n",
      "TrajID=16\n",
      "TrajID=17\n",
      "TrajID=18\n",
      "TrajID=19\n",
      "TrajID=20\n",
      "TrajID=21\n",
      "TrajID=22\n",
      "TrajID=23\n",
      "TrajID=24\n",
      "TrajID=25\n",
      "TrajID=26\n",
      "TrajID=27\n",
      "TrajID=28\n",
      "TrajID=29\n",
      "TrajID=30\n",
      "TrajID=31\n",
      "TrajID=32\n",
      "TrajID=33\n",
      "TrajID=34\n",
      "TrajID=35\n",
      "TrajID=36\n",
      "TrajID=37\n",
      "TrajID=38\n",
      "TrajID=39\n",
      "TrajID=40\n",
      "TrajID=41\n",
      "TrajID=42\n",
      "TrajID=43\n",
      "TrajID=44\n",
      "TrajID=45\n",
      "TrajID=46\n",
      "TrajID=47\n",
      "TrajID=48\n",
      "TrajID=49\n",
      "TrajID=50\n",
      "TrajID=51\n",
      "TrajID=52\n",
      "TrajID=53\n",
      "TrajID=54\n",
      "TrajID=55\n",
      "TrajID=56\n",
      "TrajID=57\n",
      "TrajID=58\n",
      "TrajID=59\n",
      "TrajID=60\n",
      "TrajID=61\n",
      "TrajID=62\n",
      "TrajID=63\n",
      "TrajID=64\n",
      "TrajID=65\n",
      "TrajID=66\n",
      "TrajID=67\n",
      "TrajID=68\n",
      "TrajID=69\n",
      "TrajID=70\n",
      "TrajID=71\n",
      "TrajID=72\n",
      "TrajID=73\n"
     ]
    },
    {
     "data": {
      "text/plain": [
       "[]"
      ]
     },
     "execution_count": 85,
     "metadata": {},
     "output_type": "execute_result"
    }
   ],
   "source": [
    "statistic = []\n",
    "failed_ids = []\n",
    "road_pred = dict()\n",
    "for tr_id, traj in new_test.iteritems():\n",
    "    sl, max_prob, real_prob = [], 0, 0\n",
    "    try:\n",
    "        sl, max_prob = hmm.viterbi(A, B, traj)\n",
    "#         real_prob = hmm.backforward(A, B, traj, match_res[tr_id], debug=False)\n",
    "        statistic.append((tr_id, max_prob, real_prob))\n",
    "        road_pred[tr_id] = sl\n",
    "    except:\n",
    "        failed_ids.append(tr_id)\n",
    "        continue\n",
    "    print 'TrajID=' + str(tr_id)\n",
    "failed_ids"
   ]
  },
  {
   "cell_type": "code",
   "execution_count": 89,
   "metadata": {
    "collapsed": false
   },
   "outputs": [],
   "source": [
    "pred = hmm.evaluate(new_test, road_pred, match_res)"
   ]
  },
  {
   "cell_type": "code",
   "execution_count": 91,
   "metadata": {
    "collapsed": false
   },
   "outputs": [
    {
     "data": {
      "text/plain": [
       "0.5239651416122004"
      ]
     },
     "execution_count": 91,
     "metadata": {},
     "output_type": "execute_result"
    }
   ],
   "source": [
    "np.median(pred.values())"
   ]
  },
  {
   "cell_type": "code",
   "execution_count": 93,
   "metadata": {
    "collapsed": false,
    "scrolled": true
   },
   "outputs": [
    {
     "data": {
      "text/html": [
       "<div>\n",
       "<table border=\"1\" class=\"dataframe\">\n",
       "  <thead>\n",
       "    <tr style=\"text-align: right;\">\n",
       "      <th></th>\n",
       "      <th>RealRid</th>\n",
       "      <th>PredRid</th>\n",
       "    </tr>\n",
       "  </thead>\n",
       "  <tbody>\n",
       "    <tr>\n",
       "      <th>0</th>\n",
       "      <td>164316039</td>\n",
       "      <td>164316039</td>\n",
       "    </tr>\n",
       "    <tr>\n",
       "      <th>1</th>\n",
       "      <td>164316039</td>\n",
       "      <td>164316039</td>\n",
       "    </tr>\n",
       "    <tr>\n",
       "      <th>2</th>\n",
       "      <td>164316039</td>\n",
       "      <td>164316039</td>\n",
       "    </tr>\n",
       "    <tr>\n",
       "      <th>3</th>\n",
       "      <td>164316039</td>\n",
       "      <td>164316039</td>\n",
       "    </tr>\n",
       "    <tr>\n",
       "      <th>4</th>\n",
       "      <td>164316039</td>\n",
       "      <td>164316039</td>\n",
       "    </tr>\n",
       "    <tr>\n",
       "      <th>5</th>\n",
       "      <td>164316039</td>\n",
       "      <td>164316039</td>\n",
       "    </tr>\n",
       "    <tr>\n",
       "      <th>6</th>\n",
       "      <td>164316039</td>\n",
       "      <td>164316039</td>\n",
       "    </tr>\n",
       "    <tr>\n",
       "      <th>7</th>\n",
       "      <td>164316039</td>\n",
       "      <td>164316039</td>\n",
       "    </tr>\n",
       "    <tr>\n",
       "      <th>8</th>\n",
       "      <td>164316039</td>\n",
       "      <td>164316039</td>\n",
       "    </tr>\n",
       "    <tr>\n",
       "      <th>9</th>\n",
       "      <td>164316039</td>\n",
       "      <td>164316039</td>\n",
       "    </tr>\n",
       "    <tr>\n",
       "      <th>10</th>\n",
       "      <td>164316020</td>\n",
       "      <td>164316039</td>\n",
       "    </tr>\n",
       "    <tr>\n",
       "      <th>11</th>\n",
       "      <td>164316020</td>\n",
       "      <td>164316039</td>\n",
       "    </tr>\n",
       "    <tr>\n",
       "      <th>12</th>\n",
       "      <td>164316020</td>\n",
       "      <td>164316039</td>\n",
       "    </tr>\n",
       "    <tr>\n",
       "      <th>13</th>\n",
       "      <td>164316020</td>\n",
       "      <td>164316039</td>\n",
       "    </tr>\n",
       "    <tr>\n",
       "      <th>14</th>\n",
       "      <td>164316020</td>\n",
       "      <td>164316039</td>\n",
       "    </tr>\n",
       "    <tr>\n",
       "      <th>15</th>\n",
       "      <td>164316020</td>\n",
       "      <td>164316039</td>\n",
       "    </tr>\n",
       "    <tr>\n",
       "      <th>16</th>\n",
       "      <td>164316020</td>\n",
       "      <td>164316039</td>\n",
       "    </tr>\n",
       "    <tr>\n",
       "      <th>17</th>\n",
       "      <td>135385548</td>\n",
       "      <td>164316039</td>\n",
       "    </tr>\n",
       "    <tr>\n",
       "      <th>18</th>\n",
       "      <td>135404398</td>\n",
       "      <td>164316039</td>\n",
       "    </tr>\n",
       "    <tr>\n",
       "      <th>19</th>\n",
       "      <td>263913987</td>\n",
       "      <td>164316039</td>\n",
       "    </tr>\n",
       "    <tr>\n",
       "      <th>20</th>\n",
       "      <td>263913987</td>\n",
       "      <td>164316039</td>\n",
       "    </tr>\n",
       "    <tr>\n",
       "      <th>21</th>\n",
       "      <td>263913987</td>\n",
       "      <td>164316039</td>\n",
       "    </tr>\n",
       "    <tr>\n",
       "      <th>22</th>\n",
       "      <td>263913987</td>\n",
       "      <td>164316039</td>\n",
       "    </tr>\n",
       "    <tr>\n",
       "      <th>23</th>\n",
       "      <td>384531666</td>\n",
       "      <td>164316039</td>\n",
       "    </tr>\n",
       "    <tr>\n",
       "      <th>24</th>\n",
       "      <td>384531666</td>\n",
       "      <td>164316039</td>\n",
       "    </tr>\n",
       "    <tr>\n",
       "      <th>25</th>\n",
       "      <td>384531666</td>\n",
       "      <td>164316039</td>\n",
       "    </tr>\n",
       "    <tr>\n",
       "      <th>26</th>\n",
       "      <td>384531666</td>\n",
       "      <td>164316039</td>\n",
       "    </tr>\n",
       "    <tr>\n",
       "      <th>27</th>\n",
       "      <td>384531666</td>\n",
       "      <td>164316039</td>\n",
       "    </tr>\n",
       "    <tr>\n",
       "      <th>28</th>\n",
       "      <td>384531666</td>\n",
       "      <td>164316039</td>\n",
       "    </tr>\n",
       "    <tr>\n",
       "      <th>29</th>\n",
       "      <td>384531666</td>\n",
       "      <td>164316039</td>\n",
       "    </tr>\n",
       "    <tr>\n",
       "      <th>30</th>\n",
       "      <td>384531666</td>\n",
       "      <td>164316039</td>\n",
       "    </tr>\n",
       "    <tr>\n",
       "      <th>31</th>\n",
       "      <td>384531666</td>\n",
       "      <td>164316039</td>\n",
       "    </tr>\n",
       "    <tr>\n",
       "      <th>32</th>\n",
       "      <td>384531666</td>\n",
       "      <td>164316039</td>\n",
       "    </tr>\n",
       "    <tr>\n",
       "      <th>33</th>\n",
       "      <td>384531666</td>\n",
       "      <td>164316039</td>\n",
       "    </tr>\n",
       "    <tr>\n",
       "      <th>34</th>\n",
       "      <td>384531666</td>\n",
       "      <td>164316039</td>\n",
       "    </tr>\n",
       "  </tbody>\n",
       "</table>\n",
       "</div>"
      ],
      "text/plain": [
       "      RealRid    PredRid\n",
       "0   164316039  164316039\n",
       "1   164316039  164316039\n",
       "2   164316039  164316039\n",
       "3   164316039  164316039\n",
       "4   164316039  164316039\n",
       "5   164316039  164316039\n",
       "6   164316039  164316039\n",
       "7   164316039  164316039\n",
       "8   164316039  164316039\n",
       "9   164316039  164316039\n",
       "10  164316020  164316039\n",
       "11  164316020  164316039\n",
       "12  164316020  164316039\n",
       "13  164316020  164316039\n",
       "14  164316020  164316039\n",
       "15  164316020  164316039\n",
       "16  164316020  164316039\n",
       "17  135385548  164316039\n",
       "18  135404398  164316039\n",
       "19  263913987  164316039\n",
       "20  263913987  164316039\n",
       "21  263913987  164316039\n",
       "22  263913987  164316039\n",
       "23  384531666  164316039\n",
       "24  384531666  164316039\n",
       "25  384531666  164316039\n",
       "26  384531666  164316039\n",
       "27  384531666  164316039\n",
       "28  384531666  164316039\n",
       "29  384531666  164316039\n",
       "30  384531666  164316039\n",
       "31  384531666  164316039\n",
       "32  384531666  164316039\n",
       "33  384531666  164316039\n",
       "34  384531666  164316039"
      ]
     },
     "execution_count": 93,
     "metadata": {},
     "output_type": "execute_result"
    }
   ],
   "source": [
    "tr_id = 1\n",
    "traj = new_test[tr_id]\n",
    "matched = match_res[tr_id]\n",
    "predict = road_pred[tr_id]\n",
    "cnt = 0\n",
    "comp = []\n",
    "for old_idx, point in traj:\n",
    "    rid = matched[old_idx][3]\n",
    "    comp.append((rid, predict[cnt]))\n",
    "pd.DataFrame(comp, columns=['RealRid', 'PredRid'])"
   ]
  },
  {
   "cell_type": "code",
   "execution_count": 86,
   "metadata": {
    "collapsed": false,
    "scrolled": true
   },
   "outputs": [
    {
     "data": {
      "text/html": [
       "<div>\n",
       "<table border=\"1\" class=\"dataframe\">\n",
       "  <thead>\n",
       "    <tr style=\"text-align: right;\">\n",
       "      <th></th>\n",
       "      <th>TrajID</th>\n",
       "      <th>MaxProb</th>\n",
       "      <th>RealProb</th>\n",
       "    </tr>\n",
       "  </thead>\n",
       "  <tbody>\n",
       "    <tr>\n",
       "      <th>0</th>\n",
       "      <td>0</td>\n",
       "      <td>1.962963</td>\n",
       "      <td>0</td>\n",
       "    </tr>\n",
       "    <tr>\n",
       "      <th>1</th>\n",
       "      <td>1</td>\n",
       "      <td>2.049272</td>\n",
       "      <td>0</td>\n",
       "    </tr>\n",
       "    <tr>\n",
       "      <th>2</th>\n",
       "      <td>2</td>\n",
       "      <td>18.581395</td>\n",
       "      <td>0</td>\n",
       "    </tr>\n",
       "    <tr>\n",
       "      <th>3</th>\n",
       "      <td>3</td>\n",
       "      <td>0.715420</td>\n",
       "      <td>0</td>\n",
       "    </tr>\n",
       "    <tr>\n",
       "      <th>4</th>\n",
       "      <td>4</td>\n",
       "      <td>0.387875</td>\n",
       "      <td>0</td>\n",
       "    </tr>\n",
       "    <tr>\n",
       "      <th>5</th>\n",
       "      <td>5</td>\n",
       "      <td>1.213731</td>\n",
       "      <td>0</td>\n",
       "    </tr>\n",
       "    <tr>\n",
       "      <th>6</th>\n",
       "      <td>6</td>\n",
       "      <td>0.096279</td>\n",
       "      <td>0</td>\n",
       "    </tr>\n",
       "    <tr>\n",
       "      <th>7</th>\n",
       "      <td>7</td>\n",
       "      <td>1.032155</td>\n",
       "      <td>0</td>\n",
       "    </tr>\n",
       "    <tr>\n",
       "      <th>8</th>\n",
       "      <td>8</td>\n",
       "      <td>9.782088</td>\n",
       "      <td>0</td>\n",
       "    </tr>\n",
       "    <tr>\n",
       "      <th>9</th>\n",
       "      <td>9</td>\n",
       "      <td>1.107590</td>\n",
       "      <td>0</td>\n",
       "    </tr>\n",
       "    <tr>\n",
       "      <th>10</th>\n",
       "      <td>10</td>\n",
       "      <td>13.597497</td>\n",
       "      <td>0</td>\n",
       "    </tr>\n",
       "    <tr>\n",
       "      <th>11</th>\n",
       "      <td>11</td>\n",
       "      <td>13.631092</td>\n",
       "      <td>0</td>\n",
       "    </tr>\n",
       "    <tr>\n",
       "      <th>12</th>\n",
       "      <td>12</td>\n",
       "      <td>15.094352</td>\n",
       "      <td>0</td>\n",
       "    </tr>\n",
       "    <tr>\n",
       "      <th>13</th>\n",
       "      <td>13</td>\n",
       "      <td>40.057656</td>\n",
       "      <td>0</td>\n",
       "    </tr>\n",
       "    <tr>\n",
       "      <th>14</th>\n",
       "      <td>14</td>\n",
       "      <td>34.400378</td>\n",
       "      <td>0</td>\n",
       "    </tr>\n",
       "    <tr>\n",
       "      <th>15</th>\n",
       "      <td>15</td>\n",
       "      <td>0.528311</td>\n",
       "      <td>0</td>\n",
       "    </tr>\n",
       "    <tr>\n",
       "      <th>16</th>\n",
       "      <td>16</td>\n",
       "      <td>0.260105</td>\n",
       "      <td>0</td>\n",
       "    </tr>\n",
       "    <tr>\n",
       "      <th>17</th>\n",
       "      <td>17</td>\n",
       "      <td>40.165428</td>\n",
       "      <td>0</td>\n",
       "    </tr>\n",
       "    <tr>\n",
       "      <th>18</th>\n",
       "      <td>18</td>\n",
       "      <td>14.978997</td>\n",
       "      <td>0</td>\n",
       "    </tr>\n",
       "    <tr>\n",
       "      <th>19</th>\n",
       "      <td>19</td>\n",
       "      <td>21.351124</td>\n",
       "      <td>0</td>\n",
       "    </tr>\n",
       "    <tr>\n",
       "      <th>20</th>\n",
       "      <td>20</td>\n",
       "      <td>6.826817</td>\n",
       "      <td>0</td>\n",
       "    </tr>\n",
       "    <tr>\n",
       "      <th>21</th>\n",
       "      <td>21</td>\n",
       "      <td>8.084641</td>\n",
       "      <td>0</td>\n",
       "    </tr>\n",
       "    <tr>\n",
       "      <th>22</th>\n",
       "      <td>22</td>\n",
       "      <td>9.173746</td>\n",
       "      <td>0</td>\n",
       "    </tr>\n",
       "    <tr>\n",
       "      <th>23</th>\n",
       "      <td>23</td>\n",
       "      <td>11.666931</td>\n",
       "      <td>0</td>\n",
       "    </tr>\n",
       "    <tr>\n",
       "      <th>24</th>\n",
       "      <td>24</td>\n",
       "      <td>2.193506</td>\n",
       "      <td>0</td>\n",
       "    </tr>\n",
       "    <tr>\n",
       "      <th>25</th>\n",
       "      <td>25</td>\n",
       "      <td>6.590168</td>\n",
       "      <td>0</td>\n",
       "    </tr>\n",
       "    <tr>\n",
       "      <th>26</th>\n",
       "      <td>26</td>\n",
       "      <td>8.261714</td>\n",
       "      <td>0</td>\n",
       "    </tr>\n",
       "    <tr>\n",
       "      <th>27</th>\n",
       "      <td>27</td>\n",
       "      <td>10.562842</td>\n",
       "      <td>0</td>\n",
       "    </tr>\n",
       "    <tr>\n",
       "      <th>28</th>\n",
       "      <td>28</td>\n",
       "      <td>3.943109</td>\n",
       "      <td>0</td>\n",
       "    </tr>\n",
       "    <tr>\n",
       "      <th>29</th>\n",
       "      <td>29</td>\n",
       "      <td>25.491170</td>\n",
       "      <td>0</td>\n",
       "    </tr>\n",
       "    <tr>\n",
       "      <th>...</th>\n",
       "      <td>...</td>\n",
       "      <td>...</td>\n",
       "      <td>...</td>\n",
       "    </tr>\n",
       "    <tr>\n",
       "      <th>44</th>\n",
       "      <td>44</td>\n",
       "      <td>1.182486</td>\n",
       "      <td>0</td>\n",
       "    </tr>\n",
       "    <tr>\n",
       "      <th>45</th>\n",
       "      <td>45</td>\n",
       "      <td>5.863153</td>\n",
       "      <td>0</td>\n",
       "    </tr>\n",
       "    <tr>\n",
       "      <th>46</th>\n",
       "      <td>46</td>\n",
       "      <td>2.820145</td>\n",
       "      <td>0</td>\n",
       "    </tr>\n",
       "    <tr>\n",
       "      <th>47</th>\n",
       "      <td>47</td>\n",
       "      <td>2.723817</td>\n",
       "      <td>0</td>\n",
       "    </tr>\n",
       "    <tr>\n",
       "      <th>48</th>\n",
       "      <td>48</td>\n",
       "      <td>1.615662</td>\n",
       "      <td>0</td>\n",
       "    </tr>\n",
       "    <tr>\n",
       "      <th>49</th>\n",
       "      <td>49</td>\n",
       "      <td>1.930986</td>\n",
       "      <td>0</td>\n",
       "    </tr>\n",
       "    <tr>\n",
       "      <th>50</th>\n",
       "      <td>50</td>\n",
       "      <td>14.800731</td>\n",
       "      <td>0</td>\n",
       "    </tr>\n",
       "    <tr>\n",
       "      <th>51</th>\n",
       "      <td>51</td>\n",
       "      <td>12.336453</td>\n",
       "      <td>0</td>\n",
       "    </tr>\n",
       "    <tr>\n",
       "      <th>52</th>\n",
       "      <td>52</td>\n",
       "      <td>3.887155</td>\n",
       "      <td>0</td>\n",
       "    </tr>\n",
       "    <tr>\n",
       "      <th>53</th>\n",
       "      <td>53</td>\n",
       "      <td>6.188078</td>\n",
       "      <td>0</td>\n",
       "    </tr>\n",
       "    <tr>\n",
       "      <th>54</th>\n",
       "      <td>54</td>\n",
       "      <td>1.527142</td>\n",
       "      <td>0</td>\n",
       "    </tr>\n",
       "    <tr>\n",
       "      <th>55</th>\n",
       "      <td>55</td>\n",
       "      <td>1.161299</td>\n",
       "      <td>0</td>\n",
       "    </tr>\n",
       "    <tr>\n",
       "      <th>56</th>\n",
       "      <td>56</td>\n",
       "      <td>2.571429</td>\n",
       "      <td>0</td>\n",
       "    </tr>\n",
       "    <tr>\n",
       "      <th>57</th>\n",
       "      <td>57</td>\n",
       "      <td>4.091645</td>\n",
       "      <td>0</td>\n",
       "    </tr>\n",
       "    <tr>\n",
       "      <th>58</th>\n",
       "      <td>58</td>\n",
       "      <td>2.391243</td>\n",
       "      <td>0</td>\n",
       "    </tr>\n",
       "    <tr>\n",
       "      <th>59</th>\n",
       "      <td>59</td>\n",
       "      <td>2.539683</td>\n",
       "      <td>0</td>\n",
       "    </tr>\n",
       "    <tr>\n",
       "      <th>60</th>\n",
       "      <td>60</td>\n",
       "      <td>6.256746</td>\n",
       "      <td>0</td>\n",
       "    </tr>\n",
       "    <tr>\n",
       "      <th>61</th>\n",
       "      <td>61</td>\n",
       "      <td>3.231351</td>\n",
       "      <td>0</td>\n",
       "    </tr>\n",
       "    <tr>\n",
       "      <th>62</th>\n",
       "      <td>62</td>\n",
       "      <td>3.556856</td>\n",
       "      <td>0</td>\n",
       "    </tr>\n",
       "    <tr>\n",
       "      <th>63</th>\n",
       "      <td>63</td>\n",
       "      <td>2.242036</td>\n",
       "      <td>0</td>\n",
       "    </tr>\n",
       "    <tr>\n",
       "      <th>64</th>\n",
       "      <td>64</td>\n",
       "      <td>2.911763</td>\n",
       "      <td>0</td>\n",
       "    </tr>\n",
       "    <tr>\n",
       "      <th>65</th>\n",
       "      <td>65</td>\n",
       "      <td>65.755361</td>\n",
       "      <td>0</td>\n",
       "    </tr>\n",
       "    <tr>\n",
       "      <th>66</th>\n",
       "      <td>66</td>\n",
       "      <td>2.988105</td>\n",
       "      <td>0</td>\n",
       "    </tr>\n",
       "    <tr>\n",
       "      <th>67</th>\n",
       "      <td>67</td>\n",
       "      <td>8.929611</td>\n",
       "      <td>0</td>\n",
       "    </tr>\n",
       "    <tr>\n",
       "      <th>68</th>\n",
       "      <td>68</td>\n",
       "      <td>2.112158</td>\n",
       "      <td>0</td>\n",
       "    </tr>\n",
       "    <tr>\n",
       "      <th>69</th>\n",
       "      <td>69</td>\n",
       "      <td>4.021884</td>\n",
       "      <td>0</td>\n",
       "    </tr>\n",
       "    <tr>\n",
       "      <th>70</th>\n",
       "      <td>70</td>\n",
       "      <td>1.238864</td>\n",
       "      <td>0</td>\n",
       "    </tr>\n",
       "    <tr>\n",
       "      <th>71</th>\n",
       "      <td>71</td>\n",
       "      <td>4.332365</td>\n",
       "      <td>0</td>\n",
       "    </tr>\n",
       "    <tr>\n",
       "      <th>72</th>\n",
       "      <td>72</td>\n",
       "      <td>1.387015</td>\n",
       "      <td>0</td>\n",
       "    </tr>\n",
       "    <tr>\n",
       "      <th>73</th>\n",
       "      <td>73</td>\n",
       "      <td>4.285714</td>\n",
       "      <td>0</td>\n",
       "    </tr>\n",
       "  </tbody>\n",
       "</table>\n",
       "<p>74 rows × 3 columns</p>\n",
       "</div>"
      ],
      "text/plain": [
       "    TrajID    MaxProb  RealProb\n",
       "0        0   1.962963         0\n",
       "1        1   2.049272         0\n",
       "2        2  18.581395         0\n",
       "3        3   0.715420         0\n",
       "4        4   0.387875         0\n",
       "5        5   1.213731         0\n",
       "6        6   0.096279         0\n",
       "7        7   1.032155         0\n",
       "8        8   9.782088         0\n",
       "9        9   1.107590         0\n",
       "10      10  13.597497         0\n",
       "11      11  13.631092         0\n",
       "12      12  15.094352         0\n",
       "13      13  40.057656         0\n",
       "14      14  34.400378         0\n",
       "15      15   0.528311         0\n",
       "16      16   0.260105         0\n",
       "17      17  40.165428         0\n",
       "18      18  14.978997         0\n",
       "19      19  21.351124         0\n",
       "20      20   6.826817         0\n",
       "21      21   8.084641         0\n",
       "22      22   9.173746         0\n",
       "23      23  11.666931         0\n",
       "24      24   2.193506         0\n",
       "25      25   6.590168         0\n",
       "26      26   8.261714         0\n",
       "27      27  10.562842         0\n",
       "28      28   3.943109         0\n",
       "29      29  25.491170         0\n",
       "..     ...        ...       ...\n",
       "44      44   1.182486         0\n",
       "45      45   5.863153         0\n",
       "46      46   2.820145         0\n",
       "47      47   2.723817         0\n",
       "48      48   1.615662         0\n",
       "49      49   1.930986         0\n",
       "50      50  14.800731         0\n",
       "51      51  12.336453         0\n",
       "52      52   3.887155         0\n",
       "53      53   6.188078         0\n",
       "54      54   1.527142         0\n",
       "55      55   1.161299         0\n",
       "56      56   2.571429         0\n",
       "57      57   4.091645         0\n",
       "58      58   2.391243         0\n",
       "59      59   2.539683         0\n",
       "60      60   6.256746         0\n",
       "61      61   3.231351         0\n",
       "62      62   3.556856         0\n",
       "63      63   2.242036         0\n",
       "64      64   2.911763         0\n",
       "65      65  65.755361         0\n",
       "66      66   2.988105         0\n",
       "67      67   8.929611         0\n",
       "68      68   2.112158         0\n",
       "69      69   4.021884         0\n",
       "70      70   1.238864         0\n",
       "71      71   4.332365         0\n",
       "72      72   1.387015         0\n",
       "73      73   4.285714         0\n",
       "\n",
       "[74 rows x 3 columns]"
      ]
     },
     "execution_count": 86,
     "metadata": {},
     "output_type": "execute_result"
    }
   ],
   "source": [
    "df_prob = pd.DataFrame(statistic, columns=['TrajID', 'MaxProb', 'RealProb'])\n",
    "df_prob"
   ]
  },
  {
   "cell_type": "markdown",
   "metadata": {},
   "source": [
    "# Display"
   ]
  },
  {
   "cell_type": "code",
   "execution_count": 51,
   "metadata": {
    "collapsed": true
   },
   "outputs": [],
   "source": [
    "sum1, sum2 = dict(), dict()\n",
    "r_rid = 0\n",
    "for rid in D.iterkeys():\n",
    "    sum1[r_rid] = len(D[rid])\n",
    "    r_rid += 1\n",
    "for obsv in B.iterkeys():\n",
    "    num = len(B[obsv])\n",
    "    if not sum2.has_key(num):\n",
    "        sum2[num] = 0\n",
    "    sum2[num] += 1"
   ]
  },
  {
   "cell_type": "code",
   "execution_count": 57,
   "metadata": {
    "collapsed": true
   },
   "outputs": [],
   "source": [
    "plot = reload(plot)"
   ]
  },
  {
   "cell_type": "code",
   "execution_count": 50,
   "metadata": {
    "collapsed": false
   },
   "outputs": [
    {
     "data": {
      "text/plain": [
       "437"
      ]
     },
     "execution_count": 50,
     "metadata": {},
     "output_type": "execute_result"
    }
   ],
   "source": [
    "len(B)"
   ]
  },
  {
   "cell_type": "code",
   "execution_count": 58,
   "metadata": {
    "collapsed": false
   },
   "outputs": [],
   "source": [
    "plot.draw_barplot(sum2, 'n(obsv) of n(road)', 'n(road)', 'n(obsv)')"
   ]
  },
  {
   "cell_type": "code",
   "execution_count": null,
   "metadata": {
    "collapsed": true
   },
   "outputs": [],
   "source": []
  }
 ],
 "metadata": {
  "kernelspec": {
   "display_name": "Python 2",
   "language": "python",
   "name": "python2"
  },
  "language_info": {
   "codemirror_mode": {
    "name": "ipython",
    "version": 2
   },
   "file_extension": ".py",
   "mimetype": "text/x-python",
   "name": "python",
   "nbconvert_exporter": "python",
   "pygments_lexer": "ipython2",
   "version": "2.7.13"
  }
 },
 "nbformat": 4,
 "nbformat_minor": 2
}
