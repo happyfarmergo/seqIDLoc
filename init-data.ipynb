{
 "cells": [
  {
   "cell_type": "code",
   "execution_count": 1,
   "metadata": {
    "collapsed": false
   },
   "outputs": [],
   "source": [
    "import numpy as np\n",
    "import pandas as pd\n",
    "import utm\n",
    "import math\n",
    "import os\n",
    "import sys\n",
    "sys.path.append('./src')\n",
    "import matplotlib\n",
    "import matplotlib.pyplot as plt\n",
    "import display_osm\n",
    "import display_gm\n",
    "import plot\n",
    "%matplotlib inline"
   ]
  },
  {
   "cell_type": "code",
   "execution_count": 61,
   "metadata": {
    "collapsed": true
   },
   "outputs": [],
   "source": [
    "dataset = 'siping'\n",
    "datatype = '4g'\n",
    "disp_path = './display/%s_%s/' % (dataset, datatype)\n",
    "data_path = './data/%s_%s/' % (dataset, datatype)\n",
    "data_file = './data/%s_%s/data_%s.csv' % (dataset, datatype, datatype)"
   ]
  },
  {
   "cell_type": "markdown",
   "metadata": {},
   "source": [
    "# 数据预处理\n",
    "### 数据范围\n",
    "* key_form GSM or LTE\n",
    "* bounding_box \n",
    "\n",
    "### 数据错误\n",
    "* (Mcc, Mnc)\n",
    "    - (460, 0) 移动(程序初始化问题)\n",
    "    - (460, 1) 联通\n",
    "* 4G数据只有主基站信息\n",
    "\n",
    "### 数据乱序\n",
    "* Timestamp 乱序\n",
    "\n",
    "### 数据重复\n",
    "* First Tower 和第一个 Connected Tower重复\n",
    "* 完全重复的数据"
   ]
  },
  {
   "cell_type": "code",
   "execution_count": 3,
   "metadata": {
    "collapsed": false
   },
   "outputs": [
    {
     "data": {
      "text/plain": [
       "(12, 19)"
      ]
     },
     "execution_count": 3,
     "metadata": {},
     "output_type": "execute_result"
    }
   ],
   "source": [
    "TimeStamp = ['MRTime']\n",
    "Location = ['Longitude', 'Latitude', 'Altitude', 'Accuracy', 'Speed']\n",
    "SignalRecord = ['Dbm', 'isGsm', 'SignalToNoiseRatio', 'EvdoEcio', 'Level']\n",
    "Battery = ['BLevel', 'BCapacity']\n",
    "Geomagnetism = ['X', 'Y', 'Z', 'X_theta', 'Y_theta', 'Z_theta']\n",
    "Towers = ['Mcc', 'Mnc', 'RNCID', 'CellID', 'Arfcn', 'Basic_psc_pci', 'Lon', 'Lat', 'AsuLevel', 'SignalLevel', 'Dbm', 'Type']\n",
    "Others = ['TrajID', 'IMEI', 'IMSI']\n",
    "Basic_prop_len = len(TimeStamp) + len(Location) + len(SignalRecord) + len(Battery) + len(Geomagnetism)\n",
    "NumConnLoc = Basic_prop_len + len(Towers)\n",
    "MncLoc = NumConnLoc + 2\n",
    "len(Towers), Basic_prop_len"
   ]
  },
  {
   "cell_type": "code",
   "execution_count": 12,
   "metadata": {
    "collapsed": true
   },
   "outputs": [],
   "source": [
    "def get_properties(num_tower):\n",
    "    basic_prop = []\n",
    "    basic_prop.extend(Others)\n",
    "    basic_prop.extend(TimeStamp)\n",
    "    basic_prop.extend(Location)\n",
    "    basic_prop.extend(SignalRecord)\n",
    "    basic_prop.extend(Battery)\n",
    "    basic_prop.extend(Geomagnetism)\n",
    "    basic_prop.append('Num_Connected')\n",
    "    for i in range(num_tower):\n",
    "        tower_i = [x + '_' + str(i+1) for x in Towers]\n",
    "        basic_prop.extend(tower_i)\n",
    "    return basic_prop\n",
    "\n",
    "def load_data(folder, bounding_box, key_form, min_num=20):\n",
    "    if not os.path.exists(folder):\n",
    "        print 'not exist'\n",
    "        return\n",
    "    iterator = [f for f in os.listdir(folder) if os.path.isfile(os.path.join(folder, f))]\n",
    "    iterator = sorted(iterator, key=lambda x: int(x.split('.')[0]))\n",
    "    data = []\n",
    "    to_del = []\n",
    "    for f in iterator:\n",
    "        coors = load_file(os.path.join(folder, f), bounding_box, key_form, min_num=min_num)\n",
    "        if type(coors) is str:\n",
    "            print 'discard filename:', f, ' for reason:', coors\n",
    "            to_del.append(os.path.join(folder, f))\n",
    "            continue\n",
    "        data.append(coors)\n",
    "    for filename in to_del:\n",
    "        os.remove(filename)\n",
    "    return data\n",
    "\n",
    "def outside(x, y, bounding_box):\n",
    "    x0, x1, y0, y1 = bounding_box\n",
    "    return x < x0 or x > x1 or y < y0 or y > y1\n",
    "    \n",
    "def load_file(filename, bounding_box, key_form, min_num=20):\n",
    "    coors = pd.DataFrame()\n",
    "    tr_id = int(filename.split('/')[-1].split('.')[0])\n",
    "    with open(filename) as fp:\n",
    "        data = fp.readlines()\n",
    "        imei = int(data[0].strip().split(':')[-1])\n",
    "        imsi = int(data[1].strip().split(':')[-1])\n",
    "        total = int(data[7].strip())\n",
    "        max_num_tower = 0\n",
    "        result = []\n",
    "        if key_form not in data[8]:\n",
    "            return 'not' + key_form\n",
    "        idx = 8\n",
    "        last_stamp = 0\n",
    "        for line in data[8:8+total]:\n",
    "            idx += 1\n",
    "            mr = line.strip().split(',')\n",
    "            lat, lng = float(mr[2]), float(mr[1])\n",
    "            x, y, _, _ = utm.from_latlon(lat, lng)\n",
    "            stamp = int(mr[0]) / 1000\n",
    "            try:\n",
    "                mcc, mnc = int(mr[MncLoc - 1]), int(mr[MncLoc])\n",
    "            except:\n",
    "                continue\n",
    "#             print idx, mcc, mnc\n",
    "            num_tower = int(mr[NumConnLoc])\n",
    "            if mnc == 11:\n",
    "                return 'mnc error'\n",
    "            if stamp == last_stamp:\n",
    "#                 print filename, 'dup', idx\n",
    "                continue\n",
    "            if outside(x, y, bounding_box):\n",
    "                return 'outside'\n",
    "            if mcc!=460 or num_tower == 0:\n",
    "                print filename\n",
    "                continue\n",
    "            assert (len(mr) - Basic_prop_len - 1) % len(Towers) == 0\n",
    "            max_num_tower = max(max_num_tower, num_tower)\n",
    "            mr = mr[:Basic_prop_len] + mr[NumConnLoc:]\n",
    "            mr.insert(0, imsi)\n",
    "            mr.insert(0, imei)\n",
    "            mr.insert(0, tr_id)\n",
    "            tup = tuple(mr)\n",
    "            result.append(tup)\n",
    "            last_stamp = stamp\n",
    "        properties = get_properties(max_num_tower)\n",
    "        if len(result) > 0:\n",
    "            coors = pd.DataFrame(result, columns=properties).sort_values(by=['MRTime']).reset_index(drop=True)\n",
    "            coors = coors[coors['RNCID_1'].astype(int)!=-1]\n",
    "            coors = coors.fillna(-1)\n",
    "    return coors"
   ]
  },
  {
   "cell_type": "code",
   "execution_count": 53,
   "metadata": {
    "collapsed": true
   },
   "outputs": [],
   "source": [
    "# bounding_box = (328000, 332000, 3461000, 3464000)\n",
    "bounding_box = (356000, 359000, 3460000, 3463000)\n",
    "key_form = 'LTE'\n",
    "key_form_map = {'GSM':2, 'LTE':4}"
   ]
  },
  {
   "cell_type": "code",
   "execution_count": 52,
   "metadata": {
    "collapsed": false,
    "scrolled": true
   },
   "outputs": [
    {
     "name": "stdout",
     "output_type": "stream",
     "text": [
      "index= 0\n",
      "index= 1\n",
      "index= 2\n",
      "index= 3\n",
      "index= 4\n",
      "index= 5\n",
      "index= 6\n",
      "index= 7\n",
      "index= 8\n",
      "index= 9\n",
      "index= 10\n",
      "index= 11\n",
      "index= 12\n",
      "index= 13\n",
      "index= 14\n",
      "index= 15\n",
      "index= 16\n",
      "index= 17\n",
      "index= 18\n",
      "index= 19\n",
      "index= 20\n",
      "index= 21\n",
      "index= 22\n",
      "index= 23\n"
     ]
    }
   ],
   "source": [
    "for i in range(24):\n",
    "#     if i!= 7:\n",
    "#         continue\n",
    "    print 'index=',i\n",
    "    fname =  './data/uploads/' + str(i) + '.txt'\n",
    "    coors = load_file(fname, bounding_box, key_form, min_num=20)\n",
    "    if type(coors) is str:\n",
    "        print 'discard filename:', fname, ' for reason:', coors"
   ]
  },
  {
   "cell_type": "code",
   "execution_count": 43,
   "metadata": {
    "collapsed": false,
    "scrolled": true
   },
   "outputs": [
    {
     "data": {
      "text/html": [
       "<div>\n",
       "<table border=\"1\" class=\"dataframe\">\n",
       "  <thead>\n",
       "    <tr style=\"text-align: right;\">\n",
       "      <th></th>\n",
       "      <th>Mcc_1</th>\n",
       "      <th>Mnc_1</th>\n",
       "      <th>RNCID_1</th>\n",
       "      <th>CellID_1</th>\n",
       "      <th>Mcc_2</th>\n",
       "      <th>Mnc_2</th>\n",
       "      <th>RNCID_2</th>\n",
       "      <th>CellID_2</th>\n",
       "    </tr>\n",
       "  </thead>\n",
       "  <tbody>\n",
       "  </tbody>\n",
       "</table>\n",
       "</div>"
      ],
      "text/plain": [
       "Empty DataFrame\n",
       "Columns: [Mcc_1, Mnc_1, RNCID_1, CellID_1, Mcc_2, Mnc_2, RNCID_2, CellID_2]\n",
       "Index: []"
      ]
     },
     "execution_count": 43,
     "metadata": {},
     "output_type": "execute_result"
    }
   ],
   "source": [
    "# coors[['MRTime', 'Dbm_1', 'Dbm_2', 'Dbm_3', 'Dbm_4', 'Dbm_5', 'Dbm_6', 'Dbm_7']]\n",
    "# pd.DataFrame(coors[:10], columns=get_properties(7))\n",
    "ff = coors[['Mcc_1', 'Mnc_1', 'RNCID_1', 'CellID_1', 'Mcc_2', 'Mnc_2', 'RNCID_2', 'CellID_2']]\n",
    "ff[ff['Mnc_1']==0]"
   ]
  },
  {
   "cell_type": "code",
   "execution_count": 69,
   "metadata": {
    "collapsed": false,
    "scrolled": true
   },
   "outputs": [],
   "source": [
    "# points = load_data(data_path + 'trajs/', bounding_box, key_form, min_num=20)\n",
    "points = load_data('./data/uploads/', bounding_box, key_form, min_num=20)"
   ]
  },
  {
   "cell_type": "markdown",
   "metadata": {},
   "source": [
    "# Display"
   ]
  },
  {
   "cell_type": "code",
   "execution_count": 71,
   "metadata": {
    "collapsed": false,
    "scrolled": true
   },
   "outputs": [],
   "source": [
    "display_osm = reload(display_osm)\n",
    "for traj in points:\n",
    "#     print traj['TrajID'][0], len(traj)\n",
    "    traj_id = int(traj['TrajID'][0])\n",
    "    display_osm.df_to_html(traj, disp_path + 'raw/%d.html' % traj_id, more_info=True)"
   ]
  },
  {
   "cell_type": "code",
   "execution_count": 70,
   "metadata": {
    "collapsed": false,
    "scrolled": true
   },
   "outputs": [
    {
     "name": "stdout",
     "output_type": "stream",
     "text": [
      "0 957\n",
      "1 144\n",
      "2 212\n",
      "3 193\n",
      "4 180\n",
      "5 161\n",
      "6 51\n",
      "7 122\n",
      "8 162\n",
      "9 197\n",
      "10 122\n",
      "11 149\n"
     ]
    }
   ],
   "source": [
    "for traj in points:\n",
    "    print traj['TrajID'][0], len(traj)"
   ]
  },
  {
   "cell_type": "code",
   "execution_count": 73,
   "metadata": {
    "collapsed": false
   },
   "outputs": [],
   "source": [
    "data = pd.concat(points, axis=0)[get_properties(7)]\n",
    "data.to_csv(data_file, index=False)"
   ]
  },
  {
   "cell_type": "code",
   "execution_count": 74,
   "metadata": {
    "collapsed": false
   },
   "outputs": [
    {
     "data": {
      "text/plain": [
       "2650"
      ]
     },
     "execution_count": 74,
     "metadata": {},
     "output_type": "execute_result"
    }
   ],
   "source": [
    "len(data)"
   ]
  },
  {
   "cell_type": "code",
   "execution_count": 75,
   "metadata": {
    "collapsed": false
   },
   "outputs": [],
   "source": [
    "plot = reload(plot)\n",
    "fig_width=20\n",
    "axis = bounding_box\n",
    "for traj in points:\n",
    "    trajs = []\n",
    "    tr_id = int(traj['TrajID'][0])\n",
    "    for i in range(len(traj)):\n",
    "        point = traj.iloc[i]\n",
    "        lat, lng = float(point['Latitude']), float(point['Longitude'])\n",
    "        x, y, _, _ = utm.from_latlon(lat, lng)\n",
    "        trajs.append((x, y))\n",
    "    plt.figure(figsize=(fig_width, fig_width*(axis[3]-axis[2])/(axis[1]-axis[0])))\n",
    "    ca = plt.gca()\n",
    "    plot.draw_traj_on_cells(trajs, ca, axis, 'r')\n",
    "    plt.axis(axis)\n",
    "    plt.title('traj id = ' + str(tr_id))\n",
    "    plt.savefig(disp_path + 'raw/%d.png' % tr_id)\n",
    "    plt.close()"
   ]
  },
  {
   "cell_type": "markdown",
   "metadata": {},
   "source": [
    "# Rename file"
   ]
  },
  {
   "cell_type": "code",
   "execution_count": 67,
   "metadata": {
    "collapsed": false
   },
   "outputs": [],
   "source": [
    "def renamebytime(folder):\n",
    "    if not os.path.exists(folder):\n",
    "        print 'not exist'\n",
    "        return\n",
    "    iterator = (f for f in os.listdir(folder) if os.path.isfile(os.path.join(folder, f)))\n",
    "    timeline = []\n",
    "    for f in iterator:\n",
    "#         record_time = int(f.strip().split('_')[-2])\n",
    "        record_time = int(f.strip().split('.')[0])\n",
    "        timeline.append((f, record_time))\n",
    "    timeline = sorted(timeline, key=lambda x: x[1])\n",
    "    idx = 0\n",
    "    for filename, _ in timeline:\n",
    "        old_name = os.path.join(folder, filename)\n",
    "        new_name = os.path.join(folder, '%d.txt' % idx)\n",
    "        os.rename(old_name, new_name)\n",
    "        idx += 1"
   ]
  },
  {
   "cell_type": "code",
   "execution_count": 68,
   "metadata": {
    "collapsed": false
   },
   "outputs": [],
   "source": [
    "renamebytime('./data/uploads/')"
   ]
  },
  {
   "cell_type": "code",
   "execution_count": null,
   "metadata": {
    "collapsed": true
   },
   "outputs": [],
   "source": []
  }
 ],
 "metadata": {
  "kernelspec": {
   "display_name": "Python 2",
   "language": "python",
   "name": "python2"
  },
  "language_info": {
   "codemirror_mode": {
    "name": "ipython",
    "version": 2
   },
   "file_extension": ".py",
   "mimetype": "text/x-python",
   "name": "python",
   "nbconvert_exporter": "python",
   "pygments_lexer": "ipython2",
   "version": "2.7.13"
  }
 },
 "nbformat": 4,
 "nbformat_minor": 2
}
