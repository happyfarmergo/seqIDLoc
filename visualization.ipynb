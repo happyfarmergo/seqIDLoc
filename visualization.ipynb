{
 "cells": [
  {
   "cell_type": "code",
   "execution_count": 1,
   "metadata": {
    "collapsed": false
   },
   "outputs": [],
   "source": [
    "import numpy as np\n",
    "import pandas as pd\n",
    "import utm\n",
    "import math\n",
    "import pickle\n",
    "import os\n",
    "import sys\n",
    "import time\n",
    "import datetime\n",
    "from collections import defaultdict\n",
    "import matplotlib\n",
    "import matplotlib.pyplot as plt\n",
    "from pymongo.mongo_client import MongoClient\n",
    "from shapely.geometry import Point, LineString\n",
    "import copy"
   ]
  },
  {
   "cell_type": "code",
   "execution_count": 2,
   "metadata": {
    "collapsed": false
   },
   "outputs": [],
   "source": [
    "dataset = 'siping'\n",
    "datatype = '2g'\n",
    "data_file = './data/%s_%s/data_%s.csv' % (dataset, datatype, datatype)\n",
    "gongcan_file = './data/%s_%s/gongcan_%s.csv' % (dataset, datatype, datatype)\n",
    "disp_path = './display/%s_%s/' % (dataset, datatype)\n",
    "data_path = './data/%s_%s/' % (dataset, datatype)\n",
    "map_file = './data/%s_map/%s_EdgeGeometry.txt' % (dataset, dataset)\n",
    "data_folder = data_path + 'result/'\n",
    "with open(data_folder + 'ID1.pkl') as fin:\n",
    "    id1, id1d = pickle.load(fin)\n",
    "with open(data_folder + 'ID1ID2.pkl') as fin:\n",
    "    id1id2, id1id2d = pickle.load(fin)\n",
    "# with open(data_folder + 'ID1_rssi.pkl') as fin:\n",
    "#     id1rssi, id1drssi = pickle.load(fin)\n",
    "# with open(data_folder + 'ID1ID2_rssi.pkl') as fin:\n",
    "#     id1id2rssi, id1id2drssi = pickle.load(fin)"
   ]
  },
  {
   "cell_type": "code",
   "execution_count": 3,
   "metadata": {
    "collapsed": false
   },
   "outputs": [
    {
     "name": "stdout",
     "output_type": "stream",
     "text": [
      "ID1                     30.519828099959355 42.41239691247122 62.6693820358445 18\n",
      "ID1ID2                  19.312699697954272 30.567855539590788 41.3435230891189 18\n",
      "ID1_rssi               "
     ]
    },
    {
     "ename": "NameError",
     "evalue": "name 'id1rssi' is not defined",
     "output_type": "error",
     "traceback": [
      "\u001b[1;31m---------------------------------------------------------------------------\u001b[0m",
      "\u001b[1;31mNameError\u001b[0m                                 Traceback (most recent call last)",
      "\u001b[1;32m<ipython-input-3-ae68291df315>\u001b[0m in \u001b[0;36m<module>\u001b[1;34m()\u001b[0m\n\u001b[0;32m      1\u001b[0m \u001b[1;32mprint\u001b[0m \u001b[1;34m'ID1                    '\u001b[0m\u001b[1;33m,\u001b[0m \u001b[0mnp\u001b[0m\u001b[1;33m.\u001b[0m\u001b[0mmedian\u001b[0m\u001b[1;33m(\u001b[0m\u001b[0mid1\u001b[0m\u001b[1;33m)\u001b[0m\u001b[1;33m,\u001b[0m \u001b[0mnp\u001b[0m\u001b[1;33m.\u001b[0m\u001b[0mmedian\u001b[0m\u001b[1;33m(\u001b[0m\u001b[0mid1d\u001b[0m\u001b[1;33m.\u001b[0m\u001b[0mvalues\u001b[0m\u001b[1;33m(\u001b[0m\u001b[1;33m)\u001b[0m\u001b[1;33m)\u001b[0m\u001b[1;33m,\u001b[0m \u001b[0mnp\u001b[0m\u001b[1;33m.\u001b[0m\u001b[0mmean\u001b[0m\u001b[1;33m(\u001b[0m\u001b[0mid1\u001b[0m\u001b[1;33m)\u001b[0m\u001b[1;33m,\u001b[0m \u001b[0mlen\u001b[0m\u001b[1;33m(\u001b[0m\u001b[0mid1d\u001b[0m\u001b[1;33m)\u001b[0m\u001b[1;33m\u001b[0m\u001b[0m\n\u001b[0;32m      2\u001b[0m \u001b[1;32mprint\u001b[0m \u001b[1;34m'ID1ID2                 '\u001b[0m\u001b[1;33m,\u001b[0m \u001b[0mnp\u001b[0m\u001b[1;33m.\u001b[0m\u001b[0mmedian\u001b[0m\u001b[1;33m(\u001b[0m\u001b[0mid1id2\u001b[0m\u001b[1;33m)\u001b[0m\u001b[1;33m,\u001b[0m \u001b[0mnp\u001b[0m\u001b[1;33m.\u001b[0m\u001b[0mmedian\u001b[0m\u001b[1;33m(\u001b[0m\u001b[0mid1id2d\u001b[0m\u001b[1;33m.\u001b[0m\u001b[0mvalues\u001b[0m\u001b[1;33m(\u001b[0m\u001b[1;33m)\u001b[0m\u001b[1;33m)\u001b[0m\u001b[1;33m,\u001b[0m \u001b[0mnp\u001b[0m\u001b[1;33m.\u001b[0m\u001b[0mmean\u001b[0m\u001b[1;33m(\u001b[0m\u001b[0mid1id2\u001b[0m\u001b[1;33m)\u001b[0m\u001b[1;33m,\u001b[0m \u001b[0mlen\u001b[0m\u001b[1;33m(\u001b[0m\u001b[0mid1id2d\u001b[0m\u001b[1;33m)\u001b[0m\u001b[1;33m\u001b[0m\u001b[0m\n\u001b[1;32m----> 3\u001b[1;33m \u001b[1;32mprint\u001b[0m \u001b[1;34m'ID1_rssi               '\u001b[0m\u001b[1;33m,\u001b[0m \u001b[0mnp\u001b[0m\u001b[1;33m.\u001b[0m\u001b[0mmedian\u001b[0m\u001b[1;33m(\u001b[0m\u001b[0mid1rssi\u001b[0m\u001b[1;33m)\u001b[0m\u001b[1;33m,\u001b[0m \u001b[0mnp\u001b[0m\u001b[1;33m.\u001b[0m\u001b[0mmedian\u001b[0m\u001b[1;33m(\u001b[0m\u001b[0mid1drssi\u001b[0m\u001b[1;33m.\u001b[0m\u001b[0mvalues\u001b[0m\u001b[1;33m(\u001b[0m\u001b[1;33m)\u001b[0m\u001b[1;33m)\u001b[0m\u001b[1;33m,\u001b[0m \u001b[0mnp\u001b[0m\u001b[1;33m.\u001b[0m\u001b[0mmean\u001b[0m\u001b[1;33m(\u001b[0m\u001b[0mid1rssi\u001b[0m\u001b[1;33m)\u001b[0m\u001b[1;33m,\u001b[0m \u001b[0mlen\u001b[0m\u001b[1;33m(\u001b[0m\u001b[0mid1drssi\u001b[0m\u001b[1;33m)\u001b[0m\u001b[1;33m\u001b[0m\u001b[0m\n\u001b[0m\u001b[0;32m      4\u001b[0m \u001b[1;32mprint\u001b[0m \u001b[1;34m'ID1ID2_rssi            '\u001b[0m\u001b[1;33m,\u001b[0m \u001b[0mnp\u001b[0m\u001b[1;33m.\u001b[0m\u001b[0mmedian\u001b[0m\u001b[1;33m(\u001b[0m\u001b[0mid1id2rssi\u001b[0m\u001b[1;33m)\u001b[0m\u001b[1;33m,\u001b[0m \u001b[0mnp\u001b[0m\u001b[1;33m.\u001b[0m\u001b[0mmedian\u001b[0m\u001b[1;33m(\u001b[0m\u001b[0mid1id2drssi\u001b[0m\u001b[1;33m.\u001b[0m\u001b[0mvalues\u001b[0m\u001b[1;33m(\u001b[0m\u001b[1;33m)\u001b[0m\u001b[1;33m)\u001b[0m\u001b[1;33m,\u001b[0m \u001b[0mnp\u001b[0m\u001b[1;33m.\u001b[0m\u001b[0mmean\u001b[0m\u001b[1;33m(\u001b[0m\u001b[0mid1id2rssi\u001b[0m\u001b[1;33m)\u001b[0m\u001b[1;33m,\u001b[0m \u001b[0mlen\u001b[0m\u001b[1;33m(\u001b[0m\u001b[0mid1id2drssi\u001b[0m\u001b[1;33m)\u001b[0m\u001b[1;33m\u001b[0m\u001b[0m\n",
      "\u001b[1;31mNameError\u001b[0m: name 'id1rssi' is not defined"
     ]
    }
   ],
   "source": [
    "print 'ID1                    ', np.median(id1), np.median(id1d.values()), np.mean(id1), len(id1d)\n",
    "print 'ID1ID2                 ', np.median(id1id2), np.median(id1id2d.values()), np.mean(id1id2), len(id1id2d)\n",
    "print 'ID1_rssi               ', np.median(id1rssi), np.median(id1drssi.values()), np.mean(id1rssi), len(id1drssi)\n",
    "print 'ID1ID2_rssi            ', np.median(id1id2rssi), np.median(id1id2drssi.values()), np.mean(id1id2rssi), len(id1id2drssi)"
   ]
  },
  {
   "cell_type": "code",
   "execution_count": 2,
   "metadata": {
    "collapsed": true
   },
   "outputs": [],
   "source": [
    "data_folder = './data/jiading/result/'\n",
    "with open(data_folder + 'ID1ID2_side=15.pkl') as fin:\n",
    "    s1, s1d = pickle.load(fin)\n",
    "with open(data_folder + 'ID1ID2_side=20.pkl') as fin:\n",
    "    s2, s2d = pickle.load(fin)\n",
    "with open(data_folder + 'ID1ID2_side=30.pkl') as fin:\n",
    "    s3, s3d = pickle.load(fin)"
   ]
  },
  {
   "cell_type": "code",
   "execution_count": 6,
   "metadata": {
    "collapsed": false
   },
   "outputs": [
    {
     "name": "stdout",
     "output_type": "stream",
     "text": [
      "ID1ID2_side=15 33.11471412538552 59.126511493702886 65.2654948700098 47\n",
      "ID1ID2_side=20 33.39353563190869 54.14392560629506 64.96381576508581 49\n",
      "ID1ID2_side=30 38.49172838850944 59.49653105095306 68.98515250963467 57\n"
     ]
    }
   ],
   "source": [
    "print 'ID1ID2_side=15', np.median(s1), np.median(s1d.values()), np.mean(s1), len(s1d)\n",
    "print 'ID1ID2_side=20', np.median(s2), np.median(s2d.values()), np.mean(s2), len(s2d)\n",
    "print 'ID1ID2_side=30', np.median(s3), np.median(s3d.values()), np.mean(s3), len(s3d)"
   ]
  },
  {
   "cell_type": "code",
   "execution_count": 4,
   "metadata": {
    "collapsed": false
   },
   "outputs": [],
   "source": [
    "def CDF(results, legend, title, fname):\n",
    "    for result in results:\n",
    "        count = len(result)\n",
    "        X = sorted(result)\n",
    "        Y = np.cumsum([1.0/count] * count)\n",
    "        plt.plot(X, Y)\n",
    "    plt.legend(legend)\n",
    "    plt.title(title)\n",
    "    plt.savefig(data_folder + fname)\n",
    "    plt.close()\n",
    "CDF([id1, id1id2, id1rssi, id1id2rssi], ['(ID1)', '(ID1,ID2)', '(ID1,rssi1)', '(ID1,rssi1,ID2,rssi2)'], 'Localization using different features', 'exp.png')\n",
    "# CDF([s1, s2, s3], ['side=15', 'side=20', 'side=30'], 'Feature:(ID1ID2) Diff cell width', 'side.png')"
   ]
  },
  {
   "cell_type": "markdown",
   "metadata": {
    "collapsed": true
   },
   "source": [
    "# Mongo Display"
   ]
  },
  {
   "cell_type": "code",
   "execution_count": 23,
   "metadata": {
    "collapsed": true
   },
   "outputs": [],
   "source": [
    "mongo = MongoClient(host='10.60.43.110', port=27017)\n",
    "bsloc = mongo['SeqIDLoc']"
   ]
  },
  {
   "cell_type": "markdown",
   "metadata": {},
   "source": [
    "# Cell Width"
   ]
  },
  {
   "cell_type": "code",
   "execution_count": 19,
   "metadata": {
    "collapsed": false
   },
   "outputs": [],
   "source": [
    "widths = list(bsloc['runs'].find({'status':'COMPLETED', 'config.dataset':'siping', 'config.datatype':'4g', 'config.neighbor':True, 'config.with_rssi':0}))\n",
    "pd_width = pd.DataFrame(c['config'] for c in widths)[['side']]\n",
    "pd_width['mean'] = [r['info']['layer2'][2] for r in widths]\n",
    "pd_width['median'] = [r['info']['layer2'][1] for r in widths]\n",
    "p67 = []\n",
    "for r in widths:\n",
    "    errors = sorted(r['info']['layer2'][0])\n",
    "    err_loc = errors[int(len(errors) * 0.67)]\n",
    "    p67.append(err_loc)\n",
    "pd_width['67%'] = p67\n",
    "pd_width['time'] = [r['info']['total_time'] for r in widths]\n",
    "pd_width['id'] = [r['_id'] for r in widths]\n",
    "pd_width = pd_width.sort_values(by=['side']).reset_index(drop=True)"
   ]
  },
  {
   "cell_type": "code",
   "execution_count": 21,
   "metadata": {
    "collapsed": false
   },
   "outputs": [
    {
     "data": {
      "text/html": [
       "<div>\n",
       "<table border=\"1\" class=\"dataframe\">\n",
       "  <thead>\n",
       "    <tr style=\"text-align: right;\">\n",
       "      <th></th>\n",
       "      <th>side</th>\n",
       "      <th>mean</th>\n",
       "      <th>median</th>\n",
       "      <th>67%</th>\n",
       "    </tr>\n",
       "  </thead>\n",
       "  <tbody>\n",
       "    <tr>\n",
       "      <th>0</th>\n",
       "      <td>15</td>\n",
       "      <td>34.841270</td>\n",
       "      <td>4.765727</td>\n",
       "      <td>9.686102</td>\n",
       "    </tr>\n",
       "    <tr>\n",
       "      <th>1</th>\n",
       "      <td>20</td>\n",
       "      <td>6.399540</td>\n",
       "      <td>2.555291</td>\n",
       "      <td>4.864400</td>\n",
       "    </tr>\n",
       "    <tr>\n",
       "      <th>2</th>\n",
       "      <td>30</td>\n",
       "      <td>15.432231</td>\n",
       "      <td>5.206708</td>\n",
       "      <td>11.221381</td>\n",
       "    </tr>\n",
       "    <tr>\n",
       "      <th>3</th>\n",
       "      <td>50</td>\n",
       "      <td>6.562462</td>\n",
       "      <td>3.233878</td>\n",
       "      <td>6.114829</td>\n",
       "    </tr>\n",
       "    <tr>\n",
       "      <th>4</th>\n",
       "      <td>100</td>\n",
       "      <td>26.575276</td>\n",
       "      <td>8.264615</td>\n",
       "      <td>20.517239</td>\n",
       "    </tr>\n",
       "  </tbody>\n",
       "</table>\n",
       "</div>"
      ],
      "text/plain": [
       "   side       mean    median        67%\n",
       "0    15  34.841270  4.765727   9.686102\n",
       "1    20   6.399540  2.555291   4.864400\n",
       "2    30  15.432231  5.206708  11.221381\n",
       "3    50   6.562462  3.233878   6.114829\n",
       "4   100  26.575276  8.264615  20.517239"
      ]
     },
     "execution_count": 21,
     "metadata": {},
     "output_type": "execute_result"
    }
   ],
   "source": [
    "pd_width[['side', 'mean', 'median', '67%']]\n",
    "# pd_width"
   ]
  },
  {
   "cell_type": "markdown",
   "metadata": {},
   "source": [
    "# Missing RSSI"
   ]
  },
  {
   "cell_type": "code",
   "execution_count": 69,
   "metadata": {
    "collapsed": false
   },
   "outputs": [],
   "source": [
    "rssis = list(bsloc['runs'].find({'status':'COMPLETED','config.dataset':'jiading', 'config.datatype':'2g', 'config.neighbor':True, 'config.with_rssi':{'$ne':0}}))\n",
    "pd_rssi = pd.DataFrame(c['config'] for c in rssis)[['with_rssi']]\n",
    "pd_rssi['mean'] = [r['info']['layer2'][2] for r in rssis]\n",
    "pd_rssi['median'] = [r['info']['layer2'][1] for r in rssis]\n",
    "p67 = []\n",
    "for r in rssis:\n",
    "    errors = sorted(r['info']['layer2'][0])\n",
    "    err_loc = errors[int(len(errors) * 0.67)]\n",
    "    p67.append(err_loc)\n",
    "pd_rssi['67%'] = p67\n",
    "pd_rssi['time'] = [r['info']['total_time'] for r in rssis]\n",
    "pd_rssi['id'] = [r['_id'] for r in rssis]\n",
    "pd_rssi = pd_rssi.sort_values(by=['with_rssi']).reset_index(drop=True)"
   ]
  },
  {
   "cell_type": "code",
   "execution_count": 70,
   "metadata": {
    "collapsed": false
   },
   "outputs": [
    {
     "data": {
      "text/html": [
       "<div>\n",
       "<table border=\"1\" class=\"dataframe\">\n",
       "  <thead>\n",
       "    <tr style=\"text-align: right;\">\n",
       "      <th></th>\n",
       "      <th>with_rssi</th>\n",
       "      <th>mean</th>\n",
       "      <th>median</th>\n",
       "      <th>67%</th>\n",
       "    </tr>\n",
       "  </thead>\n",
       "  <tbody>\n",
       "    <tr>\n",
       "      <th>0</th>\n",
       "      <td>0.2</td>\n",
       "      <td>65.553897</td>\n",
       "      <td>31.421233</td>\n",
       "      <td>59.654371</td>\n",
       "    </tr>\n",
       "    <tr>\n",
       "      <th>1</th>\n",
       "      <td>0.4</td>\n",
       "      <td>60.074535</td>\n",
       "      <td>30.220265</td>\n",
       "      <td>54.386886</td>\n",
       "    </tr>\n",
       "    <tr>\n",
       "      <th>2</th>\n",
       "      <td>0.6</td>\n",
       "      <td>47.195519</td>\n",
       "      <td>24.793666</td>\n",
       "      <td>43.742942</td>\n",
       "    </tr>\n",
       "    <tr>\n",
       "      <th>3</th>\n",
       "      <td>0.8</td>\n",
       "      <td>46.465789</td>\n",
       "      <td>22.399516</td>\n",
       "      <td>40.596740</td>\n",
       "    </tr>\n",
       "    <tr>\n",
       "      <th>4</th>\n",
       "      <td>1.0</td>\n",
       "      <td>33.152413</td>\n",
       "      <td>15.040264</td>\n",
       "      <td>29.152378</td>\n",
       "    </tr>\n",
       "  </tbody>\n",
       "</table>\n",
       "</div>"
      ],
      "text/plain": [
       "   with_rssi       mean     median        67%\n",
       "0        0.2  65.553897  31.421233  59.654371\n",
       "1        0.4  60.074535  30.220265  54.386886\n",
       "2        0.6  47.195519  24.793666  43.742942\n",
       "3        0.8  46.465789  22.399516  40.596740\n",
       "4        1.0  33.152413  15.040264  29.152378"
      ]
     },
     "execution_count": 70,
     "metadata": {},
     "output_type": "execute_result"
    }
   ],
   "source": [
    "pd_rssi[['with_rssi', 'mean', 'median', '67%']]\n",
    "# pd_rssi"
   ]
  },
  {
   "cell_type": "markdown",
   "metadata": {},
   "source": [
    "# Number of BS IDs"
   ]
  },
  {
   "cell_type": "code",
   "execution_count": 80,
   "metadata": {
    "collapsed": false
   },
   "outputs": [],
   "source": [
    "neighbors = list(bsloc['runs'].find({'status':'COMPLETED', 'config.dataset':'siping', 'config.datatype':'2g', 'config.neighbor':{'$in': [1, 2, 3]}, 'config.side':30, 'config.with_rssi':0}))\n",
    "pd_neigh = pd.DataFrame(c['config'] for c in neighbors)[['neighbor']]\n",
    "pd_neigh['mean'] = [r['info']['layer2'][2] for r in neighbors]\n",
    "pd_neigh['median'] = [r['info']['layer2'][1] for r in neighbors]\n",
    "p67 = []\n",
    "for r in neighbors:\n",
    "    errors = sorted(r['info']['layer2'][0])\n",
    "    err_loc = errors[int(len(errors) * 0.67)]\n",
    "    p67.append(err_loc)\n",
    "pd_neigh['67%'] = p67\n",
    "pd_neigh['time'] = [r['info']['total_time'] for r in neighbors]\n",
    "pd_neigh['id'] = [r['_id'] for r in neighbors]\n",
    "pd_neigh = pd_neigh.sort_values(by=['neighbor']).reset_index(drop=True)"
   ]
  },
  {
   "cell_type": "code",
   "execution_count": 81,
   "metadata": {
    "collapsed": false
   },
   "outputs": [
    {
     "data": {
      "text/html": [
       "<div>\n",
       "<table border=\"1\" class=\"dataframe\">\n",
       "  <thead>\n",
       "    <tr style=\"text-align: right;\">\n",
       "      <th></th>\n",
       "      <th>neighbor</th>\n",
       "      <th>mean</th>\n",
       "      <th>median</th>\n",
       "      <th>67%</th>\n",
       "    </tr>\n",
       "  </thead>\n",
       "  <tbody>\n",
       "    <tr>\n",
       "      <th>0</th>\n",
       "      <td>1</td>\n",
       "      <td>32.671394</td>\n",
       "      <td>18.276059</td>\n",
       "      <td>33.490196</td>\n",
       "    </tr>\n",
       "    <tr>\n",
       "      <th>1</th>\n",
       "      <td>2</td>\n",
       "      <td>27.091289</td>\n",
       "      <td>13.202274</td>\n",
       "      <td>22.602402</td>\n",
       "    </tr>\n",
       "    <tr>\n",
       "      <th>2</th>\n",
       "      <td>3</td>\n",
       "      <td>15.485514</td>\n",
       "      <td>9.646537</td>\n",
       "      <td>17.465648</td>\n",
       "    </tr>\n",
       "  </tbody>\n",
       "</table>\n",
       "</div>"
      ],
      "text/plain": [
       "   neighbor       mean     median        67%\n",
       "0         1  32.671394  18.276059  33.490196\n",
       "1         2  27.091289  13.202274  22.602402\n",
       "2         3  15.485514   9.646537  17.465648"
      ]
     },
     "execution_count": 81,
     "metadata": {},
     "output_type": "execute_result"
    }
   ],
   "source": [
    "pd_neigh[['neighbor', 'mean', 'median', '67%']]"
   ]
  },
  {
   "cell_type": "markdown",
   "metadata": {
    "collapsed": true
   },
   "source": [
    "# RSSI-based"
   ]
  },
  {
   "cell_type": "code",
   "execution_count": 194,
   "metadata": {
    "collapsed": false
   },
   "outputs": [],
   "source": [
    "mongo = MongoClient(host='localhost', port=27017)\n",
    "bsloc = mongo['SeqIDLoc']\n",
    "res_bs = list(bsloc['runs'].find({'status':'COMPLETED', 'config.side': 30, 'config.with_rssi':0}))\n",
    "pd_bs = pd.DataFrame(c['config'] for c in res_bs)[['dataset', 'datatype', 'neighbor']]\n",
    "pd_bs['median'] = [r['info']['layer2'][1] for r in res_bs]\n",
    "pd_bs['errors'] = [r['info']['layer2'][0] for r in res_bs]\n",
    "pd_bs['id'] = [r['_id'] for r in res_bs]\n",
    "pd_bs = pd_bs.sort_values(by=['dataset', 'datatype', 'neighbor']).reset_index(drop=True)"
   ]
  },
  {
   "cell_type": "code",
   "execution_count": 195,
   "metadata": {
    "collapsed": false
   },
   "outputs": [
    {
     "data": {
      "text/html": [
       "<div>\n",
       "<table border=\"1\" class=\"dataframe\">\n",
       "  <thead>\n",
       "    <tr style=\"text-align: right;\">\n",
       "      <th></th>\n",
       "      <th>dataset</th>\n",
       "      <th>datatype</th>\n",
       "      <th>neighbor</th>\n",
       "      <th>median</th>\n",
       "      <th>errors</th>\n",
       "      <th>id</th>\n",
       "    </tr>\n",
       "  </thead>\n",
       "  <tbody>\n",
       "    <tr>\n",
       "      <th>0</th>\n",
       "      <td>jiading</td>\n",
       "      <td>2g</td>\n",
       "      <td>False</td>\n",
       "      <td>50.288578</td>\n",
       "      <td>[282.890969629, 282.554044581, 282.463371822, ...</td>\n",
       "      <td>10</td>\n",
       "    </tr>\n",
       "    <tr>\n",
       "      <th>1</th>\n",
       "      <td>jiading</td>\n",
       "      <td>2g</td>\n",
       "      <td>True</td>\n",
       "      <td>25.996373</td>\n",
       "      <td>[6.67591936213, 21.7961795724, 110.437145331, ...</td>\n",
       "      <td>2</td>\n",
       "    </tr>\n",
       "    <tr>\n",
       "      <th>2</th>\n",
       "      <td>jiading</td>\n",
       "      <td>4g</td>\n",
       "      <td>False</td>\n",
       "      <td>16.277677</td>\n",
       "      <td>[115.212832857, 173.742118222, 89.3706730374, ...</td>\n",
       "      <td>9</td>\n",
       "    </tr>\n",
       "    <tr>\n",
       "      <th>3</th>\n",
       "      <td>jiading</td>\n",
       "      <td>4g</td>\n",
       "      <td>True</td>\n",
       "      <td>17.226973</td>\n",
       "      <td>[55.0131255655, 45.3116442192, 172.215868378, ...</td>\n",
       "      <td>13</td>\n",
       "    </tr>\n",
       "    <tr>\n",
       "      <th>4</th>\n",
       "      <td>siping</td>\n",
       "      <td>2g</td>\n",
       "      <td>False</td>\n",
       "      <td>16.360526</td>\n",
       "      <td>[6.88522187362, 1.226074122, 6.37902772034, 3....</td>\n",
       "      <td>11</td>\n",
       "    </tr>\n",
       "    <tr>\n",
       "      <th>5</th>\n",
       "      <td>siping</td>\n",
       "      <td>2g</td>\n",
       "      <td>True</td>\n",
       "      <td>13.095984</td>\n",
       "      <td>[2.5309424529, 4.51872590894, 20.6667639448, 4...</td>\n",
       "      <td>14</td>\n",
       "    </tr>\n",
       "    <tr>\n",
       "      <th>6</th>\n",
       "      <td>siping</td>\n",
       "      <td>4g</td>\n",
       "      <td>False</td>\n",
       "      <td>5.172082</td>\n",
       "      <td>[4.6928516521e-09, 4.6928516521e-09, 0.1311425...</td>\n",
       "      <td>12</td>\n",
       "    </tr>\n",
       "    <tr>\n",
       "      <th>7</th>\n",
       "      <td>siping</td>\n",
       "      <td>4g</td>\n",
       "      <td>True</td>\n",
       "      <td>5.206708</td>\n",
       "      <td>[4.6928516521e-09, 4.6928516521e-09, 0.2160099...</td>\n",
       "      <td>15</td>\n",
       "    </tr>\n",
       "  </tbody>\n",
       "</table>\n",
       "</div>"
      ],
      "text/plain": [
       "   dataset datatype neighbor     median  \\\n",
       "0  jiading       2g    False  50.288578   \n",
       "1  jiading       2g     True  25.996373   \n",
       "2  jiading       4g    False  16.277677   \n",
       "3  jiading       4g     True  17.226973   \n",
       "4   siping       2g    False  16.360526   \n",
       "5   siping       2g     True  13.095984   \n",
       "6   siping       4g    False   5.172082   \n",
       "7   siping       4g     True   5.206708   \n",
       "\n",
       "                                              errors  id  \n",
       "0  [282.890969629, 282.554044581, 282.463371822, ...  10  \n",
       "1  [6.67591936213, 21.7961795724, 110.437145331, ...   2  \n",
       "2  [115.212832857, 173.742118222, 89.3706730374, ...   9  \n",
       "3  [55.0131255655, 45.3116442192, 172.215868378, ...  13  \n",
       "4  [6.88522187362, 1.226074122, 6.37902772034, 3....  11  \n",
       "5  [2.5309424529, 4.51872590894, 20.6667639448, 4...  14  \n",
       "6  [4.6928516521e-09, 4.6928516521e-09, 0.1311425...  12  \n",
       "7  [4.6928516521e-09, 4.6928516521e-09, 0.2160099...  15  "
      ]
     },
     "execution_count": 195,
     "metadata": {},
     "output_type": "execute_result"
    }
   ],
   "source": [
    "pd_bs"
   ]
  },
  {
   "cell_type": "code",
   "execution_count": 198,
   "metadata": {
    "collapsed": true
   },
   "outputs": [],
   "source": [
    "mongo = MongoClient(host='localhost', port=27017)\n",
    "csloc = mongo['CellSense']\n",
    "res_cs = list(csloc['runs'].find({'status':'COMPLETED'}))\n",
    "pd_cs = pd.DataFrame(c['config'] for c in res_cs)[['dataset', 'datatype']]\n",
    "pd_cs['median'] = [r['info']['result'][1] for r in res_cs]\n",
    "pd_cs['errors'] = [r['info']['result'][0] for r in res_cs]\n",
    "pd_cs['id'] = [r['_id'] for r in res_cs]\n",
    "pd_cs = pd_cs.sort_values(by=['dataset', 'datatype']).reset_index(drop=True)"
   ]
  },
  {
   "cell_type": "code",
   "execution_count": 199,
   "metadata": {
    "collapsed": false
   },
   "outputs": [
    {
     "data": {
      "text/html": [
       "<div>\n",
       "<table border=\"1\" class=\"dataframe\">\n",
       "  <thead>\n",
       "    <tr style=\"text-align: right;\">\n",
       "      <th></th>\n",
       "      <th>dataset</th>\n",
       "      <th>datatype</th>\n",
       "      <th>median</th>\n",
       "      <th>errors</th>\n",
       "      <th>id</th>\n",
       "    </tr>\n",
       "  </thead>\n",
       "  <tbody>\n",
       "    <tr>\n",
       "      <th>0</th>\n",
       "      <td>jiading</td>\n",
       "      <td>2g</td>\n",
       "      <td>17.0</td>\n",
       "      <td>[0.0, 180.2, 21.1, 2.3, 334.4, 2.5, 8.5, 66.8,...</td>\n",
       "      <td>1</td>\n",
       "    </tr>\n",
       "    <tr>\n",
       "      <th>1</th>\n",
       "      <td>jiading</td>\n",
       "      <td>4g</td>\n",
       "      <td>27.8</td>\n",
       "      <td>[44.2, 24.7, 18.9, 275.7, 13.5, 4.1, 3.9, 3.7,...</td>\n",
       "      <td>8</td>\n",
       "    </tr>\n",
       "    <tr>\n",
       "      <th>2</th>\n",
       "      <td>siping</td>\n",
       "      <td>2g</td>\n",
       "      <td>9.4</td>\n",
       "      <td>[1.9, 27.1, 18.8, 9.7, 8.9, 9.5, 14.9, 39.0, 1...</td>\n",
       "      <td>5</td>\n",
       "    </tr>\n",
       "    <tr>\n",
       "      <th>3</th>\n",
       "      <td>siping</td>\n",
       "      <td>4g</td>\n",
       "      <td>9.9</td>\n",
       "      <td>[7.2, 117.9, 2.8, 32.3, 59.4, 13.3, 2.4, 30.3,...</td>\n",
       "      <td>6</td>\n",
       "    </tr>\n",
       "  </tbody>\n",
       "</table>\n",
       "</div>"
      ],
      "text/plain": [
       "   dataset datatype  median  \\\n",
       "0  jiading       2g    17.0   \n",
       "1  jiading       4g    27.8   \n",
       "2   siping       2g     9.4   \n",
       "3   siping       4g     9.9   \n",
       "\n",
       "                                              errors  id  \n",
       "0  [0.0, 180.2, 21.1, 2.3, 334.4, 2.5, 8.5, 66.8,...   1  \n",
       "1  [44.2, 24.7, 18.9, 275.7, 13.5, 4.1, 3.9, 3.7,...   8  \n",
       "2  [1.9, 27.1, 18.8, 9.7, 8.9, 9.5, 14.9, 39.0, 1...   5  \n",
       "3  [7.2, 117.9, 2.8, 32.3, 59.4, 13.3, 2.4, 30.3,...   6  "
      ]
     },
     "execution_count": 199,
     "metadata": {},
     "output_type": "execute_result"
    }
   ],
   "source": [
    "pd_cs"
   ]
  },
  {
   "cell_type": "code",
   "execution_count": 200,
   "metadata": {
    "collapsed": true
   },
   "outputs": [],
   "source": [
    "mongo = MongoClient(host='localhost', port=27017)\n",
    "rfloc = mongo['ContextRF']\n",
    "res_rf = list(rfloc['runs'].find({'status':'COMPLETED'}))\n",
    "pd_rf = pd.DataFrame(c['config'] for c in res_rf)[['dataset', 'datatype']]\n",
    "pd_rf['median'] = [r['info']['result'][1] for r in res_rf]\n",
    "pd_rf['errors'] = [r['info']['result'][0] for r in res_rf]\n",
    "pd_rf['id'] = [r['_id'] for r in res_rf]\n",
    "pd_rf = pd_rf.sort_values(by=['dataset', 'datatype']).reset_index(drop=True)"
   ]
  },
  {
   "cell_type": "code",
   "execution_count": 201,
   "metadata": {
    "collapsed": false
   },
   "outputs": [
    {
     "data": {
      "text/html": [
       "<div>\n",
       "<table border=\"1\" class=\"dataframe\">\n",
       "  <thead>\n",
       "    <tr style=\"text-align: right;\">\n",
       "      <th></th>\n",
       "      <th>dataset</th>\n",
       "      <th>datatype</th>\n",
       "      <th>median</th>\n",
       "      <th>errors</th>\n",
       "      <th>id</th>\n",
       "    </tr>\n",
       "  </thead>\n",
       "  <tbody>\n",
       "    <tr>\n",
       "      <th>0</th>\n",
       "      <td>jiading</td>\n",
       "      <td>2g</td>\n",
       "      <td>20.3</td>\n",
       "      <td>[11.4, 7.3, 4.1, 48.9, 62.3, 39.3, 82.8, 30.4,...</td>\n",
       "      <td>1</td>\n",
       "    </tr>\n",
       "    <tr>\n",
       "      <th>1</th>\n",
       "      <td>jiading</td>\n",
       "      <td>4g</td>\n",
       "      <td>20.3</td>\n",
       "      <td>[438.8, 479.0, 105.3, 82.4, 42.1, 33.5, 219.3,...</td>\n",
       "      <td>2</td>\n",
       "    </tr>\n",
       "    <tr>\n",
       "      <th>2</th>\n",
       "      <td>siping</td>\n",
       "      <td>2g</td>\n",
       "      <td>6.5</td>\n",
       "      <td>[140.7, 36.2, 33.0, 48.2, 56.5, 17.0, 5.1, 7.6...</td>\n",
       "      <td>7</td>\n",
       "    </tr>\n",
       "    <tr>\n",
       "      <th>3</th>\n",
       "      <td>siping</td>\n",
       "      <td>4g</td>\n",
       "      <td>11.8</td>\n",
       "      <td>[80.3, 13.4, 13.6, 11.4, 11.3, 10.5, 11.0, 11....</td>\n",
       "      <td>8</td>\n",
       "    </tr>\n",
       "  </tbody>\n",
       "</table>\n",
       "</div>"
      ],
      "text/plain": [
       "   dataset datatype  median  \\\n",
       "0  jiading       2g    20.3   \n",
       "1  jiading       4g    20.3   \n",
       "2   siping       2g     6.5   \n",
       "3   siping       4g    11.8   \n",
       "\n",
       "                                              errors  id  \n",
       "0  [11.4, 7.3, 4.1, 48.9, 62.3, 39.3, 82.8, 30.4,...   1  \n",
       "1  [438.8, 479.0, 105.3, 82.4, 42.1, 33.5, 219.3,...   2  \n",
       "2  [140.7, 36.2, 33.0, 48.2, 56.5, 17.0, 5.1, 7.6...   7  \n",
       "3  [80.3, 13.4, 13.6, 11.4, 11.3, 10.5, 11.0, 11....   8  "
      ]
     },
     "execution_count": 201,
     "metadata": {},
     "output_type": "execute_result"
    }
   ],
   "source": [
    "pd_rf"
   ]
  },
  {
   "cell_type": "code",
   "execution_count": 202,
   "metadata": {
    "collapsed": false
   },
   "outputs": [],
   "source": [
    "def make_XY(precision, n_count):\n",
    "    count = len(precision)\n",
    "    step = int(count / n_count)\n",
    "    X = [precision[i] for i in range(step-1,count,step)]\n",
    "    Y = list(np.cumsum([1.0/n_count] * n_count))\n",
    "    X.insert(0, 0)\n",
    "    Y.insert(0, 0)\n",
    "    return X, Y\n",
    "def plot(dataset, datatype, xlim, ylim, title, n_count=10):\n",
    "    cellsense = sorted(pd_cs[(pd_cs['dataset']==dataset) & (pd_cs['datatype']==datatype)]['errors'].values[0])\n",
    "    contextrf = sorted(pd_rf[(pd_rf['dataset']==dataset) & (pd_rf['datatype']==datatype)]['errors'].values[0])\n",
    "    bsloc1 = sorted(pd_bs[(pd_bs['dataset']==dataset) & (pd_bs['datatype']==datatype) & (pd_bs['neighbor']==False)]['errors'].values[0])\n",
    "    bsloc2 = sorted(pd_bs[(pd_bs['dataset']==dataset) & (pd_bs['datatype']==datatype) & (pd_bs['neighbor']==True)]['errors'].values[0])\n",
    "    for data, linesty in [(contextrf, 'b--+'), (cellsense, 'r--s'), (bsloc2,'k-o')]:\n",
    "#         print linesty\n",
    "        X, Y = make_XY(data, n_count)\n",
    "        plt.plot(X, Y, linesty)\n",
    "    plt.legend(['CCR', 'CellSense', 'BSLoc'], loc='best')\n",
    "    plt.xlim(xlim[0], xlim[1])\n",
    "    plt.ylim(ylim[0], ylim[1])\n",
    "    plt.yticks(np.arange(ylim[0], ylim[1] + 0.1, 0.1))\n",
    "    plt.xlabel('Error (m)')\n",
    "    plt.ylabel('CDF')\n",
    "    plt.title(title)\n",
    "    plt.tight_layout()\n",
    "    plt.show()"
   ]
  },
  {
   "cell_type": "code",
   "execution_count": 203,
   "metadata": {
    "collapsed": false
   },
   "outputs": [
    {
     "data": {
      "image/png": "[encoded data removed]",
      "text/plain": [
       "<Figure size 432x288 with 1 Axes>"
      ]
     },
     "metadata": {},
     "output_type": "display_data"
    }
   ],
   "source": [
    "plot('jiading', '2g', xlim=(0,120), ylim=(0,0.90), title='Comparison in jiading campus(2G Data)', n_count=10)"
   ]
  },
  {
   "cell_type": "code",
   "execution_count": 204,
   "metadata": {
    "collapsed": false
   },
   "outputs": [
    {
     "data": {
      "image/png": "[encoded data removed]",
      "text/plain": [
       "<Figure size 432x288 with 1 Axes>"
      ]
     },
     "metadata": {},
     "output_type": "display_data"
    }
   ],
   "source": [
    "plot('jiading', '4g', xlim=(0,120), ylim=(0,0.90), title='Comparison in jiading campus(4G Data)', n_count=10)"
   ]
  },
  {
   "cell_type": "code",
   "execution_count": 184,
   "metadata": {
    "collapsed": false
   },
   "outputs": [
    {
     "data": {
      "image/png": "[encoded data removed]",
      "text/plain": [
       "<Figure size 432x288 with 1 Axes>"
      ]
     },
     "metadata": {},
     "output_type": "display_data"
    }
   ],
   "source": [
    "plot('siping', '2g', xlim=(0,60), ylim=(0,0.90), title='Comparison in siping campus(2G Data)', n_count=10)"
   ]
  },
  {
   "cell_type": "code",
   "execution_count": 185,
   "metadata": {
    "collapsed": false
   },
   "outputs": [
    {
     "data": {
      "image/png": "[encoded data removed]",
      "text/plain": [
       "<Figure size 432x288 with 1 Axes>"
      ]
     },
     "metadata": {},
     "output_type": "display_data"
    }
   ],
   "source": [
    "plot('siping', '4g', xlim=(0,60), ylim=(0,0.90), title='Comparison in siping campus(4G Data)', n_count=10)"
   ]
  },
  {
   "cell_type": "code",
   "execution_count": null,
   "metadata": {
    "collapsed": true
   },
   "outputs": [],
   "source": []
  }
 ],
 "metadata": {
  "kernelspec": {
   "display_name": "Python 2",
   "language": "python",
   "name": "python2"
  },
  "language_info": {
   "codemirror_mode": {
    "name": "ipython",
    "version": 2
   },
   "file_extension": ".py",
   "mimetype": "text/x-python",
   "name": "python",
   "nbconvert_exporter": "python",
   "pygments_lexer": "ipython2",
   "version": "2.7.13"
  }
 },
 "nbformat": 4,
 "nbformat_minor": 2
}
