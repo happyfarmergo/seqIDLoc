{
 "cells": [
  {
   "cell_type": "code",
   "execution_count": 1,
   "metadata": {
    "collapsed": false
   },
   "outputs": [],
   "source": [
    "import numpy as np\n",
    "import pandas as pd\n",
    "import utm\n",
    "import math\n",
    "import pickle\n",
    "import os\n",
    "import sys\n",
    "import time\n",
    "import datetime\n",
    "from collections import defaultdict\n",
    "import matplotlib\n",
    "import matplotlib.pyplot as plt\n",
    "from shapely.geometry import Point, LineString\n",
    "import copy"
   ]
  },
  {
   "cell_type": "code",
   "execution_count": 3,
   "metadata": {
    "collapsed": false
   },
   "outputs": [],
   "source": [
    "dataset = 'jiading'\n",
    "datatype = '2g'\n",
    "data_file = './data/%s_%s/data_%s.csv' % (dataset, datatype, datatype)\n",
    "gongcan_file = './data/%s_%s/gongcan_%s.csv' % (dataset, datatype, datatype)\n",
    "disp_path = './display/%s_%s/' % (dataset, datatype)\n",
    "data_path = './data/%s_%s/' % (dataset, datatype)\n",
    "map_file = './data/%s_map/%s_EdgeGeometry.txt' % (dataset, dataset)\n",
    "data_folder = data_path + 'result/'\n",
    "with open(data_folder + 'ID1.pkl') as fin:\n",
    "    id1, id1d = pickle.load(fin)\n",
    "with open(data_folder + 'ID1ID2.pkl') as fin:\n",
    "    id1id2, id1id2d = pickle.load(fin)\n",
    "with open(data_folder + 'ID1_rssi.pkl') as fin:\n",
    "    id1rssi, id1drssi = pickle.load(fin)\n",
    "with open(data_folder + 'ID1ID2_rssi.pkl') as fin:\n",
    "    id1id2rssi, id1id2drssi = pickle.load(fin)"
   ]
  },
  {
   "cell_type": "code",
   "execution_count": 4,
   "metadata": {
    "collapsed": false
   },
   "outputs": [
    {
     "name": "stdout",
     "output_type": "stream",
     "text": [
      "ID1                     80.32123544062696 95.45103024455312 113.09901066195854 74\n",
      "ID1ID2                  34.87952761350047 62.44961424476697 65.97616145672684 74\n",
      "ID1_rssi                41.269179528044894 68.482599200436 73.34935284545425 66\n",
      "ID1ID2_rssi             18.096849832742937 32.991340056220125 36.0594523857923 59\n"
     ]
    }
   ],
   "source": [
    "print 'ID1                    ', np.median(id1), np.median(id1d.values()), np.mean(id1), len(id1d)\n",
    "print 'ID1ID2                 ', np.median(id1id2), np.median(id1id2d.values()), np.mean(id1id2), len(id1id2d)\n",
    "print 'ID1_rssi               ', np.median(id1rssi), np.median(id1drssi.values()), np.mean(id1rssi), len(id1drssi)\n",
    "print 'ID1ID2_rssi            ', np.median(id1id2rssi), np.median(id1id2drssi.values()), np.mean(id1id2rssi), len(id1id2drssi)"
   ]
  },
  {
   "cell_type": "code",
   "execution_count": 2,
   "metadata": {
    "collapsed": true
   },
   "outputs": [],
   "source": [
    "data_folder = './data/jiading/result/'\n",
    "with open(data_folder + 'ID1ID2_side=15.pkl') as fin:\n",
    "    s1, s1d = pickle.load(fin)\n",
    "with open(data_folder + 'ID1ID2_side=20.pkl') as fin:\n",
    "    s2, s2d = pickle.load(fin)\n",
    "with open(data_folder + 'ID1ID2_side=30.pkl') as fin:\n",
    "    s3, s3d = pickle.load(fin)"
   ]
  },
  {
   "cell_type": "code",
   "execution_count": 6,
   "metadata": {
    "collapsed": false
   },
   "outputs": [
    {
     "name": "stdout",
     "output_type": "stream",
     "text": [
      "ID1ID2_side=15 33.11471412538552 59.126511493702886 65.2654948700098 47\n",
      "ID1ID2_side=20 33.39353563190869 54.14392560629506 64.96381576508581 49\n",
      "ID1ID2_side=30 38.49172838850944 59.49653105095306 68.98515250963467 57\n"
     ]
    }
   ],
   "source": [
    "print 'ID1ID2_side=15', np.median(s1), np.median(s1d.values()), np.mean(s1), len(s1d)\n",
    "print 'ID1ID2_side=20', np.median(s2), np.median(s2d.values()), np.mean(s2), len(s2d)\n",
    "print 'ID1ID2_side=30', np.median(s3), np.median(s3d.values()), np.mean(s3), len(s3d)"
   ]
  },
  {
   "cell_type": "code",
   "execution_count": 4,
   "metadata": {
    "collapsed": false
   },
   "outputs": [],
   "source": [
    "def CDF(results, legend, title, fname):\n",
    "    for result in results:\n",
    "        count = len(result)\n",
    "        X = sorted(result)\n",
    "        Y = np.cumsum([1.0/count] * count)\n",
    "        plt.plot(X, Y)\n",
    "    plt.legend(legend)\n",
    "    plt.title(title)\n",
    "    plt.savefig(data_folder + fname)\n",
    "    plt.close()\n",
    "CDF([id1, id1id2, id1rssi, id1id2rssi], ['(ID1)', '(ID1,ID2)', '(ID1,rssi1)', '(ID1,rssi1,ID2,rssi2)'], 'Localization using different features', 'exp.png')\n",
    "# CDF([s1, s2, s3], ['side=15', 'side=20', 'side=30'], 'Feature:(ID1ID2) Diff cell width', 'side.png')"
   ]
  },
  {
   "cell_type": "code",
   "execution_count": null,
   "metadata": {
    "collapsed": true
   },
   "outputs": [],
   "source": []
  }
 ],
 "metadata": {
  "kernelspec": {
   "display_name": "Python 2",
   "language": "python",
   "name": "python2"
  },
  "language_info": {
   "codemirror_mode": {
    "name": "ipython",
    "version": 2
   },
   "file_extension": ".py",
   "mimetype": "text/x-python",
   "name": "python",
   "nbconvert_exporter": "python",
   "pygments_lexer": "ipython2",
   "version": "2.7.13"
  }
 },
 "nbformat": 4,
 "nbformat_minor": 2
}
