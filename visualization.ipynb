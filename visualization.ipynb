{
 "cells": [
  {
   "cell_type": "code",
   "execution_count": 1,
   "metadata": {
    "collapsed": false
   },
   "outputs": [],
   "source": [
    "import numpy as np\n",
    "import pandas as pd\n",
    "import utm\n",
    "import math\n",
    "import pickle\n",
    "import os\n",
    "import sys\n",
    "import time\n",
    "import datetime\n",
    "from collections import defaultdict\n",
    "import matplotlib\n",
    "import matplotlib.pyplot as plt\n",
    "from shapely.geometry import Point, LineString\n",
    "import copy"
   ]
  },
  {
   "cell_type": "code",
   "execution_count": 14,
   "metadata": {
    "collapsed": false
   },
   "outputs": [
    {
     "name": "stdout",
     "output_type": "stream",
     "text": [
      "\n"
     ]
    }
   ],
   "source": [
    "data_folder = './data/jiading/result/'\n",
    "with open(data_folder + 'ID1ID2.pkl') as fin:\n",
    "    id1id2, id1id2d = pickle.load(fin)\n",
    "# with open(data_folder + 'ID1ID2_context.pkl') as fin:\n",
    "#     id1id2_c, id1id2d_c = pickle.load(fin)\n",
    "# with open(data_folder + 'ID1_rssi.pkl') as fin:\n",
    "#     id1rssi, id1drssi = pickle.load(fin)\n",
    "# with open(data_folder + 'ID1ID2_rssi.pkl') as fin:\n",
    "#     id1id2rssi, id1id2drssi = pickle.load(fin)\n",
    "# with open(data_folder + 'ID1_rssi_gps3_trimed.pkl') as fin:\n",
    "#     id1rssingps, id1drssingps = pickle.load(fin)\n",
    "# with open(data_folder + 'ID1ID2_rssi_gps3_trimed.pkl') as fin:\n",
    "#     id1id2rssingps, id1id2drssingps = pickle.load(fin)\n",
    "# with open(data_folder + 'ID1ID2_gps3_trimed.pkl') as fin:\n",
    "#     id1id2ngps, id1id2dngps = pickle.load(fin)"
   ]
  },
  {
   "cell_type": "code",
   "execution_count": 15,
   "metadata": {
    "collapsed": false
   },
   "outputs": [
    {
     "name": "stdout",
     "output_type": "stream",
     "text": [
      "ID1ID2                  61.6175247828285 86.96570321927678 108.52343473825206 60\n",
      "ID1ID2_context          64.9334086463342 94.11518328584052 105.779039579315 57\n",
      "ID1ID2_gps3_trimed      63.65504448902073 91.46179985496742 96.86318087289412 59\n",
      "ID1_rssi                63.683720367887645 112.19620352230848 100.72723660277329 56\n",
      "ID1ID2_rssi             23.38311282784296 41.87133185474009 49.72788211034083 42\n",
      "ID1_rssi_gps3_trimed    66.91288595545379 106.47419440278108 105.47854203584527 59\n",
      "ID1ID2_rssi_gps3_trimed 22.374158268554474 46.794298295761024 46.15434975548497 50\n"
     ]
    }
   ],
   "source": [
    "print 'ID1ID2                 ', np.median(id1id2), np.median(id1id2d.values()), np.mean(id1id2), len(id1id2d)\n",
    "print 'ID1ID2_context         ', np.median(id1id2_c), np.median(id1id2d_c.values()), np.mean(id1id2_c), len(id1id2d_c)\n",
    "print 'ID1ID2_gps3_trimed     ', np.median(id1id2ngps), np.median(id1id2dngps.values()), np.mean(id1id2ngps), len(id1id2dngps)\n",
    "print 'ID1_rssi               ', np.median(id1rssi), np.median(id1drssi.values()), np.mean(id1rssi), len(id1drssi)\n",
    "print 'ID1ID2_rssi            ', np.median(id1id2rssi), np.median(id1id2drssi.values()), np.mean(id1id2rssi), len(id1id2drssi)\n",
    "print 'ID1_rssi_gps3_trimed   ', np.median(id1rssingps), np.median(id1drssingps.values()), np.mean(id1rssingps), len(id1drssingps)\n",
    "print 'ID1ID2_rssi_gps3_trimed', np.median(id1id2rssingps), np.median(id1id2drssingps.values()), np.mean(id1id2rssingps), len(id1id2drssingps)"
   ]
  },
  {
   "cell_type": "code",
   "execution_count": 2,
   "metadata": {
    "collapsed": true
   },
   "outputs": [],
   "source": [
    "data_folder = './data/jiading/result/'\n",
    "with open(data_folder + 'ID1ID2_side=15.pkl') as fin:\n",
    "    s1, s1d = pickle.load(fin)\n",
    "with open(data_folder + 'ID1ID2_side=20.pkl') as fin:\n",
    "    s2, s2d = pickle.load(fin)\n",
    "with open(data_folder + 'ID1ID2_side=30.pkl') as fin:\n",
    "    s3, s3d = pickle.load(fin)"
   ]
  },
  {
   "cell_type": "code",
   "execution_count": 6,
   "metadata": {
    "collapsed": false
   },
   "outputs": [
    {
     "name": "stdout",
     "output_type": "stream",
     "text": [
      "ID1ID2_side=15 33.11471412538552 59.126511493702886 65.2654948700098 47\n",
      "ID1ID2_side=20 33.39353563190869 54.14392560629506 64.96381576508581 49\n",
      "ID1ID2_side=30 38.49172838850944 59.49653105095306 68.98515250963467 57\n"
     ]
    }
   ],
   "source": [
    "print 'ID1ID2_side=15', np.median(s1), np.median(s1d.values()), np.mean(s1), len(s1d)\n",
    "print 'ID1ID2_side=20', np.median(s2), np.median(s2d.values()), np.mean(s2), len(s2d)\n",
    "print 'ID1ID2_side=30', np.median(s3), np.median(s3d.values()), np.mean(s3), len(s3d)"
   ]
  },
  {
   "cell_type": "code",
   "execution_count": 7,
   "metadata": {
    "collapsed": false
   },
   "outputs": [],
   "source": [
    "def CDF(results, legend, title, fname):\n",
    "    for result in results:\n",
    "        count = len(result)\n",
    "        X = sorted(result)\n",
    "        Y = np.cumsum([1.0/count] * count)\n",
    "        plt.plot(X, Y)\n",
    "    plt.legend(legend)\n",
    "    plt.title(title)\n",
    "    plt.savefig(data_folder + fname)\n",
    "    plt.close()\n",
    "# CDF([id1id2, id1id2_c, id1rssi, id1id2rssi, id1id2ngps])\n",
    "CDF([s1, s2, s3], ['side=15', 'side=20', 'side=30'], 'Feature:(ID1ID2) Diff cell width', 'side.png')"
   ]
  },
  {
   "cell_type": "code",
   "execution_count": null,
   "metadata": {
    "collapsed": true
   },
   "outputs": [],
   "source": []
  }
 ],
 "metadata": {
  "kernelspec": {
   "display_name": "Python 2",
   "language": "python",
   "name": "python2"
  },
  "language_info": {
   "codemirror_mode": {
    "name": "ipython",
    "version": 2
   },
   "file_extension": ".py",
   "mimetype": "text/x-python",
   "name": "python",
   "nbconvert_exporter": "python",
   "pygments_lexer": "ipython2",
   "version": "2.7.13"
  }
 },
 "nbformat": 4,
 "nbformat_minor": 2
}
