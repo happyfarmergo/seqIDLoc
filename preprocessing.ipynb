{
 "cells": [
  {
   "cell_type": "code",
   "execution_count": 1,
   "metadata": {
    "collapsed": true
   },
   "outputs": [],
   "source": [
    "import numpy as np\n",
    "import pandas as pd\n",
    "import utm\n",
    "import math\n",
    "import os\n",
    "import sys\n",
    "sys.path.append('./src')\n",
    "import math\n",
    "import time\n",
    "import datetime\n",
    "from collections import defaultdict\n",
    "import matplotlib\n",
    "import matplotlib.pyplot as plt\n",
    "\n",
    "import display_gm\n",
    "import display_osm\n",
    "import plot\n",
    "import tools\n",
    "import celltower as ctcrawler\n",
    "from data_cleaning import noise, load"
   ]
  },
  {
   "cell_type": "markdown",
   "metadata": {},
   "source": [
    "<h2>Data Process</h2>"
   ]
  },
  {
   "cell_type": "code",
   "execution_count": 17,
   "metadata": {
    "collapsed": false
   },
   "outputs": [
    {
     "name": "stdout",
     "output_type": "stream",
     "text": [
      "<type 'dict'>\n",
      "How many Cell Tower:  62\n",
      "duplicated cell towers: [[0, 13], [14, 22, 25], [4, 11], [5, 16], [19, 20], [3, 10, 24], [1, 7, 23]]\n",
      "len(db): 25\n"
     ]
    }
   ],
   "source": [
    "file_2g = './jiading/data_2g.csv'\n",
    "gongcan_2g = './jiading/2g_gongcan.csv'\n",
    "db, towers = load_2g(file_2g, gongcan_2g, merge_tower=True, neighbor=True, with_rssi=False, radio_angle=False)\n",
    "print 'len(db):', len(db)"
   ]
  },
  {
   "cell_type": "markdown",
   "metadata": {},
   "source": [
    "<h2>Missed Traj ID</h2>"
   ]
  },
  {
   "cell_type": "code",
   "execution_count": 8,
   "metadata": {
    "collapsed": false
   },
   "outputs": [
    {
     "name": "stdout",
     "output_type": "stream",
     "text": [
      "Total cost: 6.56100010872 s\n"
     ]
    }
   ],
   "source": [
    "mmr = reload(mmr)\n",
    "road_network = './Shanghai/SH_map'\n",
    "sequences = dbs\n",
    "alg_name = 'HMM'\n",
    "search_radius = 50\n",
    "time_gap = 5\n",
    "max_route_distance = 2000000\n",
    "\n",
    "start = time.time()\n",
    "paths = mmr.map_match(road_network, sequences, search_radius,time_gap, max_route_distance)\n",
    "end = time.time()\n",
    "print 'Total cost:', (end - start), 's'"
   ]
  },
  {
   "cell_type": "code",
   "execution_count": 19,
   "metadata": {
    "collapsed": false
   },
   "outputs": [
    {
     "name": "stdout",
     "output_type": "stream",
     "text": [
      "num of obsv:  174\n",
      "1 93\n",
      "2 36\n",
      "3 15\n",
      "4 11\n",
      "5 4\n",
      "6 6\n",
      "7 2\n",
      "9 2\n",
      "10 2\n",
      "11 1\n",
      "12 2\n"
     ]
    },
    {
     "data": {
      "image/png": "[encoded data removed]",
      "text/plain": [
       "<matplotlib.figure.Figure at 0xcc24fd0>"
      ]
     },
     "metadata": {},
     "output_type": "display_data"
    }
   ],
   "source": [
    "def find_matches_with(tr_id, idx, paths):\n",
    "    for s, e, rid in paths[tr_id]:\n",
    "        if s <= idx <= e:\n",
    "            return rid\n",
    "    return -1\n",
    "\n",
    "O = dict()\n",
    "summary = defaultdict(int)\n",
    "obsv_set = set()\n",
    "for tr_id, points in dbs.iteritems():\n",
    "    for idx, point in enumerate(points):\n",
    "        lat, lng, id1, id2 = point[:4]\n",
    "        obsv = (id1, id2)\n",
    "        obsv_set.add(obsv)\n",
    "        rid = find_matches_with(tr_id, idx, paths)\n",
    "        if obsv not in O.keys():\n",
    "            O[obsv] = dict()\n",
    "        if rid not in O[obsv].keys():\n",
    "            O[obsv][rid] = 0\n",
    "        O[obsv][rid] += 1\n",
    "\n",
    "print 'num of obsv: ', len(obsv_set)\n",
    "for obsv in O.iterkeys():\n",
    "    num = len(O[obsv])\n",
    "    summary[num] += 1\n",
    "\n",
    "for num, val in summary.iteritems():\n",
    "    print num, val\n",
    "plt.bar(summary.keys(), height=summary.values())\n",
    "xticks = [str(x) for x in summary.keys()]\n",
    "plt.xticks(summary.keys(), xticks)\n",
    "plt.title('(ID1,ID2)-Num of Roads Distribution')\n",
    "plt.xlabel('Num of Located Roads')\n",
    "plt.ylabel('Num of Observation')\n",
    "plt.show()"
   ]
  },
  {
   "cell_type": "code",
   "execution_count": null,
   "metadata": {
    "collapsed": true
   },
   "outputs": [],
   "source": [
    "summary = []\n",
    "for state in D.iterkeys():\n",
    "    rid = sag.get_cid(state)\n",
    "    to_time = sum(times for obsv, times in D[state].iteritems())\n",
    "    to_obsv = len(D[state])\n",
    "    summary.append((rid, to_obsv, to_time))\n",
    "#     print 'Cell[%d] has %d obsv, with %d times...' % (cid, to_obsv, to_time)\n",
    "df_freq = pd.DataFrame(summary, columns=['CellID', 'Obsv', 'Points'])\n",
    "df_freq.describe()"
   ]
  },
  {
   "cell_type": "markdown",
   "metadata": {},
   "source": [
    "<h2>Map Matching</h2>"
   ]
  },
  {
   "cell_type": "code",
   "execution_count": null,
   "metadata": {
    "collapsed": true
   },
   "outputs": [],
   "source": [
    "for i in range(len(dbs)):\n",
    "    to_write = ''\n",
    "    with open('./jiading/trajs/traj_%d.txt' % i, 'w') as fout:\n",
    "        for lat, lng, _, _, ctime in dbs[i]:\n",
    "            to_write += '%s,%s,%s\\n' % (ctime, lat, lng)\n",
    "        fout.write(to_write)"
   ]
  },
  {
   "cell_type": "code",
   "execution_count": 7,
   "metadata": {
    "collapsed": false
   },
   "outputs": [
    {
     "name": "stdout",
     "output_type": "stream",
     "text": [
      "235\n"
     ]
    }
   ],
   "source": [
    "in_folder = './Shanghai/edgegeometry'\n",
    "in_file = 'SH_EdgeGeometry.txt'\n",
    "edges = dict()\n",
    "with open(in_folder + '/' + in_file) as f:\n",
    "    cnt = 0\n",
    "    for line in f:\n",
    "        nodes = []\n",
    "        data = [float(d) for d in line.strip().split('^')[4:]]\n",
    "        rid = int(line.strip().split('^')[0])\n",
    "        lngs, lats = data[1::2], data[::2]\n",
    "        edges[rid] = [(lat, lng) for lat, lng in zip(lats, lngs)]\n",
    "        cnt += 1\n",
    "print len(edges)"
   ]
  },
  {
   "cell_type": "code",
   "execution_count": 8,
   "metadata": {
    "collapsed": false,
    "scrolled": true
   },
   "outputs": [
    {
     "name": "stdout",
     "output_type": "stream",
     "text": [
      "rid = 0:\n",
      "[164316039]\n",
      "rid = 1:\n",
      "[164316066, 164316057, 266157883, 164316030, 164316024, 164316065, 164316047, 263922901, 263922900, 263922899, 164316030, 164316039, 164316009, 266161866, 164316070, 164316010, 164316077, 164316016, 164316012, 164316031, 164316021, 164316057]\n",
      "rid = 2:\n",
      "[164316066, 164316021, 164316012, 164316056, 266345024, 164316011, 164316046, 164316014, 266157883, 135420817, 135420819, 384531666]\n",
      "rid = 3:\n",
      "[164316014, 266207478, 164316014, 384531665, 164316009, 266161866]\n",
      "rid = 4:\n",
      "[164316012, 164316031, 164316021, 164316057, 266157883, 164316030]\n",
      "rid = 5:\n",
      "[135419988, 135372842, 266221576]\n",
      "rid = 6:\n",
      "[263913994, 266207478, 266207479]\n",
      "rid = 7:\n",
      "[135419988, 135372842, 266221576, 164316030, 263913992]\n",
      "rid = 8:\n",
      "[164316014, 263913992]\n",
      "rid = 9:\n",
      "[263913994, 164316030, 266221576, 135372842, 384531666]\n",
      "rid = 10:\n",
      "[164316066, 135419988, 135382788, 135427149, 164316014]\n",
      "rid = 11:\n",
      "[164316057, 266157883]\n",
      "rid = 12:\n",
      "[266157883, 164316014, 384531665, 164316009, 266161866, 164316070, 164316010, 164316077, 164316016, 164316012, 164316031, 164316021, 164316057]\n",
      "rid = 13:\n",
      "[164316066, 164316021, 164316012, 164316037, 164316010, 164316056, 266345024, 164316011, 164316046, 164316014, 266157883, 135420818, 135420817, 164316057]\n",
      "rid = 14:\n",
      "[266157883, 164316014, 164316020, 164316046, 266345024, 164316056, 164316070, 164316061, 164316070, 164316010, 164316068, 266161866, 164316070, 164316010, 164316077, 164316016, 164316012, 164316031, 164316021, 164316057, 266157883, 164316014]\n",
      "rid = 15:\n",
      "[164316066, 164316057, 266157883, 164316014, 384531665, 164316009, 266161866, 164316070, 164316010, 164316077, 164316016, 164316012, 164316031, 164316021, 164316057]\n",
      "rid = 16:\n",
      "[108718520, 168458392, 108718520, 263930563, 108718520, 263930564, 263922901, 263922900, 263922899, 164316030, 263922900, 164316030, 164316039]\n",
      "rid = 17:\n",
      "[164316066, 164316021, 164316012, 164316037, 164316010, 164316056, 266345024, 164316011, 164316046, 164316014, 266157883, 135420818, 135420817, 164316057]\n",
      "rid = 18:\n",
      "[164316057, 135419988, 135372842, 266221576, 164316030]\n",
      "rid = 19:\n",
      "[164316030, 266233213]\n",
      "rid = 20:\n",
      "[164316014, 164316020, 135385548, 135404398, 135404401, 263913984, 263913987]\n"
     ]
    }
   ],
   "source": [
    "for i in range(len(dbs)):\n",
    "    rids = []\n",
    "    # (a, b, rid)\n",
    "    path = []\n",
    "    with open('./jiading/trajs/traj_%d.txt.HMM.G5.csv' % i) as fout:\n",
    "        cnt = 0\n",
    "        for line in fout:\n",
    "            data = line.strip().split(',')\n",
    "            if len(data)==1:\n",
    "                continue\n",
    "            rid = int(data[3])\n",
    "            rids.append(rid)\n",
    "            cnt += 1\n",
    "    last_rid = 0\n",
    "    last_idx = 0\n",
    "    for idx in range(len(rids)):\n",
    "        rid = rids[idx]\n",
    "        if rid != last_rid and last_rid != 0:\n",
    "            path.append((last_idx, idx - 1, last_rid))\n",
    "            last_idx = idx\n",
    "        last_rid = rid\n",
    "    path.append((last_idx, len(rids) - 1, rid))\n",
    "    ids = []\n",
    "    for a, b, rid in path:\n",
    "    #     print '[%d, %d]-rid %d' % (a, b, rid)\n",
    "        ids.append(rid)\n",
    "    print 'rid = %d:' % i\n",
    "    print ids"
   ]
  },
  {
   "cell_type": "markdown",
   "metadata": {},
   "source": [
    "<h2>Missed Cell Tower</h2>"
   ]
  },
  {
   "cell_type": "code",
   "execution_count": 4,
   "metadata": {
    "collapsed": false
   },
   "outputs": [],
   "source": [
    "load = reload(load)\n",
    "dataset = 'jiading'\n",
    "datatype = '2g'\n",
    "data_file = './data/%s_%s/data_%s.csv' % (dataset, datatype, datatype)\n",
    "gongcan_file = './data/%s_%s/gongcan_%s.csv' % (dataset, datatype, datatype)\n",
    "disp_path = './display/%s_%s/' % (dataset, datatype)\n",
    "data_path = './data/%s_%s/' % (dataset, datatype)"
   ]
  },
  {
   "cell_type": "code",
   "execution_count": 27,
   "metadata": {
    "collapsed": false
   },
   "outputs": [
    {
     "name": "stdout",
     "output_type": "stream",
     "text": [
      "Index([u'Unnamed: 0', u'TrajID', u'IMEI', u'IMSI', u'MRTime', u'Longitude',\n",
      "       u'Latitude', u'Altitude', u'Accuracy', u'Speed',\n",
      "       ...\n",
      "       u'RNCID_7', u'CellID_7', u'Arfcn_7', u'Basic_psc_pci_7', u'Lon_7',\n",
      "       u'Lat_7', u'AsuLevel_7', u'SignalLevel_7', u'Dbm_7', u'Type_7'],\n",
      "      dtype='object', length=108)\n",
      "Index([u'TrajID', u'IMEI', u'IMSI', u'MRTime', u'Longitude', u'Latitude',\n",
      "       u'Altitude', u'Accuracy', u'Speed', u'Dbm',\n",
      "       ...\n",
      "       u'RNCID_7', u'CellID_7', u'Arfcn_7', u'Basic_psc_pci_7', u'Lon_7',\n",
      "       u'Lat_7', u'AsuLevel_7', u'SignalLevel_7', u'Dbm_7', u'Type_7'],\n",
      "      dtype='object', length=107)\n"
     ]
    }
   ],
   "source": [
    "# df = pd.read_csv(data_file)\n",
    "# print df.columns\n",
    "# df = df.drop(['Unnamed: 0'], axis=1)\n",
    "# print df.columns\n",
    "# df.to_csv(data_file, index=False)"
   ]
  },
  {
   "cell_type": "code",
   "execution_count": 5,
   "metadata": {
    "collapsed": false
   },
   "outputs": [
    {
     "name": "stdout",
     "output_type": "stream",
     "text": [
      "0\n"
     ]
    }
   ],
   "source": [
    "def valid_bs(rid, cid):\n",
    "    return rid > 0 and cid > 0\n",
    "\n",
    "df = pd.read_csv(data_file)\n",
    "# o_towers = load.load_gongcan(gongcan_file)\n",
    "o_towers = dict()\n",
    "lost_cells = set()\n",
    "valid_cnt = 0\n",
    "for i, piece_data in df.iterrows():\n",
    "    rid_1, cid_1, rssi_1, rid_2, cid_2, rssi_2, rid_3, cid_3, rssi_3, lat, lng, speed, tr_id, timestp = \\\n",
    "        piece_data['RNCID_1'], piece_data['CellID_1'], piece_data['Dbm_1'], \\\n",
    "        piece_data['RNCID_2'], piece_data['CellID_2'], piece_data['Dbm_2'], \\\n",
    "        piece_data['RNCID_3'], piece_data['CellID_3'], piece_data['Dbm_3'], \\\n",
    "        piece_data['Latitude'], piece_data['Longitude'], piece_data['Speed'], \\\n",
    "        int(piece_data['TrajID']), int(piece_data['MRTime']) / 1000\n",
    "    if math.isnan(rid_1) or math.isnan(rid_2) or math.isnan(rid_3):\n",
    "        print 'nan', i\n",
    "        continue\n",
    "#     if not (valid_bs(rid_1, cid_1) and valid_bs(rid_2, cid_2) and valid_bs(rid_3, cid_3)):\n",
    "#         valid_cnt += 1\n",
    "#         continue\n",
    "    if (rid_1, cid_1) not in o_towers.keys() and valid_bs(rid_1, cid_1):\n",
    "        lost_cells.add((rid_1, cid_1))\n",
    "    if (rid_2, cid_2) not in o_towers.keys() and valid_bs(rid_2, cid_2):\n",
    "        lost_cells.add((rid_2, cid_2))\n",
    "    if (rid_3, cid_3) not in o_towers.keys() and valid_bs(rid_3, cid_3):\n",
    "        lost_cells.add((rid_3, cid_3))\n",
    "print valid_cnt"
   ]
  },
  {
   "cell_type": "code",
   "execution_count": 6,
   "metadata": {
    "collapsed": false,
    "scrolled": true
   },
   "outputs": [
    {
     "data": {
      "text/plain": [
       "111"
      ]
     },
     "execution_count": 6,
     "metadata": {},
     "output_type": "execute_result"
    }
   ],
   "source": [
    "len(lost_cells)"
   ]
  },
  {
   "cell_type": "code",
   "execution_count": 7,
   "metadata": {
    "collapsed": false,
    "scrolled": true
   },
   "outputs": [
    {
     "data": {
      "text/plain": [
       "{(5198.0, 1178.0),\n",
       " (5198L, 1186L),\n",
       " (5198.0, 1187.0),\n",
       " (5198L, 1188L),\n",
       " (5198L, 16057L),\n",
       " (5198L, 16058L),\n",
       " (5198.0, 16059.0),\n",
       " (5198.0, 16237.0),\n",
       " (5198.0, 16367.0),\n",
       " (5198.0, 16519.0),\n",
       " (5198.0, 17029.0),\n",
       " (5198.0, 17739.0),\n",
       " (5198.0, 20608.0),\n",
       " (5198.0, 20609.0),\n",
       " (5198.0, 23603.0),\n",
       " (5198.0, 25311.0),\n",
       " (5198.0, 25312.0),\n",
       " (5198.0, 32914.0),\n",
       " (5198.0, 36811.0),\n",
       " (5198.0, 38197.0),\n",
       " (5198.0, 38198.0),\n",
       " (5198.0, 41518.0),\n",
       " (5198.0, 42507.0),\n",
       " (5198L, 42508L),\n",
       " (5198.0, 42509.0),\n",
       " (5198.0, 42517.0),\n",
       " (5198L, 42518L),\n",
       " (5198L, 42519L),\n",
       " (5198L, 43857L),\n",
       " (5198.0, 43858.0),\n",
       " (5198.0, 44572.0),\n",
       " (5198.0, 46199.0),\n",
       " (5198.0, 49472.0),\n",
       " (5198.0, 49663.0),\n",
       " (5198.0, 49988.0),\n",
       " (5198.0, 49989.0),\n",
       " (5198L, 50807L),\n",
       " (5198L, 50809L),\n",
       " (5198.0, 56687.0),\n",
       " (5198.0, 56688.0),\n",
       " (5198.0, 56689.0),\n",
       " (5198.0, 57368.0),\n",
       " (5198L, 57857L),\n",
       " (5198.0, 64092.0),\n",
       " (5198.0, 64581.0),\n",
       " (5198.0, 64742.0),\n",
       " (6151.0, 14542.0),\n",
       " (6151L, 14547L),\n",
       " (6151.0, 14553.0),\n",
       " (6182L, 13394L),\n",
       " (6182.0, 13666.0),\n",
       " (6182.0, 13698.0),\n",
       " (6182.0, 40789.0),\n",
       " (6182.0, 41139.0),\n",
       " (6182.0, 41233.0),\n",
       " (6182L, 41235L),\n",
       " (6182.0, 41503.0),\n",
       " (6182L, 41525L),\n",
       " (6182.0, 41581.0),\n",
       " (6182L, 41607L),\n",
       " (6182.0, 44754.0),\n",
       " (6182.0, 44755.0),\n",
       " (6182L, 44757L),\n",
       " (6182L, 44770L),\n",
       " (6182.0, 44771.0),\n",
       " (6182.0, 44772.0),\n",
       " (6182.0, 44775.0),\n",
       " (6188.0, 20865.0),\n",
       " (6188.0, 20897.0),\n",
       " (6188L, 21329L),\n",
       " (6188.0, 21331.0),\n",
       " (6188L, 22673L),\n",
       " (6188.0, 25089.0),\n",
       " (6188.0, 25105.0),\n",
       " (6188.0, 25187.0),\n",
       " (6188L, 25633L),\n",
       " (6188.0, 25761.0),\n",
       " (6188.0, 25763.0),\n",
       " (6188.0, 25859.0),\n",
       " (6188.0, 26049.0),\n",
       " (6188L, 26050L),\n",
       " (6188L, 26051L),\n",
       " (6188L, 27314L),\n",
       " (6188.0, 27361.0),\n",
       " (6188.0, 27377.0),\n",
       " (6188.0, 27378.0),\n",
       " (6188L, 27379L),\n",
       " (6188.0, 27393.0),\n",
       " (6188L, 27394L),\n",
       " (6188L, 27395L),\n",
       " (6188L, 40957L),\n",
       " (6188.0, 40967.0),\n",
       " (6188.0, 41065.0),\n",
       " (6188.0, 41067.0),\n",
       " (6188.0, 41075.0),\n",
       " (6188L, 41076L),\n",
       " (6188.0, 41091.0),\n",
       " (6188L, 41092L),\n",
       " (6188.0, 41093.0),\n",
       " (6188L, 41094L),\n",
       " (6188.0, 41102.0),\n",
       " (6188.0, 41121.0),\n",
       " (6188.0, 41122.0),\n",
       " (6188.0, 41123.0),\n",
       " (6188L, 41124L),\n",
       " (6188L, 41127L),\n",
       " (6188L, 41146L),\n",
       " (6188L, 41148L),\n",
       " (6188.0, 41149.0),\n",
       " (6188L, 41152L),\n",
       " (6188L, 41154L)}"
      ]
     },
     "execution_count": 7,
     "metadata": {},
     "output_type": "execute_result"
    }
   ],
   "source": [
    "lost_cells"
   ]
  },
  {
   "cell_type": "code",
   "execution_count": 9,
   "metadata": {
    "collapsed": false,
    "scrolled": true
   },
   "outputs": [
    {
     "name": "stdout",
     "output_type": "stream",
     "text": [
      "0\n",
      "1\n",
      "error:(6188,20897)\n",
      "2\n",
      "3\n",
      "4\n",
      "5\n",
      "6\n",
      "7\n",
      "8\n",
      "error:(6182,41139)\n",
      "error:(6188,27393)\n",
      "9\n",
      "10\n",
      "11\n",
      "12\n",
      "13\n",
      "error:(6188,25763)\n",
      "14\n",
      "15\n",
      "16\n",
      "17\n",
      "18\n",
      "19\n",
      "20\n",
      "error:(6188,26049)\n",
      "21\n",
      "22\n",
      "23\n",
      "24\n",
      "25\n",
      "26\n",
      "27\n",
      "error:(6188,27378)\n",
      "28\n",
      "29\n",
      "30\n",
      "31\n",
      "32\n",
      "33\n",
      "34\n",
      "35\n",
      "36\n",
      "37\n",
      "38\n",
      "39\n",
      "40\n",
      "error:(6188,22673)\n",
      "41\n",
      "42\n",
      "43\n",
      "44\n",
      "45\n",
      "46\n",
      "47\n",
      "48\n",
      "49\n",
      "50\n",
      "51\n",
      "error:(6188,21329)\n",
      "52\n",
      "53\n",
      "54\n",
      "error:(6188,25089)\n",
      "55\n",
      "56\n",
      "57\n",
      "58\n",
      "59\n",
      "60\n",
      "61\n",
      "62\n",
      "63\n",
      "error:(6188,25105)\n",
      "64\n",
      "error:(6188,25859)\n",
      "65\n",
      "66\n",
      "67\n",
      "68\n",
      "69\n",
      "70\n",
      "71\n",
      "error:(6188,25187)\n",
      "72\n",
      "73\n",
      "74\n",
      "75\n",
      "76\n",
      "77\n",
      "error:(6182,13394)\n",
      "error:(6188,20865)\n",
      "78\n",
      "79\n",
      "80\n",
      "error:(6188,27361)\n",
      "81\n",
      "82\n",
      "83\n",
      "error:(6188,27314)\n",
      "84\n",
      "error:(6188,21331)\n",
      "85\n",
      "86\n",
      "87\n",
      "88\n",
      "89\n",
      "90\n",
      "91\n",
      "92\n",
      "93\n"
     ]
    }
   ],
   "source": [
    "ctcrawler = reload(ctcrawler)\n",
    "crawler = ctcrawler.CellTower()\n",
    "result, failed = crawler.get_tower(lost_cells)"
   ]
  },
  {
   "cell_type": "code",
   "execution_count": 18,
   "metadata": {
    "collapsed": false
   },
   "outputs": [],
   "source": [
    "failed = failed[:1]"
   ]
  },
  {
   "cell_type": "code",
   "execution_count": 10,
   "metadata": {
    "collapsed": false
   },
   "outputs": [
    {
     "name": "stdout",
     "output_type": "stream",
     "text": [
      "0\n",
      "1\n",
      "2\n",
      "3\n",
      "4\n",
      "5\n",
      "6\n",
      "7\n",
      "8\n",
      "9\n",
      "10\n",
      "11\n",
      "12\n",
      "13\n",
      "14\n",
      "15\n",
      "16\n"
     ]
    }
   ],
   "source": [
    "appendex, failed_ed = crawler.get_tower(failed)"
   ]
  },
  {
   "cell_type": "code",
   "execution_count": 11,
   "metadata": {
    "collapsed": true
   },
   "outputs": [],
   "source": [
    "result.extend(appendex)"
   ]
  },
  {
   "cell_type": "code",
   "execution_count": 45,
   "metadata": {
    "collapsed": true
   },
   "outputs": [],
   "source": [
    "result = list(lost_cells)"
   ]
  },
  {
   "cell_type": "code",
   "execution_count": 13,
   "metadata": {
    "collapsed": false
   },
   "outputs": [],
   "source": [
    "new_towers = pd.DataFrame(result, columns=['RNCID', 'CellID', 'Latitude', 'Longitude', 'Azimuth', 'Downtilt'])\n",
    "# old_towers = pd.read_csv(gongcan_file)[['RNCID', 'CellID']]\n",
    "old_towers = pd.DataFrame()\n",
    "total_towers = pd.concat([old_towers, new_towers]).sort_values(by=['RNCID', 'CellID']).reset_index(drop=True)\n",
    "total_towers.to_csv(gongcan_file, index=False)"
   ]
  },
  {
   "cell_type": "markdown",
   "metadata": {},
   "source": [
    "<h2>1.Particle Filtering</h2>"
   ]
  },
  {
   "cell_type": "code",
   "execution_count": null,
   "metadata": {
    "collapsed": true
   },
   "outputs": [],
   "source": [
    "hmm = reload(hmm)\n",
    "predict_p = dict()\n",
    "cnt = 0\n",
    "for tr_id, traj in test.iteritems():\n",
    "    obsv = traj[0][2:]\n",
    "    N = len(D) * 4\n",
    "    particles, init_rids = hmm.Particle.create_by_prior_dist(obsv, D, B_, N)\n",
    "    try:\n",
    "        result = hmm.particle_filter(traj, A, B_, particles, 100)\n",
    "    except:\n",
    "        print 'traj id:', tr_id, ' failed...'\n",
    "        continue\n",
    "    predict_p[tr_id] = result\n",
    "    cnt += 1\n",
    "    print 'traj id:', tr_id, ' success'\n",
    "print 'success:', cnt"
   ]
  }
 ],
 "metadata": {
  "kernelspec": {
   "display_name": "Python 2",
   "language": "python",
   "name": "python2"
  },
  "language_info": {
   "codemirror_mode": {
    "name": "ipython",
    "version": 2
   },
   "file_extension": ".py",
   "mimetype": "text/x-python",
   "name": "python",
   "nbconvert_exporter": "python",
   "pygments_lexer": "ipython2",
   "version": "2.7.13"
  }
 },
 "nbformat": 4,
 "nbformat_minor": 2
}
