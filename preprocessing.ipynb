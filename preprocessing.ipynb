{
 "cells": [
  {
   "cell_type": "code",
   "execution_count": 7,
   "metadata": {
    "collapsed": true
   },
   "outputs": [],
   "source": [
    "import numpy as np\n",
    "import pandas as pd\n",
    "import utm\n",
    "import math\n",
    "import os\n",
    "import sys\n",
    "sys.path.append('./src')\n",
    "sys.path.append('./map_matching')\n",
    "import math\n",
    "import time\n",
    "import datetime\n",
    "from collections import defaultdict\n",
    "import matplotlib\n",
    "import matplotlib.pyplot as plt\n",
    "\n",
    "import display_gm\n",
    "import display_osm\n",
    "import plot\n",
    "import tools\n",
    "import celltower as ctcrawler\n",
    "from data_cleaning import noise\n",
    "from HMMM.preprocessing import my_matcher as mmr"
   ]
  },
  {
   "cell_type": "markdown",
   "metadata": {},
   "source": [
    "<h2>Data Process</h2>"
   ]
  },
  {
   "cell_type": "code",
   "execution_count": 2,
   "metadata": {
    "collapsed": false
   },
   "outputs": [],
   "source": [
    "def load_2g_gongcan(gongcan_2g):\n",
    "    gongcan = pd.read_csv(gongcan_2g)\n",
    "    # merged cell tower, origin cell tower\n",
    "    m_towers, o_towers = dict(), dict()\n",
    "    duplicate = defaultdict(list)\n",
    "    dup_ids = []\n",
    "    dup_set = set()\n",
    "    for i in range(len(gongcan)):\n",
    "        rncid, cellid, lng, lat, azimuth, downtilt = \\\n",
    "        gongcan.iloc[i]['RNCID'], gongcan.iloc[i]['CellID'], \\\n",
    "        gongcan.iloc[i]['Longitude'], gongcan.iloc[i]['Latitude'], \\\n",
    "        gongcan.iloc[i]['Azimuth'], gongcan.iloc[i]['Downtilt']\n",
    "        if (lat, lng) not in duplicate.keys():\n",
    "            m_towers[(rncid, cellid)] = (i, lat, lng, azimuth, downtilt)\n",
    "        o_towers[(rncid, cellid)] = (i, lat, lng, azimuth, downtilt)\n",
    "        duplicate[(lat, lng)].append(i)\n",
    "    print 'How many Cell Tower: ', len(m_towers)\n",
    "    iterator = (ids for loc, ids in duplicate.iteritems() if len(ids) > 1)\n",
    "    for ids in iterator:\n",
    "        dup_ids.append(ids)\n",
    "        dup_set.update(ids)\n",
    "    print 'duplicated cell towers:', dup_ids\n",
    "    return m_towers, o_towers, dup_ids, dup_set\n",
    "\n",
    "def parse_argv(feature):\n",
    "    merge_tower = feature['merge_tower']\n",
    "    neighbor = feature['neighbor']\n",
    "    with_rssi = feature['with_rssi']\n",
    "    radio_angle = feature['radio_angle']\n",
    "    return merge_tower, neighbor, with_rssi, radio_angle\n",
    "\n",
    "def find_cell_id(old_id, dup_set, dup_ids):\n",
    "    if old_id not in dup_set:\n",
    "        return old_id\n",
    "    for ids in dup_ids:\n",
    "        if old_id in ids:\n",
    "            return ids[0]\n",
    "    \n",
    "def load_2g(file_2g, gongcan_2g, **feature):\n",
    "    print type(feature)\n",
    "    merge_tower, neighbor, with_rssi, radio_angle = parse_argv(feature)\n",
    "    m_towers, o_towers, dup_ids, dup_set = load_2g_gongcan(gongcan_2g)\n",
    "    towers = m_towers if merge_tower else o_towers\n",
    "#     obsv = []\n",
    "    db = defaultdict(list)\n",
    "    df = pd.read_csv(file_2g)\n",
    "    for i in range(len(df)):\n",
    "        rid_1, cid_1, rssi_1, rid_2, cid_2, rssi_2, lat, lng, tr_id, timestp = \\\n",
    "        int(df.iloc[i]['RNCID_1']), int(df.iloc[i]['CellID_1']), int(df.iloc[i]['RSSI_1']), \\\n",
    "        int(df.iloc[i]['RNCID_2']), int(df.iloc[i]['CellID_2']), int(df.iloc[i]['RSSI_2']), \\\n",
    "        df.iloc[i]['Latitude'], df.iloc[i]['Longitude'], \\\n",
    "        int(df.iloc[i]['traj_id']), int(df.iloc[i]['MRTime']) / 1000\n",
    "        index_1 = o_towers[(rid_1, cid_1)][0] if (rid_1, cid_1) in o_towers.keys() else -1\n",
    "        index_2 = o_towers[(rid_2, cid_2)][0] if (rid_2, cid_2) in o_towers.keys() else -1\n",
    "        if merge_tower:\n",
    "            index_1 = find_cell_id(index_1, dup_set, dup_ids)\n",
    "            index_2 = find_cell_id(index_2, dup_set, dup_ids)\n",
    "        # 拼装输入数据特征\n",
    "        point = (lat, lng, index_1, timestp)\n",
    "        if neighbor:\n",
    "            point = (lat, lng, index_1, index_2, timestp)\n",
    "        if with_rssi:\n",
    "            point = (lat, lng, index_1, rssi_1, timestp) if not neighbor else (lat, lng, index_1, rssi_1, index_2, rssi_2, timestp)\n",
    "        db[tr_id].append(point)\n",
    "        \n",
    "    return db, towers\n",
    "#         obsv.append((lat, lng, index_1, index_2))\n"
   ]
  },
  {
   "cell_type": "code",
   "execution_count": 17,
   "metadata": {
    "collapsed": false
   },
   "outputs": [
    {
     "name": "stdout",
     "output_type": "stream",
     "text": [
      "<type 'dict'>\n",
      "How many Cell Tower:  62\n",
      "duplicated cell towers: [[0, 13], [14, 22, 25], [4, 11], [5, 16], [19, 20], [3, 10, 24], [1, 7, 23]]\n",
      "len(db): 25\n"
     ]
    }
   ],
   "source": [
    "file_2g = './jiading/data_2g.csv'\n",
    "gongcan_2g = './jiading/2g_gongcan.csv'\n",
    "db, towers = load_2g(file_2g, gongcan_2g, merge_tower=True, neighbor=True, with_rssi=False, radio_angle=False)\n",
    "print 'len(db):', len(db)"
   ]
  },
  {
   "cell_type": "markdown",
   "metadata": {},
   "source": [
    "<h2>Missed Traj ID</h2>"
   ]
  },
  {
   "cell_type": "code",
   "execution_count": null,
   "metadata": {
    "collapsed": true
   },
   "outputs": [],
   "source": [
    "traj_ids = []\n",
    "tid = -1\n",
    "stime = 0\n",
    "for i in range(len(df)):\n",
    "    rid_1, cid_1, rid_2, cid_2, lat, lng, ctime = int(df.iloc[i]['RNCID_1']), int(df.iloc[i]['CellID_1']), \\\n",
    "    int(df.iloc[i]['RNCID_2']), int(df.iloc[i]['CellID_2']), \\\n",
    "    df.iloc[i]['Latitude'], df.iloc[i]['Longitude'], int(df.iloc[i]['MRTime']) / 1000\n",
    "    if ctime-stime >= 10:\n",
    "        tid += 1\n",
    "    traj_ids.append(tid)\n",
    "    stime = ctime\n",
    "df.insert(loc=2, column='traj_id', value=traj_ids)\n",
    "df.to_csv('./jiading/data_2g.csv', index=False)"
   ]
  },
  {
   "cell_type": "markdown",
   "metadata": {},
   "source": [
    "<h2>Data Cleaning</h2>"
   ]
  },
  {
   "cell_type": "code",
   "execution_count": 18,
   "metadata": {
    "collapsed": false,
    "scrolled": true
   },
   "outputs": [
    {
     "name": "stdout",
     "output_type": "stream",
     "text": [
      "origin id= 0\n",
      "keep[0:15]as id=0\t\n",
      "origin id= 1\n",
      "\n",
      "origin id= 2\n",
      "keep[1:719]as id=1\t\n",
      "origin id= 3\n",
      "keep[0:581]as id=2\t\n",
      "origin id= 4\n",
      "keep[2:208]as id=3\t\n",
      "origin id= 5\n",
      "keep[0:386]as id=4\t\n",
      "origin id= 6\n",
      "keep[0:327]as id=5\t\n",
      "origin id= 7\n",
      "keep[0:323]as id=6\tkeep[323:656]as id=7\t\n",
      "origin id= 8\n",
      "\n",
      "origin id= 9\n",
      "\n",
      "origin id= 10\n",
      "\n",
      "origin id= 11\n",
      "\n",
      "origin id= 12\n",
      "keep[0:111]as id=8\t\n",
      "origin id= 13\n",
      "\n",
      "origin id= 14\n",
      "\n",
      "origin id= 15\n",
      "keep[0:309]as id=9\t\n",
      "origin id= 16\n",
      "keep[0:307]as id=10\tkeep[307:367]as id=11\t\n",
      "origin id= 17\n",
      "keep[0:340]as id=12\t\n",
      "origin id= 18\n",
      "keep[0:421]as id=13\tkeep[421:793]as id=14\t\n",
      "origin id= 19\n",
      "keep[2:342]as id=15\t\n",
      "origin id= 20\n",
      "keep[0:151]as id=16\tkeep[151:447]as id=17\t\n",
      "origin id= 21\n",
      "keep[0:265]as id=18\t\n",
      "origin id= 22\n",
      "\n",
      "origin id= 23\n",
      "keep[0:39]as id=19\t\n",
      "origin id= 24\n",
      "keep[3:171]as id=20\t\n",
      "21\n"
     ]
    }
   ],
   "source": [
    "noise = reload(noise)\n",
    "# cleaned db\n",
    "dbs = dict()\n",
    "min_traj_len = 10\n",
    "idx = 0\n",
    "for i in range(len(db)):\n",
    "    ranges = noise.makeTrajs(db[i], max_dist=200.0)\n",
    "    print 'origin id=', i\n",
    "    out = ''\n",
    "    for a, b in tools.pairwise(ranges):\n",
    "        if b - a < min_traj_len:\n",
    "            continue\n",
    "            out += 'discard[%d:%d]\\t' % (a, b)\n",
    "        dbs[idx] = db[i][a:b]\n",
    "        out += 'keep[%d:%d]as id=%d\\t' % (a, b, idx)\n",
    "        idx += 1\n",
    "    print out\n",
    "    \n",
    "print len(dbs)"
   ]
  },
  {
   "cell_type": "code",
   "execution_count": null,
   "metadata": {
    "collapsed": true
   },
   "outputs": [],
   "source": [
    "display_osm = reload(display_osm)\n",
    "for i in range(len(dbs)):\n",
    "    display_osm.path_to_html(dbs[i], edges, './display/path/%d.html' % i)"
   ]
  },
  {
   "cell_type": "code",
   "execution_count": 8,
   "metadata": {
    "collapsed": false
   },
   "outputs": [
    {
     "name": "stdout",
     "output_type": "stream",
     "text": [
      "Total cost: 6.56100010872 s\n"
     ]
    }
   ],
   "source": [
    "mmr = reload(mmr)\n",
    "road_network = './Shanghai/SH_map'\n",
    "sequences = dbs\n",
    "alg_name = 'HMM'\n",
    "search_radius = 50\n",
    "time_gap = 5\n",
    "max_route_distance = 2000000\n",
    "\n",
    "start = time.time()\n",
    "paths = mmr.map_match(road_network, sequences, search_radius,time_gap, max_route_distance)\n",
    "end = time.time()\n",
    "print 'Total cost:', (end - start), 's'"
   ]
  },
  {
   "cell_type": "code",
   "execution_count": 19,
   "metadata": {
    "collapsed": false
   },
   "outputs": [
    {
     "name": "stdout",
     "output_type": "stream",
     "text": [
      "num of obsv:  174\n",
      "1 93\n",
      "2 36\n",
      "3 15\n",
      "4 11\n",
      "5 4\n",
      "6 6\n",
      "7 2\n",
      "9 2\n",
      "10 2\n",
      "11 1\n",
      "12 2\n"
     ]
    },
    {
     "data": {
      "image/png": "[encoded data removed]",
      "text/plain": [
       "<matplotlib.figure.Figure at 0xcc24fd0>"
      ]
     },
     "metadata": {},
     "output_type": "display_data"
    }
   ],
   "source": [
    "def find_matches_with(tr_id, idx, paths):\n",
    "    for s, e, rid in paths[tr_id]:\n",
    "        if s <= idx <= e:\n",
    "            return rid\n",
    "    return -1\n",
    "\n",
    "O = dict()\n",
    "summary = defaultdict(int)\n",
    "obsv_set = set()\n",
    "for tr_id, points in dbs.iteritems():\n",
    "    for idx, point in enumerate(points):\n",
    "        lat, lng, id1, id2 = point[:4]\n",
    "        obsv = (id1, id2)\n",
    "        obsv_set.add(obsv)\n",
    "        rid = find_matches_with(tr_id, idx, paths)\n",
    "        if obsv not in O.keys():\n",
    "            O[obsv] = dict()\n",
    "        if rid not in O[obsv].keys():\n",
    "            O[obsv][rid] = 0\n",
    "        O[obsv][rid] += 1\n",
    "\n",
    "print 'num of obsv: ', len(obsv_set)\n",
    "for obsv in O.iterkeys():\n",
    "    num = len(O[obsv])\n",
    "    summary[num] += 1\n",
    "\n",
    "for num, val in summary.iteritems():\n",
    "    print num, val\n",
    "plt.bar(summary.keys(), height=summary.values())\n",
    "xticks = [str(x) for x in summary.keys()]\n",
    "plt.xticks(summary.keys(), xticks)\n",
    "plt.title('(ID1,ID2)-Num of Roads Distribution')\n",
    "plt.xlabel('Num of Located Roads')\n",
    "plt.ylabel('Num of Observation')\n",
    "plt.show()"
   ]
  },
  {
   "cell_type": "code",
   "execution_count": null,
   "metadata": {
    "collapsed": true
   },
   "outputs": [],
   "source": [
    "summary = []\n",
    "for state in D.iterkeys():\n",
    "    rid = sag.get_cid(state)\n",
    "    to_time = sum(times for obsv, times in D[state].iteritems())\n",
    "    to_obsv = len(D[state])\n",
    "    summary.append((rid, to_obsv, to_time))\n",
    "#     print 'Cell[%d] has %d obsv, with %d times...' % (cid, to_obsv, to_time)\n",
    "df_freq = pd.DataFrame(summary, columns=['CellID', 'Obsv', 'Points'])\n",
    "df_freq.describe()"
   ]
  },
  {
   "cell_type": "markdown",
   "metadata": {},
   "source": [
    "<h2>Map Matching</h2>"
   ]
  },
  {
   "cell_type": "code",
   "execution_count": null,
   "metadata": {
    "collapsed": true
   },
   "outputs": [],
   "source": [
    "for i in range(len(dbs)):\n",
    "    to_write = ''\n",
    "    with open('./jiading/trajs/traj_%d.txt' % i, 'w') as fout:\n",
    "        for lat, lng, _, _, ctime in dbs[i]:\n",
    "            to_write += '%s,%s,%s\\n' % (ctime, lat, lng)\n",
    "        fout.write(to_write)"
   ]
  },
  {
   "cell_type": "code",
   "execution_count": 7,
   "metadata": {
    "collapsed": false
   },
   "outputs": [
    {
     "name": "stdout",
     "output_type": "stream",
     "text": [
      "235\n"
     ]
    }
   ],
   "source": [
    "in_folder = './Shanghai/edgegeometry'\n",
    "in_file = 'SH_EdgeGeometry.txt'\n",
    "edges = dict()\n",
    "with open(in_folder + '/' + in_file) as f:\n",
    "    cnt = 0\n",
    "    for line in f:\n",
    "        nodes = []\n",
    "        data = [float(d) for d in line.strip().split('^')[4:]]\n",
    "        rid = int(line.strip().split('^')[0])\n",
    "        lngs, lats = data[1::2], data[::2]\n",
    "        edges[rid] = [(lat, lng) for lat, lng in zip(lats, lngs)]\n",
    "        cnt += 1\n",
    "print len(edges)"
   ]
  },
  {
   "cell_type": "code",
   "execution_count": 8,
   "metadata": {
    "collapsed": false,
    "scrolled": true
   },
   "outputs": [
    {
     "name": "stdout",
     "output_type": "stream",
     "text": [
      "rid = 0:\n",
      "[164316039]\n",
      "rid = 1:\n",
      "[164316066, 164316057, 266157883, 164316030, 164316024, 164316065, 164316047, 263922901, 263922900, 263922899, 164316030, 164316039, 164316009, 266161866, 164316070, 164316010, 164316077, 164316016, 164316012, 164316031, 164316021, 164316057]\n",
      "rid = 2:\n",
      "[164316066, 164316021, 164316012, 164316056, 266345024, 164316011, 164316046, 164316014, 266157883, 135420817, 135420819, 384531666]\n",
      "rid = 3:\n",
      "[164316014, 266207478, 164316014, 384531665, 164316009, 266161866]\n",
      "rid = 4:\n",
      "[164316012, 164316031, 164316021, 164316057, 266157883, 164316030]\n",
      "rid = 5:\n",
      "[135419988, 135372842, 266221576]\n",
      "rid = 6:\n",
      "[263913994, 266207478, 266207479]\n",
      "rid = 7:\n",
      "[135419988, 135372842, 266221576, 164316030, 263913992]\n",
      "rid = 8:\n",
      "[164316014, 263913992]\n",
      "rid = 9:\n",
      "[263913994, 164316030, 266221576, 135372842, 384531666]\n",
      "rid = 10:\n",
      "[164316066, 135419988, 135382788, 135427149, 164316014]\n",
      "rid = 11:\n",
      "[164316057, 266157883]\n",
      "rid = 12:\n",
      "[266157883, 164316014, 384531665, 164316009, 266161866, 164316070, 164316010, 164316077, 164316016, 164316012, 164316031, 164316021, 164316057]\n",
      "rid = 13:\n",
      "[164316066, 164316021, 164316012, 164316037, 164316010, 164316056, 266345024, 164316011, 164316046, 164316014, 266157883, 135420818, 135420817, 164316057]\n",
      "rid = 14:\n",
      "[266157883, 164316014, 164316020, 164316046, 266345024, 164316056, 164316070, 164316061, 164316070, 164316010, 164316068, 266161866, 164316070, 164316010, 164316077, 164316016, 164316012, 164316031, 164316021, 164316057, 266157883, 164316014]\n",
      "rid = 15:\n",
      "[164316066, 164316057, 266157883, 164316014, 384531665, 164316009, 266161866, 164316070, 164316010, 164316077, 164316016, 164316012, 164316031, 164316021, 164316057]\n",
      "rid = 16:\n",
      "[108718520, 168458392, 108718520, 263930563, 108718520, 263930564, 263922901, 263922900, 263922899, 164316030, 263922900, 164316030, 164316039]\n",
      "rid = 17:\n",
      "[164316066, 164316021, 164316012, 164316037, 164316010, 164316056, 266345024, 164316011, 164316046, 164316014, 266157883, 135420818, 135420817, 164316057]\n",
      "rid = 18:\n",
      "[164316057, 135419988, 135372842, 266221576, 164316030]\n",
      "rid = 19:\n",
      "[164316030, 266233213]\n",
      "rid = 20:\n",
      "[164316014, 164316020, 135385548, 135404398, 135404401, 263913984, 263913987]\n"
     ]
    }
   ],
   "source": [
    "for i in range(len(dbs)):\n",
    "    rids = []\n",
    "    # (a, b, rid)\n",
    "    path = []\n",
    "    with open('./jiading/trajs/traj_%d.txt.HMM.G5.csv' % i) as fout:\n",
    "        cnt = 0\n",
    "        for line in fout:\n",
    "            data = line.strip().split(',')\n",
    "            if len(data)==1:\n",
    "                continue\n",
    "            rid = int(data[3])\n",
    "            rids.append(rid)\n",
    "            cnt += 1\n",
    "    last_rid = 0\n",
    "    last_idx = 0\n",
    "    for idx in range(len(rids)):\n",
    "        rid = rids[idx]\n",
    "        if rid != last_rid and last_rid != 0:\n",
    "            path.append((last_idx, idx - 1, last_rid))\n",
    "            last_idx = idx\n",
    "        last_rid = rid\n",
    "    path.append((last_idx, len(rids) - 1, rid))\n",
    "    ids = []\n",
    "    for a, b, rid in path:\n",
    "    #     print '[%d, %d]-rid %d' % (a, b, rid)\n",
    "        ids.append(rid)\n",
    "    print 'rid = %d:' % i\n",
    "    print ids"
   ]
  },
  {
   "cell_type": "markdown",
   "metadata": {},
   "source": [
    "<h2>Missed Cell Tower</h2>"
   ]
  },
  {
   "cell_type": "code",
   "execution_count": null,
   "metadata": {
    "collapsed": true
   },
   "outputs": [],
   "source": [
    "scells = set()\n",
    "\n",
    "for i in range(len(df)):\n",
    "    rid_1, cid_1, rid_2, cid_2, lat, lng, trid = int(df.iloc[i]['RNCID_1']), int(df.iloc[i]['CellID_1']), \\\n",
    "    int(df.iloc[i]['RNCID_2']), int(df.iloc[i]['CellID_2']), \\\n",
    "    df.iloc[i]['Latitude'], df.iloc[i]['Longitude'], int(df.iloc[i]['traj_id'])\n",
    "    scells.add((rid_1, cid_1))\n",
    "    scells.add((rid_2, cid_2))\n",
    "# dc = pd.DataFrame(list(scells), columns=[\"RNCID\", \"CellID\"])\n",
    "# print dc\n",
    "# dc.to_csv('./jiading/gongcan_lost.csv', index=False)\n",
    "print 'origin: ', len(cells)\n",
    "print 'now need: ', len(scells)"
   ]
  },
  {
   "cell_type": "code",
   "execution_count": null,
   "metadata": {
    "collapsed": true
   },
   "outputs": [],
   "source": [
    "gongcan_new = []\n",
    "fcells = dict()\n",
    "missed = []\n",
    "for i in range(len(f_gongcan)):\n",
    "    try:\n",
    "        lat, lng, rncid, cellid, azimuth, downtilt = f_gongcan.iloc[i]['纬度'], f_gongcan.iloc[i]['经度'], \\\n",
    "        (f_gongcan.iloc[i]['LAC']), (f_gongcan.iloc[i]['CI']), \\\n",
    "        (f_gongcan.iloc[i]['方位角']), (f_gongcan.iloc[i]['天线下倾角'])\n",
    "    except:\n",
    "        print i\n",
    "    fcells[(rncid, cellid)] = (lat, lng, azimuth, downtilt)\n",
    "print 'final gongcan has: ', len(fcells)\n",
    "total = 0\n",
    "for rncid, cellid in scells:\n",
    "    try:\n",
    "        lat, lng, azimuth, downtilt = fcells[(rncid, cellid)]\n",
    "        gongcan_new.append((rncid, cellid, lat, lng, azimuth, downtilt))\n",
    "    except:\n",
    "        total += 1\n",
    "        missed.append((rncid, cellid))\n",
    "#         print rncid, cellid\n",
    "print 'missed: ', total\n",
    "print 'contains now: ', len(gongcan_new)\n"
   ]
  },
  {
   "cell_type": "code",
   "execution_count": null,
   "metadata": {
    "collapsed": true
   },
   "outputs": [],
   "source": [
    "_, o_towers, _, _ = load.load_2g_gongcan(gongcan_2g)\n",
    "df = pd.read_csv(file_2g)\n",
    "missed = set()\n",
    "for i in range(len(df)):\n",
    "        piece_data = df.iloc[i]\n",
    "        rid_1, cid_1, rssi_1, rid_2, cid_2, rssi_2, lat, lng, speed, tr_id, timestp = \\\n",
    "        int(piece_data['RNCID_1']), int(piece_data['CellID_1']), int(piece_data['Dbm_1']), \\\n",
    "        int(piece_data['RNCID_2']), int(piece_data['CellID_2']), int(piece_data['Dbm_2']), \\\n",
    "        float(piece_data['Latitude']), float(piece_data['Longitude']), float(piece_data['Speed']), \\\n",
    "        int(piece_data['TrajID']), int(piece_data['MRTime']) / 1000\n",
    "        if (rid_1, cid_1) not in o_towers.keys():\n",
    "            missed.add((rid_1, cid_1))\n",
    "        if (rid_1, cid_1) not in o_towers.keys():\n",
    "            missed.add((rid_2, cid_2))\n",
    "print len(missed)"
   ]
  },
  {
   "cell_type": "code",
   "execution_count": null,
   "metadata": {
    "collapsed": true
   },
   "outputs": [],
   "source": [
    "ctcrawler = reload(ctcrawler)\n",
    "crawler = ctcrawler.CellTower()\n",
    "updated = crawler.get_tower(missed)"
   ]
  },
  {
   "cell_type": "code",
   "execution_count": null,
   "metadata": {
    "collapsed": true
   },
   "outputs": [],
   "source": [
    "# print updated\n",
    "gongcan_new.extend(updated)\n",
    "dc = pd.DataFrame(gongcan_new, columns=[\"RNCID\", \"CellID\", \"Latitude\", \"Longitude\", \"Azimuth\", \"Downtilt\"])\n",
    "dc.to_csv('./jiading/2g_gongcan.csv', index=False)"
   ]
  },
  {
   "cell_type": "markdown",
   "metadata": {},
   "source": [
    "<h2>1.Particle Filtering</h2>"
   ]
  },
  {
   "cell_type": "code",
   "execution_count": null,
   "metadata": {
    "collapsed": true
   },
   "outputs": [],
   "source": [
    "hmm = reload(hmm)\n",
    "predict_p = dict()\n",
    "cnt = 0\n",
    "for tr_id, traj in test.iteritems():\n",
    "    obsv = traj[0][2:]\n",
    "    N = len(D) * 4\n",
    "    particles, init_rids = hmm.Particle.create_by_prior_dist(obsv, D, B_, N)\n",
    "    try:\n",
    "        result = hmm.particle_filter(traj, A, B_, particles, 100)\n",
    "    except:\n",
    "        print 'traj id:', tr_id, ' failed...'\n",
    "        continue\n",
    "    predict_p[tr_id] = result\n",
    "    cnt += 1\n",
    "    print 'traj id:', tr_id, ' success'\n",
    "print 'success:', cnt"
   ]
  }
 ],
 "metadata": {
  "kernelspec": {
   "display_name": "Python 2",
   "language": "python",
   "name": "python2"
  },
  "language_info": {
   "codemirror_mode": {
    "name": "ipython",
    "version": 2
   },
   "file_extension": ".py",
   "mimetype": "text/x-python",
   "name": "python",
   "nbconvert_exporter": "python",
   "pygments_lexer": "ipython2",
   "version": "2.7.13"
  }
 },
 "nbformat": 4,
 "nbformat_minor": 2
}
