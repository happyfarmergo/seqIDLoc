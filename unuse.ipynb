{
 "cells": [
  {
   "cell_type": "markdown",
   "metadata": {
    "collapsed": true
   },
   "source": [
    "# (HiddenState:Path)[V1]"
   ]
  },
  {
   "cell_type": "code",
   "execution_count": null,
   "metadata": {
    "collapsed": true
   },
   "outputs": [],
   "source": [
    "hmm = reload(hmm)\n",
    "A = hmm.get_trans_mat(match_res, roadmap)\n",
    "B, D = hmm.get_obsv_mat(train, match_res)"
   ]
  },
  {
   "cell_type": "code",
   "execution_count": null,
   "metadata": {
    "collapsed": true
   },
   "outputs": [],
   "source": [
    "# clean test dataset\n",
    "new_test = dict()\n",
    "for tr_id in test.iterkeys():\n",
    "    traj = test[tr_id]\n",
    "    matched = match_res[tr_id]\n",
    "    new_points = []\n",
    "    for idx, point in enumerate(traj):\n",
    "        rid = matched[point[0]][3]\n",
    "        obsv = sag.get_obsv(point)\n",
    "        state = rid\n",
    "        if B.has_key(obsv) and B[obsv].has_key(state):\n",
    "            new_points.append(point)\n",
    "    new_test[tr_id] = new_points\n",
    "    if len(traj)!=len(new_points):\n",
    "        print 'TrajID=%d Before=%d End=%d' % (tr_id, len(traj), len(new_test[tr_id]))"
   ]
  },
  {
   "cell_type": "code",
   "execution_count": null,
   "metadata": {
    "collapsed": true
   },
   "outputs": [],
   "source": [
    "path_pred = dict()\n",
    "statistic = []\n",
    "for tr_id, traj in new_test.iteritems():\n",
    "#     if len(traj) > 100:\n",
    "#         continue\n",
    "    sl = set([x[3] for x in match_res[tr_id]])\n",
    "    try:\n",
    "        sl, max_prob = hmm.viterbi(A, B, traj)\n",
    "    except:\n",
    "        print 'ERR=', tr_id\n",
    "        continue\n",
    "#     prob = sag.backforward(A, B, new_test[tr_id], match_res[tr_id], k)\n",
    "    statistic.append((tr_id, max_prob))\n",
    "    path_pred[tr_id] = sl\n",
    "    print 'TrajID=', tr_id"
   ]
  },
  {
   "cell_type": "code",
   "execution_count": null,
   "metadata": {
    "collapsed": true
   },
   "outputs": [],
   "source": [
    "def evaluate_prep(road_network):\n",
    "    _, _, city_edgeGeometry = mmr.build_road_network(road_network)\n",
    "    for rid in city_edgeGeometry.iterkeys():\n",
    "        points = []\n",
    "        for lng, lat in list(city_edgeGeometry[rid][1].coords):\n",
    "            x, y, _, _ = utm.from_latlon(lat, lng)\n",
    "            points.append((x, y))\n",
    "        city_edgeGeometry[rid][0] = LineString(points)\n",
    "    return city_edgeGeometry\n",
    "\n",
    "edges = evaluate_prep('./data/Shanghai/SH_map/')\n",
    "path_eval = hmm.evaluate(new_test, path_pred, edges)"
   ]
  },
  {
   "cell_type": "code",
   "execution_count": null,
   "metadata": {
    "collapsed": true
   },
   "outputs": [],
   "source": [
    "np.median(path_eval.values())"
   ]
  },
  {
   "cell_type": "markdown",
   "metadata": {},
   "source": [
    "# (HiddenState: Cell)[V3]"
   ]
  },
  {
   "cell_type": "code",
   "execution_count": null,
   "metadata": {
    "collapsed": true
   },
   "outputs": [],
   "source": [
    "uni_hmm = reload(uni_hmm)\n",
    "bounding_box = (328780, 330420, 3462200, 3463510)\n",
    "side = 40\n",
    "sag = uni_hmm.Sag(side, bounding_box)\n",
    "A, Cells = sag.get_trans_mat(dbs)\n",
    "B, D = sag.get_obsv_mat(train)\n",
    "summary = []\n",
    "for cid in D.iterkeys():\n",
    "    to_time = sum(times for obsv, times in D[cid].iteritems())\n",
    "    to_obsv = len(D[cid])\n",
    "    summary.append((cid, to_obsv, to_time))\n",
    "#     print 'Cell[%d] has %d obsv, with %d times...' % (cid, to_obsv, to_time)\n",
    "df_freq = pd.DataFrame(summary, columns=['CellID', 'Obsv', 'Points'])\n",
    "df_freq.describe()"
   ]
  },
  {
   "cell_type": "code",
   "execution_count": null,
   "metadata": {
    "collapsed": true
   },
   "outputs": [],
   "source": [
    "uni_cells = sag.get_cells(Cells)"
   ]
  },
  {
   "cell_type": "code",
   "execution_count": null,
   "metadata": {
    "collapsed": true
   },
   "outputs": [],
   "source": [
    "plot = reload(plot)\n",
    "axis = (328780, 330420, 3462200, 3463510)\n",
    "fig_width = 20\n",
    "plt.figure(figsize=(fig_width, fig_width*(axis[3]-axis[2])/(axis[1]-axis[0])))\n",
    "ca = plt.gca()\n",
    "plot.draw_cells(uni_cells, ca, axis, debug=False)\n",
    "plt.axis(axis)\n",
    "plt.title('Uniform cell index with side=' + str(side))\n",
    "plt.savefig('./display/fig/uni_cell_side=%d.png' % side)\n",
    "plt.close('all')"
   ]
  },
  {
   "cell_type": "code",
   "execution_count": null,
   "metadata": {
    "collapsed": true
   },
   "outputs": [],
   "source": [
    "plot = reload(plot)\n",
    "plot.draw_obsv_barplot(D)"
   ]
  },
  {
   "cell_type": "code",
   "execution_count": null,
   "metadata": {
    "collapsed": true
   },
   "outputs": [],
   "source": [
    "uni_pred = dict()\n",
    "for tr_id, traj in test.iteritems():\n",
    "    if tr_id == 0:\n",
    "        continue\n",
    "    sl = sag.viterbi(A, B, traj)\n",
    "    sag.backforward(A, B, traj)\n",
    "    uni_pred[tr_id] = sl"
   ]
  },
  {
   "cell_type": "code",
   "execution_count": null,
   "metadata": {
    "collapsed": true
   },
   "outputs": [],
   "source": [
    "uni_prec, uni_prec_dict = sag.evaluate(test, uni_pred)"
   ]
  },
  {
   "cell_type": "code",
   "execution_count": null,
   "metadata": {
    "collapsed": true
   },
   "outputs": [],
   "source": [
    "tr_id = 1\n",
    "df_test = pd.DataFrame(sag.cid_test[tr_id], columns=['tx', 'ty'])\n",
    "df_pred = pd.DataFrame(sag.cid_pred[tr_id], columns=['px', 'py'])\n",
    "df_combined = pd.concat([df_test, df_pred], axis=1)\n",
    "df_combined[80:]"
   ]
  },
  {
   "cell_type": "code",
   "execution_count": null,
   "metadata": {
    "collapsed": true
   },
   "outputs": [],
   "source": [
    "plot = reload(plot)\n",
    "axis = (328780, 330420, 3462200, 3463510)\n",
    "fig_width = 20\n",
    "for tr_id in uni_pred.iterkeys():\n",
    "    if tr_id != 7:\n",
    "        continue\n",
    "    plt.figure(figsize=(fig_width, fig_width*(axis[3]-axis[2])/(axis[1]-axis[0])))\n",
    "    ca = plt.gca()\n",
    "    plot.draw_cells(uni_cells, ca, axis, debug=False)\n",
    "    plot.draw_traj_on_cells(sag.utm_test[tr_id], ca, axis, 'b')\n",
    "    plot.draw_traj_on_cells(sag.utm_pred[tr_id], ca, axis, 'g')\n",
    "    plt.axis(axis)\n",
    "    plt.title('Uniform cell index with side=' + str(side))\n",
    "    plt.show()"
   ]
  },
  {
   "cell_type": "code",
   "execution_count": null,
   "metadata": {
    "collapsed": true
   },
   "outputs": [],
   "source": [
    "def plot_median(precision, xlabel, ylabel, title):\n",
    "    count = len(precision)\n",
    "    X = sorted(precision)\n",
    "    Y = np.cumsum([1.0/count] * count)\n",
    "    plt.plot(X, Y)\n",
    "    plt.title(title)\n",
    "    plt.xlabel(xlabel)\n",
    "    plt.ylabel(ylabel)\n",
    "    plt.show()"
   ]
  },
  {
   "cell_type": "code",
   "execution_count": null,
   "metadata": {
    "collapsed": true
   },
   "outputs": [],
   "source": [
    "np.median(uni_prec)"
   ]
  },
  {
   "cell_type": "code",
   "execution_count": null,
   "metadata": {
    "collapsed": true
   },
   "outputs": [],
   "source": [
    "plot_median(uni_prec, 'deviation', 'CDF', 'Uniform Cell Localization(ID1)')"
   ]
  },
  {
   "cell_type": "code",
   "execution_count": null,
   "metadata": {
    "collapsed": true
   },
   "outputs": [],
   "source": [
    "# clean test dataset\n",
    "new_test = dict()\n",
    "for tr_id in test.iterkeys():\n",
    "    traj = test[tr_id]\n",
    "    matched = match_res[tr_id]\n",
    "    new_points = []\n",
    "    for idx, point in enumerate(traj):\n",
    "        piece_match = matched[point[0]]\n",
    "        lat, lng = piece_match[4], piece_match[5]\n",
    "        x, y, _, _ = utm.from_latlon(lat, lng)\n",
    "        cid = sag.utm2cell(x, y)\n",
    "        obsv = sag.get_obsv(point)\n",
    "        state = cid\n",
    "        if B[obsv].has_key(state):\n",
    "            new_points.append(point)\n",
    "    new_test[tr_id] = new_points\n",
    "    if len(traj)!=len(new_points):\n",
    "        print 'TrajID=%d Before=%d End=%d' % (tr_id, len(traj), len(new_test[tr_id]))"
   ]
  },
  {
   "cell_type": "code",
   "execution_count": null,
   "metadata": {
    "collapsed": true
   },
   "outputs": [],
   "source": [
    "for tr_id in new_test.iterkeys():\n",
    "    traj = new_test[tr_id]\n",
    "    matched = match_res[tr_id]\n",
    "    new_points = []\n",
    "    for idx, point in enumerate(traj):\n",
    "        piece_match = matched[point[0]]\n",
    "        lat, lng = piece_match[4], piece_match[5]\n",
    "        x, y, _, _ = utm.from_latlon(lat, lng)\n",
    "        cid = sag.utm2cell(x, y)\n",
    "        obsv = sag.get_obsv(point)\n",
    "        state = cid\n",
    "        if not B[obsv].has_key(state):\n",
    "            print tr_id, obsv, state"
   ]
  },
  {
   "cell_type": "code",
   "execution_count": null,
   "metadata": {
    "collapsed": true
   },
   "outputs": [],
   "source": [
    "points = []\n",
    "for tr_id, traj in gps3.iteritems():\n",
    "    for point in traj:\n",
    "        points.append((point[0], point[1]))\n",
    "display_osm.df_to_html(pd.DataFrame(points, columns=['Latitude', 'Longitude']), './display/gps3.html')\n",
    "points = []\n",
    "for tr_id, traj in train.iteritems():\n",
    "    for point in traj:\n",
    "        points.append((point[1][0], point[1][1]))\n",
    "display_osm.df_to_html(pd.DataFrame(points, columns=['Latitude', 'Longitude']), './display/train.html')\n",
    "points = []\n",
    "for tr_id, traj in test.iteritems():\n",
    "    for point in traj:\n",
    "        points.append((point[1][0], point[1][1]))\n",
    "display_osm.df_to_html(pd.DataFrame(points, columns=['Latitude', 'Longitude']), './display/test.html')"
   ]
  },
  {
   "cell_type": "code",
   "execution_count": null,
   "metadata": {
    "collapsed": true
   },
   "outputs": [],
   "source": [
    "for tr_id, traj in train.iteritems():\n",
    "    points = []\n",
    "    for point in traj:\n",
    "        points.append((point[1][0], point[1][1]))\n",
    "    display_osm.df_to_html(pd.DataFrame(points, columns=['Latitude', 'Longitude']), './display/train/%d.html' % tr_id)\n",
    "for tr_id, traj in test.iteritems():\n",
    "    points = []\n",
    "    for point in traj:\n",
    "        points.append((point[1][0], point[1][1]))\n",
    "    display_osm.df_to_html(pd.DataFrame(points, columns=['Latitude', 'Longitude']), './display/test/%d.html' % tr_id)"
   ]
  },
  {
   "cell_type": "code",
   "execution_count": null,
   "metadata": {
    "collapsed": true
   },
   "outputs": [],
   "source": [
    "tr_id = 19\n",
    "traj = new_test[tr_id]\n",
    "speeds = [point[1][-2] for point in traj]\n",
    "k = math.floor(np.std(speeds))\n",
    "print 'k=' + str(k)\n",
    "sag.backforward(A, B, traj, match_res[tr_id], k, debug=True)\n",
    "f, p = [], defaultdict(dict)\n",
    "h = dict()\n",
    "self = sag\n",
    "obsv = self.get_obsv(traj[0])\n",
    "for rid, prob in B[obsv].iteritems():\n",
    "    h[rid] = prob\n",
    "f.append(h)\n",
    "for idx in range(1, len(traj)):\n",
    "    obsv = self.get_obsv(traj[idx])\n",
    "    speed, timestp = traj[idx][1][-2:]\n",
    "    h = dict()\n",
    "    _obsv = self.get_obsv(traj[idx-1])\n",
    "    _speed, _timestp = traj[idx-1][1][-2:]\n",
    "    max_dist = max(_speed, speed) * (timestp - _timestp) + 1.0 * self.side\n",
    "    min_dist = min(_speed, speed) * (timestp - _timestp) - 1.0 * self.side\n",
    "    for rid, prob in B[obsv].iteritems():\n",
    "        max_p = 0\n",
    "        x1, y1 = self.cell2index(rid)\n",
    "        for _rid in B[_obsv].iterkeys():\n",
    "            if not f[idx-1].has_key(_rid):\n",
    "                continue\n",
    "            x2, y2 = self.cell2index(_rid)\n",
    "            avg_act_dist = (math.sqrt((x2-x1)**2 + (y2-y1)**2)) * self.side\n",
    "            t1 = t2 = t3 = 0\n",
    "            t1 = f[idx-1][_rid]\n",
    "            t3 = B[obsv][rid]\n",
    "            if not (min_dist - self.side * k <= avg_act_dist <= max_dist + self.side * k):\n",
    "                continue\n",
    "            t2 = self.transfer(_rid, rid)\n",
    "            if avg_act_dist < min_dist:\n",
    "                t2 *= math.e ** (-(avg_act_dist - min_dist)**2/(min_dist**2)/2)\n",
    "            if avg_act_dist > max_dist:\n",
    "                t2 *= math.e ** (-(avg_act_dist - max_dist)**2/(max_dist**2)/2)\n",
    "            alt_p = t1 + t2 * t3\n",
    "            if alt_p > max_p:\n",
    "                max_p = alt_p\n",
    "                p[idx][rid] = _rid\n",
    "            h[rid] = max_p\n",
    "    f.append(h)\n",
    "    print idx\n",
    "sl = []\n",
    "max_prob = max(f[-1].itervalues())\n",
    "last_s = max(f[-1].iterkeys(), key=lambda k: f[-1][k])\n",
    "for idx in range(len(traj)-1, 0, -1):\n",
    "    sl.append(last_s)\n",
    "    last_s = p[idx][last_s]\n",
    "sl.append(last_s)\n",
    "sl.reverse()"
   ]
  },
  {
   "cell_type": "code",
   "execution_count": null,
   "metadata": {
    "collapsed": true
   },
   "outputs": [],
   "source": [
    "_x, _y = new_test[tr_id][0][1][:2]\n",
    "for idx, point in enumerate(new_test[tr_id]):\n",
    "    print idx, point[1]\n",
    "    x, y = point[1][:2]\n",
    "    if idx >= 1:\n",
    "        print math.sqrt((x - _x)**2+(y - _y)**2)\n",
    "    _x, _y = x, y"
   ]
  },
  {
   "cell_type": "markdown",
   "metadata": {},
   "source": [
    "# (HiddenState:K-D Cell)[V2]"
   ]
  },
  {
   "cell_type": "code",
   "execution_count": null,
   "metadata": {
    "collapsed": true
   },
   "outputs": [],
   "source": [
    "for i, point in enumerate(obsv):\n",
    "    lat, lng, _, _ = point\n",
    "    x, y, _, _ = utm.from_latlon(lat, lng)\n",
    "    obsv[i] = (x, y)\n",
    "df_obsv = pd.DataFrame(obsv, columns=['x', 'y'])\n",
    "min(df_obsv['x']), max(df_obsv['x']), min(df_obsv['y']), max(df_obsv['y'])"
   ]
  },
  {
   "cell_type": "code",
   "execution_count": null,
   "metadata": {
    "collapsed": true
   },
   "outputs": [],
   "source": [
    "r_idx, sp_dict, cnt = kd_hmm.kd_split(obsv, axis=0, out_box=[[328780, 330420], [3462200, 3463510]])\n",
    "print 'dividing', cnt, ' times'"
   ]
  },
  {
   "cell_type": "code",
   "execution_count": null,
   "metadata": {
    "collapsed": true
   },
   "outputs": [],
   "source": [
    "plot = reload(plot)\n",
    "axis = (328780, 330420, 3462200, 3463510)\n",
    "fig_width = 20\n",
    "plt.figure(figsize=(fig_width, fig_width*(axis[3]-axis[2])/(axis[1]-axis[0])))\n",
    "ca = plt.gca()\n",
    "plot.draw_kd_tree(sp_dict, ca, axis, debug=False)\n",
    "plt.axis(axis)\n",
    "plt.title('K-D tree spatial index')\n",
    "# plt.show()\n",
    "plt.savefig('./display/fig/kdtree_side=80.png')\n",
    "plt.close('all')"
   ]
  },
  {
   "cell_type": "markdown",
   "metadata": {},
   "source": [
    "## random forest"
   ]
  },
  {
   "cell_type": "code",
   "execution_count": null,
   "metadata": {
    "collapsed": true
   },
   "outputs": [],
   "source": [
    "from sklearn.ensemble import RandomForestClassifier\n",
    "def re_organize(db):\n",
    "    X, y = [], []\n",
    "    for tr_id, traj in db.iteritems():\n",
    "        piece_match = match_res[tr_id]\n",
    "        for old_idx, point in traj:\n",
    "            obsv = point[2:-2]\n",
    "            rid = piece_match[old_idx][3]\n",
    "            X.append(obsv)\n",
    "            y.append(rid)\n",
    "    return X, y\n",
    "X_train, Y_train = re_organize(train)\n",
    "X_test, Y_test = re_organize(new_test)\n",
    "\n",
    "clf = RandomForestClassifier(n_estimators=200)\n",
    "clf.fit(X_train, Y_train)\n",
    "clf.feature_importances_\n",
    "\n",
    "Y_predict = clf.predict_proba(X_test)\n",
    "\n",
    "cnt = 0\n",
    "for i, piece in enumerate(Y_predict):\n",
    "    k = min(5, len(set(piece)) - 1)\n",
    "#     k = 1\n",
    "    idxes = sorted(range(len(piece)), key=lambda x: piece[x])[-k:]\n",
    "    rids = [clf.classes_[idx] for idx in idxes]\n",
    "    if not Y_test[i] in rids:\n",
    "        cnt += 1\n",
    "cnt, len(Y_test)"
   ]
  }
 ],
 "metadata": {
  "kernelspec": {
   "display_name": "Python 2",
   "language": "python",
   "name": "python2"
  },
  "language_info": {
   "codemirror_mode": {
    "name": "ipython",
    "version": 2
   },
   "file_extension": ".py",
   "mimetype": "text/x-python",
   "name": "python",
   "nbconvert_exporter": "python",
   "pygments_lexer": "ipython2",
   "version": "2.7.13"
  }
 },
 "nbformat": 4,
 "nbformat_minor": 2
}
