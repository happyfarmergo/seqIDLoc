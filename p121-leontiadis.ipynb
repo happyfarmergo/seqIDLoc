{
 "cells": [
  {
   "cell_type": "code",
   "execution_count": 19,
   "metadata": {
    "collapsed": true
   },
   "outputs": [],
   "source": [
    "import numpy as np\n",
    "import pandas as pd\n",
    "import utm\n",
    "import math\n",
    "import pickle\n",
    "import os\n",
    "import sys\n",
    "sys.path.append('./src')\n",
    "import time\n",
    "import datetime\n",
    "from collections import defaultdict\n",
    "import matplotlib\n",
    "import matplotlib.pyplot as plt\n",
    "from shapely.geometry import Point, LineString\n",
    "import copy\n",
    "import plot\n",
    "import split, uni_hmm, pygrid, tools\n",
    "from data_cleaning import noise, load, counter"
   ]
  },
  {
   "cell_type": "code",
   "execution_count": 390,
   "metadata": {
    "collapsed": false
   },
   "outputs": [],
   "source": [
    "load = reload(load)\n",
    "dataset = 'siping'\n",
    "datatype = '2g'\n",
    "data_file = './data/%s_%s/data_%s.csv' % (dataset, datatype, datatype)\n",
    "gongcan_file = './data/%s_%s/gongcan_%s.csv' % (dataset, datatype, datatype)\n",
    "disp_path = './display/%s_%s/' % (dataset, datatype)\n",
    "data_path = './data/%s_%s/' % (dataset, datatype)\n",
    "map_file = './data/%s_map/%s_EdgeGeometry.txt' % (dataset, dataset)\n",
    "edge_file = './data/%s_map/%s_Edges.txt' % (dataset, dataset)"
   ]
  },
  {
   "cell_type": "code",
   "execution_count": 391,
   "metadata": {
    "collapsed": false
   },
   "outputs": [
    {
     "name": "stdout",
     "output_type": "stream",
     "text": [
      "Totally duplicate: 0\n",
      "len(db): 18 len(towers): 62\n"
     ]
    }
   ],
   "source": [
    "db, db_gps, towers = load.load_data(data_file, gongcan_file, neighbor=False, with_rssi=0.0, context=False)\n",
    "print 'len(db):', len(db), 'len(towers):', len(towers)"
   ]
  },
  {
   "cell_type": "code",
   "execution_count": 392,
   "metadata": {
    "collapsed": false
   },
   "outputs": [
    {
     "data": {
      "text/plain": [
       "[(31.28370673, 121.4957761, 1, 0.0, 1521869348L),\n",
       " (31.28535886, 121.49162189, 1, 0.9070832, 1521869350L),\n",
       " (31.28535886, 121.49162189, 1, 0.9070832, 1521869352L),\n",
       " (31.28534315, 121.49175662, 1, 0.72443086, 1521869355L),\n",
       " (31.28534315, 121.49175662, 1, 0.72443086, 1521869357L)]"
      ]
     },
     "execution_count": 392,
     "metadata": {},
     "output_type": "execute_result"
    }
   ],
   "source": [
    "db_gps[0][:5]"
   ]
  },
  {
   "cell_type": "markdown",
   "metadata": {},
   "source": [
    "# Noise"
   ]
  },
  {
   "cell_type": "code",
   "execution_count": 393,
   "metadata": {
    "collapsed": false,
    "scrolled": true
   },
   "outputs": [
    {
     "name": "stdout",
     "output_type": "stream",
     "text": [
      "Traj ID=0\n",
      "0->1:435m\t\n",
      "discard[0:0]=0m\tkeep[1:294]as id=0\t\n",
      "Traj ID=1\n",
      "0->1:483m\t\n",
      "discard[0:0]=0m\tkeep[1:55]as id=1\t\n",
      "Traj ID=2\n",
      "\n",
      "keep[0:34]as id=2\t\n",
      "Traj ID=3\n",
      "\n",
      "discard[0:24]=84m\t\n",
      "Traj ID=4\n",
      "\n",
      "keep[0:37]as id=3\t\n",
      "Traj ID=5\n",
      "\n",
      "keep[0:21]as id=4\t\n",
      "Traj ID=6\n",
      "\n",
      "discard[0:78]=33m\t\n",
      "Traj ID=7\n",
      "0->1:236m\t457->458:503m\t\n",
      "discard[0:0]=0m\tdiscard[1:457]=31m\tdiscard[458:458]=0m\t\n",
      "Traj ID=8\n",
      "99->100:256m\t\n",
      "keep[0:100]as id=5\tdiscard[100:100]=0m\t\n",
      "Traj ID=9\n",
      "\n",
      "keep[0:39]as id=6\t\n",
      "Traj ID=10\n",
      "\n",
      "keep[0:26]as id=7\t\n",
      "Traj ID=11\n",
      "\n",
      "keep[0:21]as id=8\t\n",
      "Traj ID=12\n",
      "\n",
      "keep[0:99]as id=9\t\n",
      "Traj ID=13\n",
      "\n",
      "keep[0:30]as id=10\t\n",
      "Traj ID=14\n",
      "211->212:285m\t\n",
      "keep[0:212]as id=11\tkeep[212:243]as id=12\t\n",
      "Traj ID=15\n",
      "294->295:1071m\t\n",
      "discard[0:294]=42m\tkeep[295:336]as id=13\t\n",
      "Traj ID=16\n",
      "\n",
      "keep[0:493]as id=14\t\n",
      "Traj ID=17\n",
      "1025->1026:1430m\t1133->1134:200m\t\n",
      "keep[0:1026]as id=15\tkeep[1026:1134]as id=16\tkeep[1134:1193]as id=17\t\n"
     ]
    },
    {
     "data": {
      "text/plain": [
       "(18, 18)"
      ]
     },
     "execution_count": 393,
     "metadata": {},
     "output_type": "execute_result"
    }
   ],
   "source": [
    "noise = reload(noise)\n",
    "max_dist, min_dist, min_len, max_again = noise.get_config(dataset, datatype)\n",
    "max_again = 1000\n",
    "dbs = noise.clean_db(db, max_dist, min_dist, min_len, max_again, debug=True)\n",
    "dbs_gps = noise.clean_db_gps(db_gps, max_dist, min_dist, min_len, max_again, debug=False)\n",
    "len(dbs), len(dbs_gps)"
   ]
  },
  {
   "cell_type": "code",
   "execution_count": 394,
   "metadata": {
    "collapsed": false
   },
   "outputs": [
    {
     "data": {
      "text/plain": [
       "2724"
      ]
     },
     "execution_count": 394,
     "metadata": {},
     "output_type": "execute_result"
    }
   ],
   "source": [
    "sum(len(traj) for tr_id, traj in dbs_gps.iteritems())"
   ]
  },
  {
   "cell_type": "code",
   "execution_count": 395,
   "metadata": {
    "collapsed": true
   },
   "outputs": [],
   "source": [
    "load = reload(load)\n",
    "load.for_map_matching(dbs_gps, data_path + 'trajs_cell')"
   ]
  },
  {
   "cell_type": "markdown",
   "metadata": {},
   "source": [
    "# Ground Truth"
   ]
  },
  {
   "cell_type": "code",
   "execution_count": 396,
   "metadata": {
    "collapsed": false
   },
   "outputs": [
    {
     "name": "stdout",
     "output_type": "stream",
     "text": [
      "traj id= 0 293 274\n"
     ]
    }
   ],
   "source": [
    "load = reload(load)\n",
    "match_res, time_set = load.load_matching(data_path + 'matching_out_cell', len(dbs), 50)\n",
    "dbs = noise.reclean(dbs, time_set, debug=True)\n",
    "dbs_gps = noise.reclean(dbs_gps, time_set)"
   ]
  },
  {
   "cell_type": "code",
   "execution_count": 397,
   "metadata": {
    "collapsed": false
   },
   "outputs": [],
   "source": [
    "for tr_id in dbs.iterkeys():\n",
    "    traj = dbs[tr_id]\n",
    "    matched = match_res[tr_id]\n",
    "    assert len(traj) == len(matched)\n",
    "    for i in range(len(traj)):\n",
    "        if traj[i][-1]!=matched[i][0]:\n",
    "            print 'TrajID=',tr_id, ' idx=', i, 'timestamp error!'"
   ]
  },
  {
   "cell_type": "markdown",
   "metadata": {},
   "source": [
    "# Grid Make"
   ]
  },
  {
   "cell_type": "code",
   "execution_count": 398,
   "metadata": {
    "collapsed": false
   },
   "outputs": [
    {
     "name": "stdout",
     "output_type": "stream",
     "text": [
      "siping\n"
     ]
    }
   ],
   "source": [
    "if dataset == 'jiading':\n",
    "    bounding_box = (328500, 330600, 3462100, 3463600)\n",
    "elif dataset == 'siping':\n",
    "    bounding_box = (356000, 359000, 3461500, 3463000)\n",
    "side = 20\n",
    "grid = pygrid.Grid(side, bounding_box)\n",
    "print dataset"
   ]
  },
  {
   "cell_type": "code",
   "execution_count": 399,
   "metadata": {
    "collapsed": false
   },
   "outputs": [],
   "source": [
    "load = reload(load)\n",
    "roadmap = load.load_map(map_file)\n",
    "pricemap = load.load_price(edge_file)"
   ]
  },
  {
   "cell_type": "code",
   "execution_count": 414,
   "metadata": {
    "collapsed": false
   },
   "outputs": [
    {
     "name": "stdout",
     "output_type": "stream",
     "text": [
      "isolated rids: [433248153, 435089006, 193137377, 39687432, 433248150, 433248151, 433248154, 433248155, 415816177]\n"
     ]
    }
   ],
   "source": [
    "tools = reload(tools)\n",
    "slice_map = tools.cut_map_as_cells(grid, roadmap)\n",
    "graph, weights = tools.make_road_graph(grid, slice_map, pricemap, version=0)"
   ]
  },
  {
   "cell_type": "markdown",
   "metadata": {},
   "source": [
    "# Split Data"
   ]
  },
  {
   "cell_type": "code",
   "execution_count": 415,
   "metadata": {
    "collapsed": true
   },
   "outputs": [],
   "source": [
    "split = reload(split)\n",
    "# train:(origin idx, origin feature)\n",
    "# train, test = hmm.k_split(dbs, k=4)\n",
    "train, test, gps3 = split.k_g_split(dbs, k=4, gpsize=0.0)\n",
    "# train, test = hmm.hand_split(dbs, k=2)\n",
    "# len(gps3)"
   ]
  },
  {
   "cell_type": "code",
   "execution_count": 416,
   "metadata": {
    "collapsed": false
   },
   "outputs": [
    {
     "data": {
      "text/plain": [
       "set()"
      ]
     },
     "execution_count": 416,
     "metadata": {},
     "output_type": "execute_result"
    }
   ],
   "source": [
    "train_set = set()\n",
    "for tr_id, traj in train.iteritems():\n",
    "    for point in traj:\n",
    "        train_set.add(point[1][2:-2])\n",
    "test_set = set()\n",
    "for tr_id, traj in test.iteritems():\n",
    "    for point in traj:\n",
    "        test_set.add(point[1][2:-2])\n",
    "test_set-train_set"
   ]
  },
  {
   "cell_type": "code",
   "execution_count": 417,
   "metadata": {
    "collapsed": false,
    "scrolled": true
   },
   "outputs": [
    {
     "name": "stdout",
     "output_type": "stream",
     "text": [
      "[0, 2, 3, 4, 5, 6, 8, 9, 11, 12, 14, 15, 16, 18, 19, 20, 21, 22, 25, 26, 27, 28, 30, 31, 32, 33, 35, 36, 37, 38, 41, 42, 43, 44, 45, 46, 48, 50, 51, 52, 53, 54, 56, 57, 59, 61, 62, 63, 65, 66, 67, 68, 69, 70, 72, 74, 75, 76, 77, 78, 80, 81, 82, 84, 85, 87, 88, 89, 90, 92, 93, 94, 96, 98, 99, 100, 101, 103, 104, 105, 107, 108, 109, 111, 112, 114, 115, 116, 117, 119, 120, 121, 122, 124, 125, 127, 128, 129, 131, 132, 134, 135, 136, 138, 139, 140, 141, 143, 144, 145, 146, 148, 149, 151, 152, 154, 155, 156, 157, 159, 160, 161, 162, 164, 165, 166, 168, 169, 170, 172, 173, 174, 176, 178, 179, 180, 181, 182, 184, 186, 187, 188, 189, 190, 193, 194, 195, 196, 198, 199, 200, 201, 203, 204, 205, 206, 208, 209, 210, 212, 213, 214, 216, 218, 219, 220, 221, 222, 224, 226, 227, 229, 230, 231, 233, 234, 235, 237, 238, 239, 240, 241, 242, 245, 246, 247, 248, 249, 250, 252, 253, 254, 256, 257, 258, 260, 262, 263, 264, 265, 267, 268, 270, 271, 272]\n",
      "[1, 7, 10, 13, 17, 23, 24, 29, 34, 39, 40, 47, 49, 55, 58, 60, 64, 71, 73, 79, 83, 86, 91, 95, 97, 102, 106, 110, 113, 118, 123, 126, 130, 133, 137, 142, 147, 150, 153, 158, 163, 167, 171, 175, 177, 183, 185, 191, 192, 197, 202, 207, 211, 215, 217, 223, 225, 228, 232, 236, 243, 244, 251, 255, 259, 261, 266, 269, 273]\n"
     ]
    }
   ],
   "source": [
    "tr_id = 0\n",
    "print [x[0] for x in train[tr_id]]\n",
    "print [x[0] for x in test[tr_id]]"
   ]
  },
  {
   "cell_type": "markdown",
   "metadata": {},
   "source": [
    "# Empirical Distribution of BS\n",
    "### 计算基站在每个栅格的概率\n",
    "### 理论上为W_p(d_x,\\Phi_x)\n",
    "### 由一个大数据集而来，数据集确定后，经验分布也就确定了"
   ]
  },
  {
   "cell_type": "code",
   "execution_count": 418,
   "metadata": {
    "collapsed": true
   },
   "outputs": [],
   "source": [
    "def empirical_dist(dbs, match_res, grid):\n",
    "    bs_dist = dict()\n",
    "    for tr_id, traj in dbs.iteritems():\n",
    "        matched = match_res[tr_id]\n",
    "        for idx, point in enumerate(traj):\n",
    "            bsid = point[2]\n",
    "            piece_match = matched[idx]\n",
    "            rid, lat, lng = piece_match[3:6]\n",
    "            x, y, _, _ = utm.from_latlon(lat, lng)\n",
    "            cid = grid.utm2cell(x, y)\n",
    "            \n",
    "            if not bs_dist.has_key(bsid):\n",
    "                bs_dist[bsid] = dict()\n",
    "            if not bs_dist[bsid].has_key(cid):\n",
    "                bs_dist[bsid][cid] = 0\n",
    "            bs_dist[bsid][cid] += 1\n",
    "    bs_prob = dict()\n",
    "    for bsid in bs_dist.iterkeys():\n",
    "        total = sum(bs_dist[bsid].itervalues())\n",
    "        for cid in bs_dist[bsid].iterkeys():\n",
    "            if cid not in bs_prob.keys():\n",
    "                bs_prob[cid] = dict()\n",
    "            bs_prob[cid][bsid] = bs_dist[bsid][cid] * 1.0 / total\n",
    "    return bs_dist, bs_prob"
   ]
  },
  {
   "cell_type": "code",
   "execution_count": 419,
   "metadata": {
    "collapsed": true
   },
   "outputs": [],
   "source": [
    "bs_dist, bs_prob = empirical_dist(dbs, match_res, grid)"
   ]
  },
  {
   "cell_type": "code",
   "execution_count": 420,
   "metadata": {
    "collapsed": true
   },
   "outputs": [],
   "source": [
    "bs_grids = dict()\n",
    "for bsid in bs_dist.iterkeys():\n",
    "    bs_grids[bsid] = set(bs_dist[bsid].keys())"
   ]
  },
  {
   "cell_type": "markdown",
   "metadata": {},
   "source": [
    "# Predict"
   ]
  },
  {
   "cell_type": "code",
   "execution_count": 421,
   "metadata": {
    "collapsed": false
   },
   "outputs": [],
   "source": [
    "def get_bsid(point):\n",
    "    return point[1][2]\n",
    "\n",
    "def cmp_locations(bs_prob, ids):\n",
    "    location = dict()\n",
    "    for cid in bs_prob.iterkeys():\n",
    "        cur_prob = 0.\n",
    "        for bsid, prob in bs_prob[cid].iteritems():\n",
    "            if bsid not in ids:\n",
    "                continue\n",
    "            cur_prob += prob\n",
    "        if cur_prob != 0.:\n",
    "            location[cid] = cur_prob\n",
    "    return location\n",
    "\n",
    "def predict(test, bs_grids, bs_prob, grid, graph, weights):\n",
    "    pred = dict()\n",
    "    for tr_id, traj in test.iteritems():\n",
    "        ws = copy.copy(weights)\n",
    "#         if tr_id != 1:\n",
    "#             continue\n",
    "        # 识别端点没用，场景不同\n",
    "        head_ids = [get_bsid(traj[0])]\n",
    "        temp = cmp_locations(bs_prob, head_ids)\n",
    "        head_loc = max(temp.iterkeys(), key=lambda x: temp[x])\n",
    "        sids = [segid for segid in graph.iterkeys() if head_loc in graph[segid][0]]\n",
    "        tail_ids = [get_bsid(traj[-1])]\n",
    "        temp = cmp_locations(bs_prob, tail_ids)\n",
    "        tail_loc = max(temp.iterkeys(), key=lambda x: temp[x])\n",
    "        eids = [segid for segid in graph.iterkeys() if tail_loc in graph[segid][0]]\n",
    "        # 中间点概率\n",
    "        inter_ids = [get_bsid(traj[i]) for i in range(1, len(traj)-1)]\n",
    "        score = cmp_locations(bs_prob, inter_ids)\n",
    "        cnt_dict = dict()\n",
    "        for cid, prob in score.iteritems():\n",
    "            for segid, data in graph.iteritems():\n",
    "                if cid in data[0]:\n",
    "                    if segid not in cnt_dict.keys():\n",
    "                        cnt_dict[segid] = []\n",
    "                    cnt_dict[segid].append(cid)\n",
    "        for segid, cids in cnt_dict.iteritems():\n",
    "            costs = [score[cid] for cid in cids]\n",
    "            ws[segid] /= (np.mean(costs) + 0.1 * max(costs))\n",
    "        visited, path = tools.dijkstra(graph, ws, sids[0], eids[0])\n",
    "        results = []\n",
    "        try:\n",
    "            if len(path)!=0:\n",
    "                cur_node = eids[0]\n",
    "                results.append(cur_node)\n",
    "                while cur_node!=sids[0]:\n",
    "                    cur_node = path[cur_node]\n",
    "                    results.append(cur_node)\n",
    "                results.append(cur_node)\n",
    "                pred[tr_id] = results\n",
    "            else:\n",
    "                pred[tr_id] = [sids[0]]\n",
    "        except:\n",
    "            print 'TrajID=',tr_id, 'start=',sids[0], 'end=',eids[0], 'path=', path\n",
    "    return pred"
   ]
  },
  {
   "cell_type": "code",
   "execution_count": 422,
   "metadata": {
    "collapsed": false,
    "scrolled": true
   },
   "outputs": [
    {
     "name": "stdout",
     "output_type": "stream",
     "text": [
      "TrajID= 12 start= 297471511 end= 183383510 path= {411257680: 297471511, 297471868: 297471511}\n",
      "TrajID= 13 start= 71365287 end= 297471511 path= {189478402: 189030461, 189478403: 183383975, 189478404: 189478403, 189478405: 189030462, 189478406: 189030461, 189478407: 183383975, 189478408: 189030461, 176867858: 50773682, 176867860: 176867858, 125469722: 189030462, 585005600: 136752696, 189248347: 183383504, 181555244: 189030462, 179222574: 49247486, 179222575: 189030461, 181555252: 387456857, 387456862: 49247579, 136752696: 71461992, 136752698: 71461992, 189248351: 189248348, 136752700: 136752696, 482847293: 136752698, 189030462: 183964294, 136752707: 136752698, 238492232: 71365279, 136752713: 136752696, 125465016: 183383974, 183389273: 136752698, 183389274: 183389276, 183389276: 183389273, 183389277: 183389276, 37695072: 189030462, 71461990: 71461992, 71461991: 50773679, 71461992: 50773680, 71461993: 50773679, 49247354: 49247579, 183964294: 176687547, 183383489: 183383505, 384616587: 24474427, 71365268: 71365269, 71365269: 71365287, 71365270: 71365287, 71365273: 71365270, 71365274: 177222986, 71365275: 429009395, 71365278: 176869563, 71365279: 71365278, 50773676: 50773680, 50773678: 50773682, 50773679: 50773680, 50773680: 50773682, 50773682: 50773688, 50773683: 50773688, 50773685: 50773678, 50773687: 50773688, 50773688: 239999357, 176869563: 176869344, 176869564: 176869344, 176869565: 176869563, 136797046: 176869565, 183383493: 183383489, 44064462: 239999357, 184542422: 183962593, 184542423: 183383504, 183383503: 379035417, 193137379: 193137381, 193137381: 24474427, 183383507: 49247575, 183388132: 24474427, 49247486: 183389276, 380537302: 125461259, 125461259: 183383508, 380537316: 379036007, 125461262: 125465015, 125461263: 125465020, 379035416: 379035417, 379035417: 183389273, 183962596: 125461259, 585008420: 71365287, 585008421: 585008420, 24465993: 183383509, 24474427: 136752698, 380537312: 380537311, 191911307: 191911302, 183962593: 183383504, 177222986: 71365273, 585005388: 49212357, 49247573: 49247576, 49247574: 49247575, 49247575: 49247581, 49247576: 49247581, 387456857: 37695072, 387456858: 49247579, 49247579: 39687155, 189248348: 125461259, 49247581: 183383504, 189248350: 183383504, 387456863: 49247579, 189248352: 183383508, 585007969: 585005388, 585007970: 585005388, 585007971: 49212393, 379036007: 39687155, 189030461: 189478405, 239999350: 176637362, 380537321: 379036007, 239999357: 71365268, 189248349: 189248350, 191911301: 49247486, 191911302: 125465020, 191911303: 183383502, 191911304: 183383500, 191911305: 125465020, 191911306: 183383508, 49212299: 49212385, 191911308: 183388132, 191911309: 125465020, 49212311: 49212357, 585005977: 49212388, 585005978: 585005979, 585005979: 136752696, 433248156: 239999350, 433248157: 239999350, 433248158: 415816176, 433248159: 415816176, 433248160: 415816176, 176873889: 71461991, 49212315: 49212385, 183383972: 125465020, 183383973: 183383972, 183383974: 183383975, 183383975: 379035417, 39676332: 71365287, 176637362: 39687617, 585008115: 49212393, 176686005: 136752698, 125465015: 384616587, 24465848: 39687617, 176687546: 136752698, 176687547: 136752698, 125465020: 24474427, 24474442: 71365287, 183383487: 183383489, 183383488: 189030461, 39687617: 71461991, 183383490: 183383509, 183383491: 183383975, 183383492: 183383490, 49212357: 585008420, 183383494: 183383487, 183383495: 183383499, 183383496: 24465993, 183383497: 183383492, 183383498: 183383500, 183383499: 49247576, 183383500: 49247486, 183383502: 183964294, 429009395: 71365268, 183383504: 379035417, 183383505: 183383508, 183383506: 183383508, 39676323: 49212357, 183383508: 379035417, 183383509: 183383491, 183383510: 39687155, 380537305: 379036007, 380537310: 379036007, 380537311: 379036007, 176869344: 239999357, 49212385: 585008420, 183962594: 183383508, 183962595: 49247581, 49212388: 49212357, 380537317: 379036007, 380537319: 380537316, 49212393: 49212357, 183962597: 125465020, 380537324: 380537316, 49247485: 183383975, 415816176: 239999350, 585008114: 49212357, 39687155: 176637362, 39676319: 24474442, 415816190: 415816191, 415816191: 39687155}\n",
      "TrajID= 14 start= 183383510 end= 297471511 path= {189478402: 189478406, 189478403: 183383974, 189478404: 189478403, 189478405: 37695072, 189478406: 183383488, 189478407: 183383975, 189478408: 189478403, 176867858: 50773682, 176867860: 176867858, 125469722: 37695072, 49212357: 585008420, 585005600: 136752696, 189248347: 183383504, 181555244: 189478405, 179222574: 49247485, 179222575: 183383973, 181555252: 183383975, 189248350: 183383504, 136752696: 176687547, 136752698: 176687547, 189248351: 189248348, 136752700: 136752696, 189030461: 179222575, 189030462: 37695072, 136752707: 136752696, 238492232: 71365279, 24465993: 183383510, 49212388: 49212315, 24465848: 39687617, 183389273: 136752696, 183389274: 49247486, 183389276: 49247486, 183389277: 183389276, 37695072: 183383975, 71461990: 50773679, 71461991: 24474427, 71461992: 50773679, 71461993: 71461991, 39676323: 24474442, 49247354: 183383510, 183964294: 189030462, 183383489: 183383487, 384616587: 125465015, 71365268: 239999357, 71365269: 71365268, 71365270: 71365273, 71365273: 177222986, 71365274: 71365275, 71365275: 50773688, 71365278: 176869563, 71365279: 71365278, 71365287: 71365269, 50773676: 50773680, 50773678: 71461992, 50773679: 71461991, 50773680: 50773679, 50773682: 50773680, 50773683: 50773680, 50773685: 50773676, 50773687: 50773682, 50773688: 50773682, 176869563: 44064462, 176869564: 44064462, 176869565: 176869563, 136797046: 176869565, 44064462: 50773680, 184542422: 184542423, 184542423: 183383510, 193137379: 193137381, 193137381: 24474427, 49247485: 183383509, 49247486: 179222574, 125461259: 49247573, 380537316: 379036007, 125461262: 125461263, 125461263: 191911307, 379035416: 183383504, 379035417: 183383975, 183962596: 125461259, 585008420: 71365270, 585008421: 585008420, 380537317: 379036007, 24474427: 37695072, 136752713: 136752696, 380537312: 380537311, 49212299: 49212385, 183962593: 184542422, 177222986: 71365274, 585005388: 49212388, 49247573: 49247576, 49247574: 49247575, 49247575: 183383507, 49247576: 49247575, 387456857: 181555252, 387456858: 49247579, 49247579: 125461262, 189248348: 49247573, 49247581: 183383510, 387456862: 183383507, 387456863: 125461262, 189248352: 189248348, 585007969: 585005977, 585007970: 585005388, 585007971: 585008114, 379036007: 183383510, 585008115: 585008114, 482847293: 136752696, 239999350: 176637362, 380537321: 379036007, 239999357: 50773688, 189248349: 189248347, 191911301: 49247486, 191911302: 191911305, 191911303: 183383502, 191911304: 49247485, 191911305: 183383972, 191911306: 183383508, 191911307: 191911305, 191911308: 189030461, 191911309: 191911307, 49212311: 49212315, 585005977: 49212388, 585005978: 49212388, 49212315: 49212385, 433248156: 239999350, 433248157: 239999350, 433248158: 415816176, 433248159: 415816176, 433248160: 415816176, 176873889: 71461991, 585005979: 49212388, 183383972: 183383973, 183383973: 183383509, 183383974: 179222575, 183383975: 183383491, 39676332: 238492232, 176637362: 39687617, 429009395: 239999357, 176686005: 136752696, 125465015: 125465016, 125465016: 179222575, 176687546: 136752696, 176687547: 183964294, 125465020: 183383972, 24474442: 136752696, 183383487: 183383509, 183383488: 183383975, 39687617: 71461991, 183383490: 183383509, 183383491: 183383509, 183383492: 183383490, 183383493: 183383487, 183383494: 183383509, 183383495: 183383499, 183383496: 183383510, 183383497: 183383492, 183383498: 183383505, 183383499: 183383510, 183383500: 183383498, 183383502: 183383503, 183383503: 183383975, 183383504: 183383510, 183383505: 183383489, 183383506: 183383510, 183383507: 183962597, 183383508: 183383510, 183383509: 24465993, 380537302: 189248352, 380537305: 379036007, 380537310: 379036007, 380537311: 379036007, 176869344: 50773685, 49212385: 585008420, 183962594: 183962593, 183962595: 49247581, 183388132: 189030461, 183962597: 191911307, 380537319: 380537316, 49212393: 585007971, 380537324: 380537316, 415816176: 239999350, 585008114: 49212388, 39687155: 183383510, 39676319: 24474442, 415816190: 415816191, 415816191: 39687155}\n",
      "TrajID= 15 start= 297471511 end= 183383510 path= {411257680: 297471511, 297471868: 297471511}\n"
     ]
    }
   ],
   "source": [
    "pred = predict(test, bs_grids, bs_prob, grid, graph, weights)"
   ]
  },
  {
   "cell_type": "code",
   "execution_count": 423,
   "metadata": {
    "collapsed": true
   },
   "outputs": [],
   "source": [
    "def evaluate(test, pred, match_res, grid, graph):\n",
    "    errors = []\n",
    "    for tr_id in pred.iterkeys():\n",
    "        matched = match_res[tr_id]\n",
    "        traj = test[tr_id]\n",
    "        coors = []\n",
    "        for segid in pred[tr_id]:\n",
    "            cids = graph[segid][0]\n",
    "            coors.extend([grid.cell2utm(cid) for cid in cids])\n",
    "        line = LineString(coors)\n",
    "        for old_idx, point in traj:\n",
    "            piece_match = matched[old_idx]\n",
    "            rid, lat, lng = piece_match[3:6]\n",
    "            x, y, _, _ = utm.from_latlon(lat, lng)\n",
    "            errors.append(Point((x,y)).distance(line))\n",
    "    return errors\n",
    "errors = evaluate(test, pred, match_res, grid, graph)"
   ]
  },
  {
   "cell_type": "code",
   "execution_count": 426,
   "metadata": {
    "collapsed": false
   },
   "outputs": [
    {
     "data": {
      "text/plain": [
       "(8.413186752644833, 916.3532039095452, 127.83374666679434)"
      ]
     },
     "execution_count": 426,
     "metadata": {},
     "output_type": "execute_result"
    }
   ],
   "source": [
    "np.median(errors), np.max(errors), np.mean(errors)"
   ]
  },
  {
   "cell_type": "code",
   "execution_count": 427,
   "metadata": {
    "collapsed": false
   },
   "outputs": [],
   "source": [
    "with open(data_path + 'result/' + 'cell_.pkl', 'w') as fout:\n",
    "    pickle.dump(errors, file=fout)"
   ]
  },
  {
   "cell_type": "code",
   "execution_count": 425,
   "metadata": {
    "collapsed": false
   },
   "outputs": [
    {
     "data": {
      "image/png": "[encoded data removed]",
      "text/plain": [
       "<Figure size 432x288 with 1 Axes>"
      ]
     },
     "metadata": {},
     "output_type": "display_data"
    }
   ],
   "source": [
    "def plot_median(precision, xlabel, ylabel, title, n_count=10):\n",
    "    precision = sorted(precision)\n",
    "    def make_XY(precision, n_count):\n",
    "        count = len(precision)\n",
    "        step = int(count / n_count)\n",
    "        X = [precision[i] for i in range(step-1,count,step)]\n",
    "        Y = np.cumsum([1.0/n_count] * n_count)\n",
    "        return X, Y\n",
    "    X, Y = make_XY(precision, n_count)\n",
    "    plt.plot(X, Y, 'r-^')\n",
    "    plt.legend(['Cell*'], loc='best')\n",
    "    plt.title(title)\n",
    "    plt.xlabel(xlabel)\n",
    "    plt.ylabel(ylabel)\n",
    "    plt.show()\n",
    "plt.close('all')\n",
    "plot_median(errors, 'deviation', 'CDF', 'Cell*')"
   ]
  },
  {
   "cell_type": "code",
   "execution_count": null,
   "metadata": {
    "collapsed": true
   },
   "outputs": [],
   "source": []
  }
 ],
 "metadata": {
  "kernelspec": {
   "display_name": "Python 2",
   "language": "python",
   "name": "python2"
  },
  "language_info": {
   "codemirror_mode": {
    "name": "ipython",
    "version": 2
   },
   "file_extension": ".py",
   "mimetype": "text/x-python",
   "name": "python",
   "nbconvert_exporter": "python",
   "pygments_lexer": "ipython2",
   "version": "2.7.13"
  }
 },
 "nbformat": 4,
 "nbformat_minor": 2
}
