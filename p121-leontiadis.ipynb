{
 "cells": [
  {
   "cell_type": "code",
   "execution_count": 1,
   "metadata": {
    "collapsed": true
   },
   "outputs": [],
   "source": [
    "import numpy as np\n",
    "import pandas as pd\n",
    "import utm\n",
    "import math\n",
    "import pickle\n",
    "import os\n",
    "import sys\n",
    "sys.path.append('./src')\n",
    "import time\n",
    "import datetime\n",
    "from collections import defaultdict\n",
    "import matplotlib\n",
    "import matplotlib.pyplot as plt\n",
    "from shapely.geometry import Point, LineString\n",
    "import copy"
   ]
  },
  {
   "cell_type": "code",
   "execution_count": 12,
   "metadata": {
    "collapsed": true
   },
   "outputs": [],
   "source": [
    "import hmm, uni_hmm\n",
    "from data_cleaning import noise, load, counter"
   ]
  },
  {
   "cell_type": "markdown",
   "metadata": {},
   "source": [
    "# Cell Tower PDF"
   ]
  },
  {
   "cell_type": "code",
   "execution_count": 4,
   "metadata": {
    "collapsed": false
   },
   "outputs": [],
   "source": [
    "load = reload(load)\n",
    "file_2g = './data/jiading/data_2g.csv'\n",
    "gongcan_2g = './data/jiading/2g_gongcan.csv'\n",
    "final_gongcan_2g = './data/jiading/final_2g_gongcan.csv'"
   ]
  },
  {
   "cell_type": "code",
   "execution_count": 5,
   "metadata": {
    "collapsed": false
   },
   "outputs": [
    {
     "name": "stdout",
     "output_type": "stream",
     "text": [
      "Unique Cell Tower:  81\n",
      "Duplicated cell towers: [[66, 67, 68], [35, 36], [53, 54], [69, 70, 71], [40, 41], [56, 57], [61, 62, 63]]\n",
      "Totally duplicate: 86\n",
      "len(db): 72 len(towers): 91\n"
     ]
    }
   ],
   "source": [
    "db, db_gps, towers = load.load_2g(file_2g, gongcan_2g, merge_tower=False, neighbor=False, with_rssi=False, radio_angle=False, context=False)\n",
    "print 'len(db):', len(db), 'len(towers):', len(towers)"
   ]
  },
  {
   "cell_type": "code",
   "execution_count": 6,
   "metadata": {
    "collapsed": false
   },
   "outputs": [
    {
     "name": "stdout",
     "output_type": "stream",
     "text": [
      "Traj ID=0\n",
      "0->1:286m\t\n",
      "discard[0:0]=0m\tkeep[1:24]as id=0\t\n",
      "Traj ID=1\n",
      "7->8:510m\t\n",
      "discard[0:7]=0m\tkeep[9:157]as id=1\t\n",
      "Traj ID=2\n",
      "1->2:330m\t\n",
      "discard[0:1]=0m\tkeep[3:77]as id=2\t\n",
      "Traj ID=3\n",
      "\n",
      "keep[1:33]as id=3\t\n",
      "Traj ID=4\n",
      "0->1:394m\t\n",
      "discard[0:0]=0m\tkeep[2:44]as id=4\t\n",
      "Traj ID=5\n",
      "1->2:118m\t\n",
      "discard[0:1]=0m\tkeep[3:48]as id=5\t\n",
      "Traj ID=6\n",
      "1->2:522m\t112->113:752m\t133->134:116m\t\n",
      "discard[0:1]=0m\ttrimed[0,89] keep[2:23]as id=6\tdiscard[113:133]=33m\tdiscard[134:135]=0m\t\n",
      "Traj ID=7\n",
      "9->10:101m\t\n",
      "discard[0:9]=0m\tkeep[10:112]as id=7\t\n",
      "Traj ID=8\n",
      "\n",
      "keep[0:373]as id=8\t\n",
      "Traj ID=9\n",
      "1->2:947m\t\n",
      "discard[0:1]=0m\tkeep[2:341]as id=9\t\n",
      "Traj ID=10\n",
      "\n",
      "keep[0:420]as id=10\t\n",
      "Traj ID=11\n",
      "\n",
      "keep[1:295]as id=11\t\n",
      "Traj ID=12\n",
      "\n",
      "keep[1:422]as id=12\t\n",
      "Traj ID=13\n",
      "35->36:838m\t\n",
      "discard[0:35]=0m\tkeep[37:1015]as id=13\t\n",
      "Traj ID=14\n",
      "\n",
      "keep[1:826]as id=14\t\n",
      "Traj ID=15\n",
      "42->43:667m\t\n",
      "keep[5:42]as id=15\tkeep[43:114]as id=16\t\n",
      "Traj ID=16\n",
      "2->3:482m\t345->346:714m\t\n",
      "discard[0:2]=0m\tkeep[6:345]as id=17\tkeep[346:853]as id=18\t\n",
      "Traj ID=17\n",
      "\n",
      "trimed[1,12] keep[1:234]as id=19\t\n",
      "Traj ID=18\n",
      "3->4:150m\t\n",
      "discard[0:3]=0m\ttrimed[5,92] keep[9:255]as id=20\t\n",
      "Traj ID=19\n",
      "98->99:468m\t\n",
      "discard[0:98]=0m\tkeep[103:325]as id=21\t\n",
      "Traj ID=20\n",
      "\n",
      "keep[6:189]as id=22\t\n",
      "Traj ID=21\n",
      "40->41:104m\t\n",
      "discard[0:40]=58m\tkeep[43:256]as id=23\t\n",
      "Traj ID=22\n",
      "8->9:569m\t\n",
      "discard[0:8]=0m\tkeep[11:189]as id=24\t\n",
      "Traj ID=23\n",
      "\n",
      "keep[6:426]as id=25\t\n",
      "Traj ID=24\n",
      "3->4:1075m\t\n",
      "discard[0:3]=0m\tkeep[5:188]as id=26\t\n",
      "Traj ID=25\n",
      "5->6:479m\t\n",
      "discard[0:5]=0m\ttrimed[7,28] keep[13:271]as id=27\t\n",
      "Traj ID=26\n",
      "38->39:917m\t\n",
      "discard[0:38]=0m\tkeep[42:411]as id=28\t\n",
      "Traj ID=27\n",
      "31->32:180m\t\n",
      "discard[0:31]=0m\ttrimed[1,11] keep[33:518]as id=29\t\n",
      "Traj ID=28\n",
      "\n",
      "keep[0:83]as id=30\t\n",
      "Traj ID=29\n",
      "\n",
      "keep[1:88]as id=31\t\n",
      "Traj ID=30\n",
      "\n",
      "keep[1:60]as id=32\t\n",
      "Traj ID=31\n",
      "\n",
      "keep[2:144]as id=33\t\n",
      "Traj ID=32\n",
      "\n",
      "keep[1:238]as id=34\t\n",
      "Traj ID=33\n",
      "\n",
      "keep[1:79]as id=35\t\n",
      "Traj ID=34\n",
      "\n",
      "keep[1:107]as id=36\t\n",
      "Traj ID=35\n",
      "\n",
      "keep[1:118]as id=37\t\n",
      "Traj ID=36\n",
      "\n",
      "keep[1:88]as id=38\t\n",
      "Traj ID=37\n",
      "\n",
      "keep[2:113]as id=39\t\n",
      "Traj ID=38\n",
      "\n",
      "keep[0:87]as id=40\t\n",
      "Traj ID=39\n",
      "\n",
      "keep[2:180]as id=41\t\n",
      "Traj ID=40\n",
      "\n",
      "keep[1:53]as id=42\t\n",
      "Traj ID=41\n",
      "\n",
      "keep[1:97]as id=43\t\n",
      "Traj ID=42\n",
      "\n",
      "keep[1:134]as id=44\t\n",
      "Traj ID=43\n",
      "\n",
      "keep[1:74]as id=45\t\n",
      "Traj ID=44\n",
      "\n",
      "keep[0:53]as id=46\t\n",
      "Traj ID=45\n",
      "\n",
      "keep[4:75]as id=47\t\n",
      "Traj ID=46\n",
      "\n",
      "keep[0:74]as id=48\t\n",
      "Traj ID=47\n",
      "1->2:605m\t\n",
      "discard[0:1]=0m\tkeep[2:52]as id=49\t\n",
      "Traj ID=48\n",
      "\n",
      "trimed[4,16] keep[4:222]as id=50\t\n",
      "Traj ID=49\n",
      "\n",
      "keep[2:316]as id=51\t\n",
      "Traj ID=50\n",
      "2->3:125m\t\n",
      "discard[0:2]=0m\tkeep[4:112]as id=52\t\n",
      "Traj ID=51\n",
      "0->1:281m\t\n",
      "discard[0:0]=0m\tkeep[1:75]as id=53\t\n",
      "Traj ID=52\n",
      "\n",
      "keep[2:51]as id=54\t\n",
      "Traj ID=53\n",
      "1->2:157m\t\n",
      "discard[0:1]=0m\tkeep[2:74]as id=55\t\n",
      "Traj ID=54\n",
      "\n",
      "keep[1:54]as id=56\t\n",
      "Traj ID=55\n",
      "\n",
      "keep[1:50]as id=57\t\n",
      "Traj ID=56\n",
      "\n",
      "keep[1:57]as id=58\t\n",
      "Traj ID=57\n",
      "1->2:121m\t\n",
      "discard[0:1]=0m\tkeep[2:48]as id=59\t\n",
      "Traj ID=58\n",
      "\n",
      "keep[1:106]as id=60\t\n",
      "Traj ID=59\n",
      "0->1:274m\t\n",
      "discard[0:0]=0m\tkeep[1:85]as id=61\t\n",
      "Traj ID=60\n",
      "11->12:143m\t\n",
      "discard[0:11]=0m\tkeep[13:59]as id=62\t\n",
      "Traj ID=61\n",
      "26->27:360m\t\n",
      "discard[0:26]=0m\tkeep[30:60]as id=63\t\n",
      "Traj ID=62\n",
      "\n",
      "keep[1:84]as id=64\t\n",
      "Traj ID=63\n",
      "\n",
      "keep[0:476]as id=65\t\n",
      "Traj ID=64\n",
      "\n",
      "keep[1:61]as id=66\t\n",
      "Traj ID=65\n",
      "\n",
      "keep[1:88]as id=67\t\n",
      "Traj ID=66\n",
      "\n",
      "keep[0:88]as id=68\t\n",
      "Traj ID=67\n",
      "\n",
      "keep[0:80]as id=69\t\n",
      "Traj ID=68\n",
      "19->20:108m\t\n",
      "discard[0:19]=0m\tkeep[21:64]as id=70\t\n",
      "Traj ID=69\n",
      "\n",
      "trimed[2,15] keep[2:69]as id=71\t\n",
      "Traj ID=70\n",
      "\n",
      "keep[1:48]as id=72\t\n",
      "Traj ID=71\n",
      "25->26:353m\t\n",
      "discard[0:25]=0m\tkeep[26:75]as id=73\t\n"
     ]
    },
    {
     "data": {
      "text/plain": [
       "(74, 74)"
      ]
     },
     "execution_count": 6,
     "metadata": {},
     "output_type": "execute_result"
    }
   ],
   "source": [
    "noise = reload(noise)\n",
    "dbs = noise.clean_db(db, max_dist=100, min_dist=100, min_len=10, max_again=10, debug=True)\n",
    "dbs_gps = noise.clean_db_gps(db_gps, max_dist=100, min_dist=100, min_len=10, max_again=10, debug=False)\n",
    "len(dbs), len(dbs_gps)"
   ]
  },
  {
   "cell_type": "code",
   "execution_count": 7,
   "metadata": {
    "collapsed": false
   },
   "outputs": [
    {
     "name": "stdout",
     "output_type": "stream",
     "text": [
      "traj id= 1 150 140\n",
      "traj id= 13 980 976\n",
      "traj id= 22 190 167\n",
      "traj id= 23 216 198\n",
      "traj id= 25 427 420\n",
      "traj id= 26 185 149\n",
      "traj id= 41 181 173\n",
      "traj id= 44 136 131\n",
      "traj id= 50 219 218\n",
      "traj id= 51 322 316\n",
      "traj id= 63 34 32\n",
      "traj id= 67 89 87\n",
      "traj id= 72 50 44\n"
     ]
    }
   ],
   "source": [
    "load = reload(load)\n",
    "noise = reload(noise)\n",
    "match_res, time_set = load.load_matching('./data/jiading/matching_out', len(dbs), 50)\n",
    "dbs = noise.reclean(dbs, time_set, debug=True)\n",
    "dbs_gps = noise.reclean(dbs_gps, time_set)"
   ]
  },
  {
   "cell_type": "code",
   "execution_count": 10,
   "metadata": {
    "collapsed": false
   },
   "outputs": [],
   "source": [
    "hmm = reload(hmm)\n",
    "# train:(origin idx, origin feature)\n",
    "# train, test = hmm.k_split(dbs, k=4)\n",
    "train, test, gps3 = hmm.k_g_split(dbs, k=4, gpsize=0.0)"
   ]
  },
  {
   "cell_type": "code",
   "execution_count": 14,
   "metadata": {
    "collapsed": false
   },
   "outputs": [],
   "source": [
    "uni_hmm = reload(uni_hmm)\n",
    "bounding_box = (328000, 331000, 3462000, 3465000)\n",
    "side = 30\n",
    "sag = uni_hmm.Sag(side, bounding_box)"
   ]
  },
  {
   "cell_type": "code",
   "execution_count": 21,
   "metadata": {
    "collapsed": true
   },
   "outputs": [],
   "source": [
    "tower_param = dict()\n",
    "for val in towers.itervalues():\n",
    "    index, lat, lng = val[:3]\n",
    "    x, y, _, _ = utm.from_latlon(lat, lng)\n",
    "    tower_param[index] = sag.utm2index(x, y)"
   ]
  },
  {
   "cell_type": "code",
   "execution_count": 24,
   "metadata": {
    "collapsed": true
   },
   "outputs": [],
   "source": [
    "tower_dict = dict()\n",
    "for tr_id, traj in train.iteritems():\n",
    "    for old_idx, point in traj:\n",
    "        x, y = point[:2]\n",
    "        tower = point[2]\n",
    "        cx, cy = sag.utm2index(x, y)\n",
    "        tx, ty = tower_param[tower]\n",
    "        dist = math.floor(math.sqrt((tx-cx)**2 + (ty-cy)**2))\n",
    "        if not tower_dict.has_key(tower):\n",
    "            tower_dict[tower] = dict()\n",
    "        if not tower_dict[tower].has_key(dist):\n",
    "            tower_dict[tower][dist] = 0\n",
    "        tower_dict[tower][dist] += 1"
   ]
  },
  {
   "cell_type": "code",
   "execution_count": 27,
   "metadata": {
    "collapsed": false
   },
   "outputs": [
    {
     "data": {
      "text/plain": [
       "{24.0: 0.00906344410876133,\n",
       " 25.0: 0.0030211480362537764,\n",
       " 26.0: 0.006042296072507553,\n",
       " 27.0: 0.01812688821752266,\n",
       " 28.0: 0.006042296072507553,\n",
       " 29.0: 0.03323262839879154,\n",
       " 30.0: 0.07854984894259819,\n",
       " 31.0: 0.13595166163141995,\n",
       " 32.0: 0.08459214501510574,\n",
       " 33.0: 0.04833836858006042,\n",
       " 34.0: 0.06948640483383686,\n",
       " 35.0: 0.015105740181268883,\n",
       " 36.0: 0.05740181268882175,\n",
       " 37.0: 0.006042296072507553,\n",
       " 38.0: 0.12084592145015106,\n",
       " 39.0: 0.08459214501510574,\n",
       " 40.0: 0.0634441087613293,\n",
       " 41.0: 0.06042296072507553,\n",
       " 42.0: 0.012084592145015106,\n",
       " 43.0: 0.00906344410876133,\n",
       " 44.0: 0.021148036253776436,\n",
       " 46.0: 0.01812688821752266,\n",
       " 47.0: 0.012084592145015106,\n",
       " 48.0: 0.00906344410876133,\n",
       " 50.0: 0.015105740181268883,\n",
       " 52.0: 0.0030211480362537764}"
      ]
     },
     "execution_count": 27,
     "metadata": {},
     "output_type": "execute_result"
    }
   ],
   "source": [
    "tower_dict[2]"
   ]
  },
  {
   "cell_type": "code",
   "execution_count": 26,
   "metadata": {
    "collapsed": false
   },
   "outputs": [],
   "source": [
    "for tower_id, cell_dict in tower_dict.iteritems():\n",
    "    total = sum(cell_dict.itervalues())\n",
    "    for dist, cnt in cell_dict.iteritems():\n",
    "        cell_dict[dist] = cnt * 1.0 / total"
   ]
  },
  {
   "cell_type": "code",
   "execution_count": null,
   "metadata": {
    "collapsed": true
   },
   "outputs": [],
   "source": [
    "tower_id = 2\n",
    "cell_dict = tower_dict[tower_id]\n"
   ]
  }
 ],
 "metadata": {
  "kernelspec": {
   "display_name": "Python 2",
   "language": "python",
   "name": "python2"
  },
  "language_info": {
   "codemirror_mode": {
    "name": "ipython",
    "version": 2
   },
   "file_extension": ".py",
   "mimetype": "text/x-python",
   "name": "python",
   "nbconvert_exporter": "python",
   "pygments_lexer": "ipython2",
   "version": "2.7.13"
  }
 },
 "nbformat": 4,
 "nbformat_minor": 2
}
