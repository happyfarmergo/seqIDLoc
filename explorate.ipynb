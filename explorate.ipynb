{
 "cells": [
  {
   "cell_type": "code",
   "execution_count": 1,
   "metadata": {
    "collapsed": true
   },
   "outputs": [],
   "source": [
    "import numpy as np\n",
    "import pandas as pd\n",
    "import utm\n",
    "import math\n",
    "import pickle\n",
    "import os\n",
    "import sys\n",
    "sys.path.append('./src')\n",
    "import time\n",
    "import datetime\n",
    "from collections import defaultdict\n",
    "import matplotlib\n",
    "import matplotlib.pyplot as plt\n",
    "from shapely.geometry import Point, LineString\n",
    "import copy\n",
    "\n",
    "import display_osm\n",
    "import plot\n",
    "import tools\n",
    "import uni_hmm\n",
    "import celltower as ctcrawler\n",
    "from data_cleaning import noise, load, counter"
   ]
  },
  {
   "cell_type": "code",
   "execution_count": 2,
   "metadata": {
    "collapsed": true
   },
   "outputs": [],
   "source": [
    "load = reload(load)\n",
    "file_2g = './data/jiading/data_2g.csv'\n",
    "gongcan_2g = './data/jiading/2g_gongcan.csv'\n",
    "final_gongcan_2g = './data/jiading/final_2g_gongcan.csv'"
   ]
  },
  {
   "cell_type": "code",
   "execution_count": 3,
   "metadata": {
    "collapsed": false
   },
   "outputs": [
    {
     "name": "stdout",
     "output_type": "stream",
     "text": [
      "Unique Cell Tower:  81\n",
      "Duplicated cell towers: [[66, 67, 68], [35, 36], [53, 54], [69, 70, 71], [40, 41], [56, 57], [61, 62, 63]]\n",
      "Totally duplicate: 86\n",
      "len(db): 73\n"
     ]
    }
   ],
   "source": [
    "db, db_gps, towers = load.load_2g(file_2g, gongcan_2g, merge_tower=False, neighbor=True, with_rssi=False, radio_angle=True, context=False)\n",
    "print 'len(db):', len(db)"
   ]
  },
  {
   "cell_type": "code",
   "execution_count": 8,
   "metadata": {
    "collapsed": false
   },
   "outputs": [
    {
     "data": {
      "text/plain": [
       "26"
      ]
     },
     "execution_count": 8,
     "metadata": {},
     "output_type": "execute_result"
    }
   ],
   "source": [
    "r_towers = dict()\n",
    "for t, info in towers.iteritems():\n",
    "    if info[-2]!=-1:\n",
    "        r_towers[info[0]] = info[1:]\n",
    "len(r_towers)"
   ]
  },
  {
   "cell_type": "code",
   "execution_count": 28,
   "metadata": {
    "collapsed": false
   },
   "outputs": [],
   "source": [
    "distribute = dict()\n",
    "summary = []\n",
    "for tr_id, traj in db.iteritems():\n",
    "    for idx, point in enumerate(traj):\n",
    "        if not r_towers.has_key(point[2]):\n",
    "            continue\n",
    "        tower_id = point[2]\n",
    "        x1, y1 = point[0], point[1]\n",
    "        lat, lng, azimuth, _ = r_towers[point[2]]\n",
    "        x0, y0, _, _ = utm.from_latlon(lat, lng)\n",
    "        v1 = (x1 - x0, y1 - y0)\n",
    "        v0 = (0, 1)\n",
    "        cos_theta = (y1 - y0) / math.sqrt((x1-x0)**2 + (y1-y0)**2)\n",
    "        theta = math.acos(cos_theta) / math.pi * 180\n",
    "        if v1[0] < 0:\n",
    "            theta = 360 - theta\n",
    "        if not distribute.has_key(tower_id):\n",
    "            distribute[tower_id] = []\n",
    "        angle_dist = abs(theta - azimuth)\n",
    "        summary.append((tower_id, min(angle_dist, 360 - angle_dist)))\n",
    "        distribute[tower_id].append(min(angle_dist, 360 - angle_dist))"
   ]
  },
  {
   "cell_type": "code",
   "execution_count": 14,
   "metadata": {
    "collapsed": false
   },
   "outputs": [
    {
     "name": "stdout",
     "output_type": "stream",
     "text": [
      "TowerID=34, (23, 23)\n",
      "TowerID=35, (15, 18)\n",
      "TowerID=36, (15, 33)\n",
      "TowerID=39, (0, 55)\n",
      "TowerID=40, (118, 179)\n",
      "TowerID=41, (0, 77)\n",
      "TowerID=52, (27, 27)\n",
      "TowerID=53, (34, 49)\n",
      "TowerID=54, (67, 87)\n",
      "TowerID=55, (111, 179)\n",
      "TowerID=56, (38, 43)\n",
      "TowerID=57, (0, 29)\n",
      "TowerID=59, (61, 79)\n",
      "TowerID=61, (0, 122)\n",
      "TowerID=62, (0, 116)\n",
      "TowerID=63, (0, 179)\n",
      "TowerID=65, (63, 160)\n",
      "TowerID=66, (0, 56)\n",
      "TowerID=67, (0, 93)\n",
      "TowerID=68, (15, 63)\n",
      "TowerID=69, (0, 110)\n",
      "TowerID=70, (0, 71)\n",
      "TowerID=71, (0, 173)\n"
     ]
    }
   ],
   "source": [
    "for tower_id, distri in distribute.iteritems():\n",
    "#     if tower_id!=34:\n",
    "#         continue\n",
    "    print 'TowerID=%d, (%d, %d)' % (tower_id, min(distri), max(distri))"
   ]
  },
  {
   "cell_type": "code",
   "execution_count": null,
   "metadata": {
    "collapsed": true
   },
   "outputs": [],
   "source": [
    "plt.bar(range(len(distribute), height=distribute.values()))\n"
   ]
  },
  {
   "cell_type": "code",
   "execution_count": 29,
   "metadata": {
    "collapsed": true
   },
   "outputs": [],
   "source": [
    "data = pd.DataFrame(summary, columns=['TowerID', 'Angle'])"
   ]
  },
  {
   "cell_type": "code",
   "execution_count": 30,
   "metadata": {
    "collapsed": false
   },
   "outputs": [
    {
     "data": {
      "text/html": [
       "<div>\n",
       "<table border=\"1\" class=\"dataframe\">\n",
       "  <thead>\n",
       "    <tr style=\"text-align: right;\">\n",
       "      <th></th>\n",
       "      <th>TowerID</th>\n",
       "      <th>Angle</th>\n",
       "    </tr>\n",
       "  </thead>\n",
       "  <tbody>\n",
       "    <tr>\n",
       "      <th>0</th>\n",
       "      <td>62</td>\n",
       "      <td>88.815487</td>\n",
       "    </tr>\n",
       "    <tr>\n",
       "      <th>1</th>\n",
       "      <td>62</td>\n",
       "      <td>47.198898</td>\n",
       "    </tr>\n",
       "    <tr>\n",
       "      <th>2</th>\n",
       "      <td>63</td>\n",
       "      <td>171.336734</td>\n",
       "    </tr>\n",
       "    <tr>\n",
       "      <th>3</th>\n",
       "      <td>63</td>\n",
       "      <td>172.425409</td>\n",
       "    </tr>\n",
       "    <tr>\n",
       "      <th>4</th>\n",
       "      <td>63</td>\n",
       "      <td>172.890593</td>\n",
       "    </tr>\n",
       "  </tbody>\n",
       "</table>\n",
       "</div>"
      ],
      "text/plain": [
       "   TowerID       Angle\n",
       "0       62   88.815487\n",
       "1       62   47.198898\n",
       "2       63  171.336734\n",
       "3       63  172.425409\n",
       "4       63  172.890593"
      ]
     },
     "execution_count": 30,
     "metadata": {},
     "output_type": "execute_result"
    }
   ],
   "source": [
    "data.head()"
   ]
  },
  {
   "cell_type": "code",
   "execution_count": 32,
   "metadata": {
    "collapsed": false
   },
   "outputs": [],
   "source": [
    "import seaborn as sns\n",
    "sns.set(style=\"ticks\")\n",
    "data = pd.DataFrame(summary, columns=['TowerID', 'Angle'])\n",
    "sns.boxplot(x=\"TowerID\", y=\"Angle\", data=data, palette=\"PRGn\")\n",
    "sns.despine(offset=10, trim=True)"
   ]
  },
  {
   "cell_type": "code",
   "execution_count": 34,
   "metadata": {
    "collapsed": false
   },
   "outputs": [],
   "source": [
    "plt.savefig('./data/jiading/result/azimuth.png')"
   ]
  },
  {
   "cell_type": "code",
   "execution_count": null,
   "metadata": {
    "collapsed": true
   },
   "outputs": [],
   "source": []
  }
 ],
 "metadata": {
  "kernelspec": {
   "display_name": "Python 2",
   "language": "python",
   "name": "python2"
  },
  "language_info": {
   "codemirror_mode": {
    "name": "ipython",
    "version": 2
   },
   "file_extension": ".py",
   "mimetype": "text/x-python",
   "name": "python",
   "nbconvert_exporter": "python",
   "pygments_lexer": "ipython2",
   "version": "2.7.13"
  }
 },
 "nbformat": 4,
 "nbformat_minor": 2
}
